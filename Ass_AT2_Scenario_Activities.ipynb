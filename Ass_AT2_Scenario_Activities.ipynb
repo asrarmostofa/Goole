{
  "nbformat": 4,
  "nbformat_minor": 0,
  "metadata": {
    "colab": {
      "provenance": []
    },
    "kernelspec": {
      "name": "python3",
      "display_name": "Python 3"
    },
    "language_info": {
      "name": "python"
    }
  },
  "cells": [
    {
      "cell_type": "code",
      "execution_count": null,
      "metadata": {
        "id": "vofsBqC3SD58"
      },
      "outputs": [],
      "source": [
        "import random"
      ]
    },
    {
      "cell_type": "code",
      "source": [
        "#### Activity 1: Rock Paper Scissors – 2 players"
      ],
      "metadata": {
        "id": "mf_OMGNGW9yq"
      },
      "execution_count": null,
      "outputs": []
    },
    {
      "cell_type": "code",
      "source": [],
      "metadata": {
        "id": "-Bqy3trpAWUe"
      },
      "execution_count": null,
      "outputs": []
    },
    {
      "cell_type": "code",
      "source": [
        "import random\n",
        "\n",
        "# Function to determine the winner of a round\n",
        "def determine_winner(player1_choice, player2_choice):\n",
        "    if player1_choice == player2_choice:\n",
        "        return \"It's a tie!\"\n",
        "    elif (\n",
        "        (player1_choice == \"rock\" and player2_choice == \"scissors\") or\n",
        "        (player1_choice == \"scissors\" and player2_choice == \"paper\") or\n",
        "        (player1_choice == \"paper\" and player2_choice == \"rock\")\n",
        "    ):\n",
        "        return \"Player 1 wins!\"\n",
        "    else:\n",
        "        return \"Player 2 wins!\"\n",
        "\n",
        "# Function to play a round\n",
        "def play_round():\n",
        "    player1_choice = input(\"Player 1, enter your choice (rock, paper, scissors): \").lower()\n",
        "    player2_choice = input(\"Player 2, enter your choice (rock, paper, scissors): \").lower()\n",
        "\n",
        "    if player1_choice not in [\"rock\", \"paper\", \"scissors\"] or player2_choice not in [\"rock\", \"paper\", \"scissors\"]:\n",
        "        print(\"Invalid input. Please choose from rock, paper, or scissors.\")\n",
        "        return None\n",
        "\n",
        "    result = determine_winner(player1_choice, player2_choice)\n",
        "    print(result)\n",
        "\n",
        "# Function to play the game\n",
        "def play_game():\n",
        "    print(\"Welcome to Rock, Paper, Scissors - 2 players!\")\n",
        "    player1_name = input(\"Enter Player 1's name: \")\n",
        "    player2_name = input(\"Enter Player 2's name: \")\n",
        "\n",
        "    rounds = 0\n",
        "    player1_score = 0\n",
        "    player2_score = 0\n",
        "\n",
        "    while True:\n",
        "        print(f\"\\nRound {rounds + 1}:\")\n",
        "        play_round()\n",
        "\n",
        "        play_again = input(\"Do you want to play another round? (yes/no): \").lower()\n",
        "        if play_again != \"yes\":\n",
        "            break\n",
        "\n",
        "        rounds += 1\n",
        "\n",
        "    print(\"\\nGame Over!\")\n",
        "    print(f\"Final Score:\")\n",
        "    print(f\"{player1_name}: {player1_score}\")\n",
        "    print(f\"{player2_name}: {player2_score}\")\n",
        "    print(\"Thank you for playing!\")\n",
        "\n",
        "# Start the game\n",
        "play_game()\n"
      ],
      "metadata": {
        "colab": {
          "base_uri": "https://localhost:8080/"
        },
        "id": "fztcPYOaTIMs",
        "outputId": "33123797-94c4-437c-dd0e-2cc430805716"
      },
      "execution_count": null,
      "outputs": [
        {
          "output_type": "stream",
          "name": "stdout",
          "text": [
            "Welcome to Rock, Paper, Scissors - 2 players!\n",
            "Enter Player 1's name: asr\n",
            "Enter Player 2's name: soh\n",
            "\n",
            "Round 1:\n",
            "Player 1, enter your choice (rock, paper, scissors): rock\n",
            "Player 2, enter your choice (rock, paper, scissors): paper\n",
            "Player 2 wins!\n",
            "Do you want to play another round? (yes/no): no\n",
            "\n",
            "Game Over!\n",
            "Final Score:\n",
            "asr: 0\n",
            "soh: 0\n",
            "Thank you for playing!\n"
          ]
        }
      ]
    },
    {
      "cell_type": "code",
      "source": [],
      "metadata": {
        "id": "LiLct0JEW-xJ"
      },
      "execution_count": null,
      "outputs": []
    },
    {
      "cell_type": "code",
      "source": [
        "#### Activity 2: Multiplication Tables Generation"
      ],
      "metadata": {
        "id": "SH1bWB3fW-6B"
      },
      "execution_count": null,
      "outputs": []
    },
    {
      "cell_type": "code",
      "source": [],
      "metadata": {
        "id": "-5-BMEVTAikT"
      },
      "execution_count": null,
      "outputs": []
    },
    {
      "cell_type": "code",
      "source": [
        "# Function to generate and display a multiplication table\n",
        "def generate_multiplication_table(multiplicand, multiplier, times):\n",
        "    print(f\"Multiplication Table for {multiplicand} times {multiplier} from 1 to {times}:\\n\")\n",
        "    print(\"Multiplicand x Multiplier = Product\")\n",
        "\n",
        "    for i in range(1, times + 1):\n",
        "        product = multiplicand * multiplier * i\n",
        "        print(f\"{i} x {multiplier} = {product}\")\n",
        "\n",
        "# Function to play the game\n",
        "def play_game():\n",
        "    print(\"Welcome to Multiplication Tables Generation!\")\n",
        "    user_name = input(\"Enter your name: \")\n",
        "    print(f\"Hello, {user_name}!\")\n",
        "\n",
        "    multiplicand = int(input(\"Enter the multiplicand: \"))\n",
        "    multiplier = int(input(\"Enter the multiplier: \"))\n",
        "    times = int(input(\"Enter the number of times to display: \"))\n",
        "\n",
        "    print(f\"\\nGenerating the {multiplicand} times {multiplier} table from 1 to {times}...\\n\")\n",
        "    generate_multiplication_table(multiplicand, multiplier, times)\n",
        "\n",
        "    print(\"\\nThank you for using Multiplication Tables Generation!\")\n",
        "\n",
        "# Start the game\n",
        "play_game()\n"
      ],
      "metadata": {
        "colab": {
          "base_uri": "https://localhost:8080/"
        },
        "id": "dvA9gH5-W-9z",
        "outputId": "6edb7f2a-c7a9-41af-efcf-6fbb7e21d790"
      },
      "execution_count": null,
      "outputs": [
        {
          "output_type": "stream",
          "name": "stdout",
          "text": [
            "Welcome to Multiplication Tables Generation!\n",
            "Enter your name: asr\n",
            "Hello, asr!\n",
            "Enter the multiplicand: 1\n",
            "Enter the multiplier: 6\n",
            "Enter the number of times to display: 12\n",
            "\n",
            "Generating the 1 times 6 table from 1 to 12...\n",
            "\n",
            "Multiplication Table for 1 times 6 from 1 to 12:\n",
            "\n",
            "Multiplicand x Multiplier = Product\n",
            "1 x 6 = 6\n",
            "2 x 6 = 12\n",
            "3 x 6 = 18\n",
            "4 x 6 = 24\n",
            "5 x 6 = 30\n",
            "6 x 6 = 36\n",
            "7 x 6 = 42\n",
            "8 x 6 = 48\n",
            "9 x 6 = 54\n",
            "10 x 6 = 60\n",
            "11 x 6 = 66\n",
            "12 x 6 = 72\n",
            "\n",
            "Thank you for using Multiplication Tables Generation!\n"
          ]
        }
      ]
    },
    {
      "cell_type": "code",
      "source": [
        "# Function to get a valid numeric input\n",
        "def get_numeric_input(prompt):\n",
        "    while True:\n",
        "        try:\n",
        "            value = int(input(prompt))\n",
        "            return value\n",
        "        except ValueError:\n",
        "            print(\"Invalid input. Please enter a valid numeric value.\")\n",
        "\n",
        "# Function to generate and display a multiplication table\n",
        "def generate_multiplication_table(multiplicand, multiplier, times):\n",
        "    print(f\"Multiplication Table for {multiplicand} times {multiplier} from 1 to {times}:\\n\")\n",
        "    print(\"Multiplicand x Multiplier = Product\")\n",
        "\n",
        "    for i in range(1, times + 1):\n",
        "        product = multiplicand * multiplier * i\n",
        "        print(f\"{i} x {multiplier} = {product}\")\n",
        "\n",
        "# Function to play the game\n",
        "def play_game():\n",
        "    print(\"Welcome to Multiplication Tables Generation!\")\n",
        "    user_name = input(\"Enter your name: \")\n",
        "    print(f\"Hello, {user_name}!\")\n",
        "\n",
        "    multiplicand = get_numeric_input(\"Enter the multiplicand: \")\n",
        "    multiplier = get_numeric_input(\"Enter the multiplier: \")\n",
        "    times = get_numeric_input(\"Enter the number of times to display: \")\n",
        "\n",
        "    print(f\"\\nGenerating the {multiplicand} times {multiplier} table from 1 to {times}...\\n\")\n",
        "    generate_multiplication_table(multiplicand, multiplier, times)\n",
        "\n",
        "    print(\"\\nThank you for using Multiplication Tables Generation!\")\n",
        "\n",
        "# Start the game\n",
        "play_game()\n"
      ],
      "metadata": {
        "colab": {
          "base_uri": "https://localhost:8080/"
        },
        "id": "Dk84bEORXAAw",
        "outputId": "b3638b54-166b-4920-ac26-cf2121849f54"
      },
      "execution_count": null,
      "outputs": [
        {
          "output_type": "stream",
          "name": "stdout",
          "text": [
            "Welcome to Multiplication Tables Generation!\n",
            "Enter your name: asr\n",
            "Hello, asr!\n",
            "Enter the multiplicand: 1\n",
            "Enter the multiplier: 6\n",
            "Enter the number of times to display: 12\n",
            "\n",
            "Generating the 1 times 6 table from 1 to 12...\n",
            "\n",
            "Multiplication Table for 1 times 6 from 1 to 12:\n",
            "\n",
            "Multiplicand x Multiplier = Product\n",
            "1 x 6 = 6\n",
            "2 x 6 = 12\n",
            "3 x 6 = 18\n",
            "4 x 6 = 24\n",
            "5 x 6 = 30\n",
            "6 x 6 = 36\n",
            "7 x 6 = 42\n",
            "8 x 6 = 48\n",
            "9 x 6 = 54\n",
            "10 x 6 = 60\n",
            "11 x 6 = 66\n",
            "12 x 6 = 72\n",
            "\n",
            "Thank you for using Multiplication Tables Generation!\n"
          ]
        }
      ]
    },
    {
      "cell_type": "code",
      "source": [],
      "metadata": {
        "id": "uFdqlrlNXAF_"
      },
      "execution_count": null,
      "outputs": []
    },
    {
      "cell_type": "code",
      "source": [
        "#### Activity 3: Caesar Cipher"
      ],
      "metadata": {
        "id": "N8tfeBo_Ayh2"
      },
      "execution_count": null,
      "outputs": []
    },
    {
      "cell_type": "code",
      "source": [],
      "metadata": {
        "id": "-b5cmqqFAymI"
      },
      "execution_count": null,
      "outputs": []
    },
    {
      "cell_type": "code",
      "source": [
        "# Function to encrypt a plaintext using the Caesar Cipher\n",
        "def caesar_cipher_encrypt(plaintext, key):\n",
        "    # Define the English alphabet\n",
        "    alphabet = 'ABCDEFGHIJKLMNOPQRSTUVWXYZ'\n",
        "\n",
        "    # Convert the plaintext to uppercase\n",
        "    plaintext = plaintext.upper()\n",
        "\n",
        "    # Initialize an empty ciphertext\n",
        "    ciphertext = ''\n",
        "\n",
        "    for char in plaintext:\n",
        "        if char == ' ':\n",
        "            # Skip spaces\n",
        "            ciphertext += ' '\n",
        "        elif char == '.':\n",
        "            # Replace full stop with 'X'\n",
        "            ciphertext += 'X'\n",
        "        elif char in alphabet:\n",
        "            # Shift the letter by the key value\n",
        "            index = alphabet.index(char)\n",
        "            shifted_index = (index + key) % 26\n",
        "            ciphertext += alphabet[shifted_index]\n",
        "        else:\n",
        "            # Keep non-alphabetic characters unchanged\n",
        "            ciphertext += char\n",
        "\n",
        "    return ciphertext\n",
        "\n",
        "# Function to decrypt a ciphertext using the Caesar Cipher\n",
        "def caesar_cipher_decrypt(ciphertext, key):\n",
        "    # Define the English alphabet\n",
        "    alphabet = 'ABCDEFGHIJKLMNOPQRSTUVWXYZ'\n",
        "\n",
        "    # Initialize an empty plaintext\n",
        "    plaintext = ''\n",
        "\n",
        "    for char in ciphertext:\n",
        "        if char == ' ':\n",
        "            # Skip spaces\n",
        "            plaintext += ' '\n",
        "        elif char == 'X':\n",
        "            # Replace 'X' with full stop\n",
        "            plaintext += '.'\n",
        "        elif char in alphabet:\n",
        "            # Shift the letter back by the key value\n",
        "            index = alphabet.index(char)\n",
        "            shifted_index = (index - key) % 26\n",
        "            plaintext += alphabet[shifted_index]\n",
        "        else:\n",
        "            # Keep non-alphabetic characters unchanged\n",
        "            plaintext += char\n",
        "\n",
        "    return plaintext\n",
        "\n",
        "# Function to play the Caesar Cipher game\n",
        "def play_caesar_cipher():\n",
        "    print(\"Welcome to Caesar Cipher Encryption and Decryption!\")\n",
        "    plaintext = input(\"Enter the plaintext message: \")\n",
        "    key = int(input(\"Enter the encryption key (a positive or negative integer): \"))\n",
        "\n",
        "    # Encrypt the plaintext\n",
        "    ciphertext = caesar_cipher_encrypt(plaintext, key)\n",
        "\n",
        "    # Decrypt the ciphertext to get the original plaintext (for verification)\n",
        "    decrypted_text = caesar_cipher_decrypt(ciphertext, key)\n",
        "\n",
        "    print(\"\\nCiphertext:\", ciphertext)\n",
        "    print(\"\\nDecrypted Text:\", decrypted_text)\n",
        "\n",
        "    print(\"\\nThank you for using Caesar Cipher!\")\n",
        "\n",
        "# Start the Caesar Cipher game\n",
        "play_caesar_cipher()\n"
      ],
      "metadata": {
        "colab": {
          "base_uri": "https://localhost:8080/"
        },
        "id": "vDz405t6W_BO",
        "outputId": "300cd671-98bf-4b22-dbd2-0a4070660146"
      },
      "execution_count": null,
      "outputs": [
        {
          "output_type": "stream",
          "name": "stdout",
          "text": [
            "Welcome to Caesar Cipher Encryption and Decryption!\n",
            "Enter the plaintext message: MEET ME IN THE HOTEL LOBBY AT THREE PM\n",
            "Enter the encryption key (a positive or negative integer): 3\n",
            "\n",
            "Ciphertext: PHHW PH LQ WKH KRWHO OREEB DW WKUHH SP\n",
            "\n",
            "Decrypted Text: MEET ME IN THE HOTEL LOBBY AT THREE PM\n",
            "\n",
            "Thank you for using Caesar Cipher!\n"
          ]
        }
      ]
    },
    {
      "cell_type": "code",
      "source": [
        "#### Activity 3: Caesar Cipher"
      ],
      "metadata": {
        "id": "rEvEAvyXW_Eu"
      },
      "execution_count": null,
      "outputs": []
    },
    {
      "cell_type": "code",
      "source": [],
      "metadata": {
        "id": "QkKxMgS_Bs1T"
      },
      "execution_count": null,
      "outputs": []
    },
    {
      "cell_type": "code",
      "source": [],
      "metadata": {
        "id": "X-WrlhJlBtTz"
      },
      "execution_count": null,
      "outputs": []
    },
    {
      "cell_type": "code",
      "source": [
        "def caesar_cipher(text, shift):\n",
        "    result = []\n",
        "\n",
        "    for char in text:\n",
        "        if char.isalpha():\n",
        "            is_upper = char.isupper()\n",
        "            char = char.upper()\n",
        "            char_code = ord(char)\n",
        "            char_code = ((char_code - 65 + shift) % 26) + 65\n",
        "            if not is_upper:\n",
        "                char_code = char_code + 32  # Convert back to lowercase if the original character was lowercase\n",
        "            result.append(chr(char_code))\n",
        "        elif char == ' ':\n",
        "            result.append(' ')  # Keep spaces as is\n",
        "        elif char == '.':\n",
        "            result.append('X')  # Convert full stop '.' to 'X'\n",
        "\n",
        "    return ''.join(result)\n",
        "\n",
        "def main():\n",
        "    plaintext = input(\"Enter the plaintext: \")\n",
        "    plaintext = plaintext.replace('.', 'X')  # Replace full stop '.' with 'X'\n",
        "    shift = int(input(\"Enter the Caesar Cipher shift key: \"))\n",
        "\n",
        "    ciphertext = caesar_cipher(plaintext, shift)\n",
        "\n",
        "    print(\"Ciphertext:\", ciphertext)\n",
        "\n",
        "if __name__ == \"__main__\":\n",
        "    main()\n"
      ],
      "metadata": {
        "colab": {
          "base_uri": "https://localhost:8080/"
        },
        "id": "7siTJr9p4R5t",
        "outputId": "0c3e5913-5ea4-4fd5-9923-20ae47446f36"
      },
      "execution_count": null,
      "outputs": [
        {
          "output_type": "stream",
          "name": "stdout",
          "text": [
            "Enter the plaintext: MEET ME IN THE HOTEL LOBBY AT THREE PM\n",
            "Enter the Caesar Cipher shift key: 3\n",
            "Ciphertext: PHHW PH LQ WKH KRWHO OREEB DW WKUHH SP\n"
          ]
        }
      ]
    },
    {
      "cell_type": "code",
      "source": [
        "if __name__ == \"__main__\":\n",
        "    main()\n",
        "\n",
        "def main():\n",
        "    print(\"Welcome to Caesar Cipher Encryption and Decryption!\")\n",
        "    plaintext = input(\"Enter the plaintext: \")\n",
        "    plaintext = plaintext.replace('.', 'X')  # Replace full stop '.' with 'X'\n",
        "    shift = int(input(\"Enter the Caesar Cipher shift key: \"))  # Provide a valid integer here\n",
        "\n",
        "    ciphertext = caesar_cipher(plaintext, shift)\n",
        "    print(\"\\nCiphertext:\", ciphertext)\n",
        "\n",
        "    decrypted_text = caesar_cipher(ciphertext, -shift)  # Decrypt by shifting in the opposite direction\n",
        "    decrypted_text = decrypted_text.replace('X', '.')  # Replace 'X' with full stop '.'\n",
        "    print(\"\\nDecrypted Text:\", decrypted_text)\n",
        "\n",
        "    print(\"\\nThank you for using Caesar Cipher!\")\n"
      ],
      "metadata": {
        "colab": {
          "base_uri": "https://localhost:8080/"
        },
        "id": "Aw9hdO4G5S51",
        "outputId": "602c1a79-5a2c-4271-b4f1-499b7a4ac42f"
      },
      "execution_count": null,
      "outputs": [
        {
          "output_type": "stream",
          "name": "stdout",
          "text": [
            "Enter the plaintext: MEET ME IN THE HOTEL LOBBY AT THREE PM\n",
            "Enter the Caesar Cipher shift key: 3\n",
            "Ciphertext: PHHW PH LQ WKH KRWHO OREEB DW WKUHH SP\n"
          ]
        }
      ]
    },
    {
      "cell_type": "code",
      "source": [],
      "metadata": {
        "id": "B9vl2uvT4R9U"
      },
      "execution_count": null,
      "outputs": []
    },
    {
      "cell_type": "code",
      "source": [],
      "metadata": {
        "id": "n3Zhk5Uz_lHY"
      },
      "execution_count": null,
      "outputs": []
    },
    {
      "cell_type": "code",
      "source": [],
      "metadata": {
        "id": "aOTgvM6i_lLe"
      },
      "execution_count": null,
      "outputs": []
    },
    {
      "cell_type": "code",
      "source": [
        "##### THIS IS NOT NECESSARY FOR YOU... JOST FOR INHANCE KNOWLEDGE .....\n"
      ],
      "metadata": {
        "id": "CLqhwqiE_lP1"
      },
      "execution_count": null,
      "outputs": []
    },
    {
      "cell_type": "code",
      "source": [
        "import string\n",
        "\n",
        "def is_palindrome(input_string):\n",
        "    # Remove spaces and punctuation\n",
        "    input_string = ''.join(char for char in input_string if char not in string.punctuation and char != ' ')\n",
        "\n",
        "    # Convert to lowercase\n",
        "    input_string = input_string.lower()\n",
        "\n",
        "    # Check if it's a palindrome\n",
        "    return input_string == input_string[::-1]\n",
        "\n",
        "# Test the function\n",
        "user_input = input(\"Enter a string to check if it's a palindrome: \")\n",
        "if is_palindrome(user_input):\n",
        "    print(\"It's a palindrome!\")\n",
        "else:\n",
        "    print(\"It's not a palindrome.\")\n"
      ],
      "metadata": {
        "colab": {
          "base_uri": "https://localhost:8080/"
        },
        "id": "DplW-6ku8gjm",
        "outputId": "92e15ddd-a4de-4d7f-e9d2-b6c13adeced0"
      },
      "execution_count": null,
      "outputs": [
        {
          "output_type": "stream",
          "name": "stdout",
          "text": [
            "Enter a string to check if it's a palindrome: A man, a plan, a canal, Panama\n",
            "It's a palindrome!\n"
          ]
        }
      ]
    },
    {
      "cell_type": "code",
      "source": [
        "def fibonacci_sequence(n):\n",
        "    a, b = 0, 1\n",
        "    sequence = []\n",
        "    for _ in range(n):\n",
        "        sequence.append(a)\n",
        "        a, b = b, a + b\n",
        "    return sequence\n",
        "\n",
        "# Get the number of terms from the user\n",
        "try:\n",
        "    num_terms = int(input(\"Enter the number of Fibonacci terms to generate: \"))\n",
        "    if num_terms <= 0:\n",
        "        print(\"Please enter a positive integer.\")\n",
        "    else:\n",
        "        fib_sequence = fibonacci_sequence(num_terms)\n",
        "        print(\"Fibonacci Sequence:\")\n",
        "        print(fib_sequence)\n",
        "except ValueError:\n",
        "    print(\"Invalid input. Please enter a positive integer.\")\n"
      ],
      "metadata": {
        "colab": {
          "base_uri": "https://localhost:8080/"
        },
        "id": "WuUkG6yQ8gq7",
        "outputId": "6dbb4358-ba8a-432a-cb21-9e7d98168515"
      },
      "execution_count": null,
      "outputs": [
        {
          "output_type": "stream",
          "name": "stdout",
          "text": [
            "Enter the number of Fibonacci terms to generate: 10\n",
            "Fibonacci Sequence:\n",
            "[0, 1, 1, 2, 3, 5, 8, 13, 21, 34]\n"
          ]
        }
      ]
    },
    {
      "cell_type": "code",
      "source": [],
      "metadata": {
        "id": "0rkM7ABL8gt_"
      },
      "execution_count": null,
      "outputs": []
    },
    {
      "cell_type": "code",
      "source": [
        "\n",
        "\n",
        "\n",
        "\n"
      ],
      "metadata": {
        "id": "fKN9mrig4SAk"
      },
      "execution_count": null,
      "outputs": []
    },
    {
      "cell_type": "code",
      "source": [],
      "metadata": {
        "id": "YhF9tB3D4SDY"
      },
      "execution_count": null,
      "outputs": []
    },
    {
      "cell_type": "code",
      "source": [],
      "metadata": {
        "id": "hLSfblqh4SGQ"
      },
      "execution_count": null,
      "outputs": []
    }
  ]
}