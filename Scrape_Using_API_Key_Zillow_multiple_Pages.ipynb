{
  "cells": [
    {
      "cell_type": "code",
      "source": [
        "import requests\n",
        "import pandas as pd\n",
        "import time\n",
        "import os\n",
        "import getpass"
      ],
      "metadata": {
        "id": "SHmDhpXw0p1Q"
      },
      "execution_count": null,
      "outputs": []
    },
    {
      "cell_type": "code",
      "source": [
        "def get_zillow_listings(api_key, listing_url):\n",
        "    base_url = \"https://app.scrapeak.com/v1/scrapers/zillow/listing\"\n",
        "    params = {\n",
        "        \"api_key\": api_key,\n",
        "        \"url\": listing_url\n",
        "    }\n",
        "    response = requests.get(base_url, params=params)\n",
        "    return response\n"
      ],
      "metadata": {
        "id": "MF0AFEv20pqw"
      },
      "execution_count": null,
      "outputs": []
    },
    {
      "cell_type": "code",
      "source": [
        "def extract_listings(response):\n",
        "    try:\n",
        "        listings = response.json()['data']['cat1']['searchResults']['listResults']\n",
        "        return listings\n",
        "    except KeyError:\n",
        "        print(\"⚠️ Unexpected JSON structure. Skipping page.\")\n",
        "        return []\n"
      ],
      "metadata": {
        "id": "uiWJ36B10unA"
      },
      "execution_count": null,
      "outputs": []
    },
    {
      "cell_type": "code",
      "source": [
        "def format_listings(raw_listings):\n",
        "    formatted = []\n",
        "    for x in raw_listings:\n",
        "        if 'hdpData' in x and x['hdpData']['homeInfo']['homeType'] == 'SINGLE_FAMILY':\n",
        "            home_info = x['hdpData']['homeInfo']\n",
        "            d = {\n",
        "                'zpid': x['zpid'],\n",
        "                'url': x.get('detailUrl'),\n",
        "                'img': x.get('imgSrc'),\n",
        "                'price': x.get('unformattedPrice'),\n",
        "                'address': x.get('address'),\n",
        "                'beds': x.get('beds'),\n",
        "                'baths': x.get('baths'),\n",
        "                'area': x.get('area'),\n",
        "                'homeType': home_info.get('homeType'),\n",
        "                'latitude': x['latLong'].get('latitude'),\n",
        "                'longitude': x['latLong'].get('longitude'),\n",
        "                'zestimate': home_info.get('zestimate'),\n",
        "                'rentZestimate': home_info.get('rentZestimate'),\n",
        "                'daysOnZillow': home_info.get('daysOnZillow'),\n",
        "                'priceChange': home_info.get('priceChange'),\n",
        "                'datePriceChanged': home_info.get('datePriceChanged'),\n",
        "                'availabilityDate': x.get('availabilityDate'),\n",
        "            }\n",
        "            formatted.append(d)\n",
        "    return formatted\n"
      ],
      "metadata": {
        "id": "ZnUBONW20ui4"
      },
      "execution_count": null,
      "outputs": []
    },
    {
      "cell_type": "code",
      "source": [
        "# Get API key securely\n",
        "api_key = getpass.getpass(\"🔐 Enter your ScrapeAK API key: \")"
      ],
      "metadata": {
        "id": "nx2VpBco0ueX",
        "outputId": "938956a5-d825-4590-c70d-e3cdbc41b106",
        "colab": {
          "base_uri": "https://localhost:8080/"
        }
      },
      "execution_count": null,
      "outputs": [
        {
          "name": "stdout",
          "output_type": "stream",
          "text": [
            "🔐 Enter your ScrapeAK API key: ··········\n"
          ]
        }
      ]
    },
    {
      "cell_type": "code",
      "source": [
        "# Base search URL for page 1 (San Francisco)\n",
        "base_url = \"https://www.zillow.com/san-francisco-ca/?searchQueryState=\"\n"
      ],
      "metadata": {
        "id": "zk9eZ6ap0uaH"
      },
      "execution_count": null,
      "outputs": []
    },
    {
      "cell_type": "code",
      "source": [
        "# Zillow's search state — we'll edit only the page number\n",
        "search_state_template = {\n",
        "  \"isMapVisible\": True,\n",
        "  \"mapBounds\": {\n",
        "    \"north\": 37.842914,\n",
        "    \"south\": 37.707608,\n",
        "    \"east\": -122.32992,\n",
        "    \"west\": -122.536739\n",
        "  },\n",
        "  \"usersSearchTerm\": \"San Francisco, CA\",\n",
        "  \"filterState\": {\n",
        "    \"sort\": {\n",
        "      \"value\": \"globalrelevanceex\"\n",
        "    }\n",
        "  },\n",
        "  \"isListVisible\": True,\n",
        "  \"regionSelection\": [{\n",
        "    \"regionId\": 20330,\n",
        "    \"regionType\": 6\n",
        "  }],\n",
        "  \"mapZoom\": 12\n",
        "}"
      ],
      "metadata": {
        "id": "lRHhHm970uVY"
      },
      "execution_count": null,
      "outputs": []
    },
    {
      "cell_type": "code",
      "source": [
        "# Loop through 5 pages\n",
        "all_listings = []\n",
        "for page in range(1, 6):\n",
        "    search_state = search_state_template.copy()\n",
        "    search_state[\"pagination\"] = {\"currentPage\": page}\n",
        "\n",
        "    import json\n",
        "    encoded_state = requests.utils.quote(json.dumps(search_state))\n",
        "    full_url = f\"https://www.zillow.com/san-francisco-ca/?searchQueryState={encoded_state}\"\n",
        "\n",
        "    print(f\"📄 Scraping Page {page}...\")\n",
        "    response = get_zillow_listings(api_key, full_url)\n",
        "    listings = extract_listings(response)\n",
        "    formatted = format_listings(listings)\n",
        "    all_listings.extend(formatted)\n",
        "    time.sleep(2)  # Be polite"
      ],
      "metadata": {
        "id": "pBgYGqmc1YxK",
        "outputId": "5c820c65-044d-4eac-f7fc-774a0da66f95",
        "colab": {
          "base_uri": "https://localhost:8080/"
        }
      },
      "execution_count": null,
      "outputs": [
        {
          "output_type": "stream",
          "name": "stdout",
          "text": [
            "📄 Scraping Page 1...\n",
            "📄 Scraping Page 2...\n",
            "📄 Scraping Page 3...\n",
            "📄 Scraping Page 4...\n",
            "📄 Scraping Page 5...\n"
          ]
        }
      ]
    },
    {
      "cell_type": "code",
      "source": [
        "# Save results\n",
        "df = pd.DataFrame(all_listings)"
      ],
      "metadata": {
        "id": "bHauIL6B1Ysw"
      },
      "execution_count": null,
      "outputs": []
    },
    {
      "cell_type": "code",
      "source": [
        "df.head(4)"
      ],
      "metadata": {
        "id": "miCA3yWv1Ynp",
        "outputId": "cd90a0f9-db20-4e8a-b9aa-10ae1771f41a",
        "colab": {
          "base_uri": "https://localhost:8080/",
          "height": 472
        }
      },
      "execution_count": null,
      "outputs": [
        {
          "output_type": "execute_result",
          "data": {
            "text/plain": [
              "         zpid                                                url  \\\n",
              "0   455063793  https://www.zillow.com/homedetails/839-Cole-St...   \n",
              "1    15153199  https://www.zillow.com/homedetails/939-Innes-A...   \n",
              "2  2060418645  https://www.zillow.com/homedetails/2360-Union-...   \n",
              "3    15128966  https://www.zillow.com/homedetails/173-Warren-...   \n",
              "\n",
              "                                                 img    price  \\\n",
              "0  https://photos.zillowstatic.com/fp/01b0c6b587e...  1395000   \n",
              "1  https://photos.zillowstatic.com/fp/13f7087e3aa...   759000   \n",
              "2  https://photos.zillowstatic.com/fp/4fdc29c5e53...   899000   \n",
              "3  https://photos.zillowstatic.com/fp/145eb4df113...  1249000   \n",
              "\n",
              "                                        address  beds  baths  area  \\\n",
              "0     839 Cole St #839, San Francisco, CA 94117     2    2.0  1240   \n",
              "1        939 Innes Ave, San Francisco, CA 94124     2    2.0  1475   \n",
              "2  2360 Union St APT 2, San Francisco, CA 94123     2    1.0     0   \n",
              "3        173 Warren Dr, San Francisco, CA 94131     3    2.0  1590   \n",
              "\n",
              "        homeType   latitude   longitude  zestimate  rentZestimate  \\\n",
              "0  SINGLE_FAMILY  37.766240 -122.450294        NaN            NaN   \n",
              "1  SINGLE_FAMILY  37.732243 -122.376724        NaN         4209.0   \n",
              "2  SINGLE_FAMILY  37.796978 -122.438220   880300.0         4862.0   \n",
              "3  SINGLE_FAMILY  37.753450 -122.459610        NaN         5274.0   \n",
              "\n",
              "   daysOnZillow  priceChange  datePriceChanged availabilityDate  \n",
              "0             7          NaN               NaN             None  \n",
              "1            12          NaN               NaN             None  \n",
              "2            76     -96000.0      1.750835e+12             None  \n",
              "3            10          NaN               NaN             None  "
            ],
            "text/html": [
              "\n",
              "  <div id=\"df-1388abd5-17d1-45d6-b5b8-6c3c92e8ab54\" class=\"colab-df-container\">\n",
              "    <div>\n",
              "<style scoped>\n",
              "    .dataframe tbody tr th:only-of-type {\n",
              "        vertical-align: middle;\n",
              "    }\n",
              "\n",
              "    .dataframe tbody tr th {\n",
              "        vertical-align: top;\n",
              "    }\n",
              "\n",
              "    .dataframe thead th {\n",
              "        text-align: right;\n",
              "    }\n",
              "</style>\n",
              "<table border=\"1\" class=\"dataframe\">\n",
              "  <thead>\n",
              "    <tr style=\"text-align: right;\">\n",
              "      <th></th>\n",
              "      <th>zpid</th>\n",
              "      <th>url</th>\n",
              "      <th>img</th>\n",
              "      <th>price</th>\n",
              "      <th>address</th>\n",
              "      <th>beds</th>\n",
              "      <th>baths</th>\n",
              "      <th>area</th>\n",
              "      <th>homeType</th>\n",
              "      <th>latitude</th>\n",
              "      <th>longitude</th>\n",
              "      <th>zestimate</th>\n",
              "      <th>rentZestimate</th>\n",
              "      <th>daysOnZillow</th>\n",
              "      <th>priceChange</th>\n",
              "      <th>datePriceChanged</th>\n",
              "      <th>availabilityDate</th>\n",
              "    </tr>\n",
              "  </thead>\n",
              "  <tbody>\n",
              "    <tr>\n",
              "      <th>0</th>\n",
              "      <td>455063793</td>\n",
              "      <td>https://www.zillow.com/homedetails/839-Cole-St...</td>\n",
              "      <td>https://photos.zillowstatic.com/fp/01b0c6b587e...</td>\n",
              "      <td>1395000</td>\n",
              "      <td>839 Cole St #839, San Francisco, CA 94117</td>\n",
              "      <td>2</td>\n",
              "      <td>2.0</td>\n",
              "      <td>1240</td>\n",
              "      <td>SINGLE_FAMILY</td>\n",
              "      <td>37.766240</td>\n",
              "      <td>-122.450294</td>\n",
              "      <td>NaN</td>\n",
              "      <td>NaN</td>\n",
              "      <td>7</td>\n",
              "      <td>NaN</td>\n",
              "      <td>NaN</td>\n",
              "      <td>None</td>\n",
              "    </tr>\n",
              "    <tr>\n",
              "      <th>1</th>\n",
              "      <td>15153199</td>\n",
              "      <td>https://www.zillow.com/homedetails/939-Innes-A...</td>\n",
              "      <td>https://photos.zillowstatic.com/fp/13f7087e3aa...</td>\n",
              "      <td>759000</td>\n",
              "      <td>939 Innes Ave, San Francisco, CA 94124</td>\n",
              "      <td>2</td>\n",
              "      <td>2.0</td>\n",
              "      <td>1475</td>\n",
              "      <td>SINGLE_FAMILY</td>\n",
              "      <td>37.732243</td>\n",
              "      <td>-122.376724</td>\n",
              "      <td>NaN</td>\n",
              "      <td>4209.0</td>\n",
              "      <td>12</td>\n",
              "      <td>NaN</td>\n",
              "      <td>NaN</td>\n",
              "      <td>None</td>\n",
              "    </tr>\n",
              "    <tr>\n",
              "      <th>2</th>\n",
              "      <td>2060418645</td>\n",
              "      <td>https://www.zillow.com/homedetails/2360-Union-...</td>\n",
              "      <td>https://photos.zillowstatic.com/fp/4fdc29c5e53...</td>\n",
              "      <td>899000</td>\n",
              "      <td>2360 Union St APT 2, San Francisco, CA 94123</td>\n",
              "      <td>2</td>\n",
              "      <td>1.0</td>\n",
              "      <td>0</td>\n",
              "      <td>SINGLE_FAMILY</td>\n",
              "      <td>37.796978</td>\n",
              "      <td>-122.438220</td>\n",
              "      <td>880300.0</td>\n",
              "      <td>4862.0</td>\n",
              "      <td>76</td>\n",
              "      <td>-96000.0</td>\n",
              "      <td>1.750835e+12</td>\n",
              "      <td>None</td>\n",
              "    </tr>\n",
              "    <tr>\n",
              "      <th>3</th>\n",
              "      <td>15128966</td>\n",
              "      <td>https://www.zillow.com/homedetails/173-Warren-...</td>\n",
              "      <td>https://photos.zillowstatic.com/fp/145eb4df113...</td>\n",
              "      <td>1249000</td>\n",
              "      <td>173 Warren Dr, San Francisco, CA 94131</td>\n",
              "      <td>3</td>\n",
              "      <td>2.0</td>\n",
              "      <td>1590</td>\n",
              "      <td>SINGLE_FAMILY</td>\n",
              "      <td>37.753450</td>\n",
              "      <td>-122.459610</td>\n",
              "      <td>NaN</td>\n",
              "      <td>5274.0</td>\n",
              "      <td>10</td>\n",
              "      <td>NaN</td>\n",
              "      <td>NaN</td>\n",
              "      <td>None</td>\n",
              "    </tr>\n",
              "  </tbody>\n",
              "</table>\n",
              "</div>\n",
              "    <div class=\"colab-df-buttons\">\n",
              "\n",
              "  <div class=\"colab-df-container\">\n",
              "    <button class=\"colab-df-convert\" onclick=\"convertToInteractive('df-1388abd5-17d1-45d6-b5b8-6c3c92e8ab54')\"\n",
              "            title=\"Convert this dataframe to an interactive table.\"\n",
              "            style=\"display:none;\">\n",
              "\n",
              "  <svg xmlns=\"http://www.w3.org/2000/svg\" height=\"24px\" viewBox=\"0 -960 960 960\">\n",
              "    <path d=\"M120-120v-720h720v720H120Zm60-500h600v-160H180v160Zm220 220h160v-160H400v160Zm0 220h160v-160H400v160ZM180-400h160v-160H180v160Zm440 0h160v-160H620v160ZM180-180h160v-160H180v160Zm440 0h160v-160H620v160Z\"/>\n",
              "  </svg>\n",
              "    </button>\n",
              "\n",
              "  <style>\n",
              "    .colab-df-container {\n",
              "      display:flex;\n",
              "      gap: 12px;\n",
              "    }\n",
              "\n",
              "    .colab-df-convert {\n",
              "      background-color: #E8F0FE;\n",
              "      border: none;\n",
              "      border-radius: 50%;\n",
              "      cursor: pointer;\n",
              "      display: none;\n",
              "      fill: #1967D2;\n",
              "      height: 32px;\n",
              "      padding: 0 0 0 0;\n",
              "      width: 32px;\n",
              "    }\n",
              "\n",
              "    .colab-df-convert:hover {\n",
              "      background-color: #E2EBFA;\n",
              "      box-shadow: 0px 1px 2px rgba(60, 64, 67, 0.3), 0px 1px 3px 1px rgba(60, 64, 67, 0.15);\n",
              "      fill: #174EA6;\n",
              "    }\n",
              "\n",
              "    .colab-df-buttons div {\n",
              "      margin-bottom: 4px;\n",
              "    }\n",
              "\n",
              "    [theme=dark] .colab-df-convert {\n",
              "      background-color: #3B4455;\n",
              "      fill: #D2E3FC;\n",
              "    }\n",
              "\n",
              "    [theme=dark] .colab-df-convert:hover {\n",
              "      background-color: #434B5C;\n",
              "      box-shadow: 0px 1px 3px 1px rgba(0, 0, 0, 0.15);\n",
              "      filter: drop-shadow(0px 1px 2px rgba(0, 0, 0, 0.3));\n",
              "      fill: #FFFFFF;\n",
              "    }\n",
              "  </style>\n",
              "\n",
              "    <script>\n",
              "      const buttonEl =\n",
              "        document.querySelector('#df-1388abd5-17d1-45d6-b5b8-6c3c92e8ab54 button.colab-df-convert');\n",
              "      buttonEl.style.display =\n",
              "        google.colab.kernel.accessAllowed ? 'block' : 'none';\n",
              "\n",
              "      async function convertToInteractive(key) {\n",
              "        const element = document.querySelector('#df-1388abd5-17d1-45d6-b5b8-6c3c92e8ab54');\n",
              "        const dataTable =\n",
              "          await google.colab.kernel.invokeFunction('convertToInteractive',\n",
              "                                                    [key], {});\n",
              "        if (!dataTable) return;\n",
              "\n",
              "        const docLinkHtml = 'Like what you see? Visit the ' +\n",
              "          '<a target=\"_blank\" href=https://colab.research.google.com/notebooks/data_table.ipynb>data table notebook</a>'\n",
              "          + ' to learn more about interactive tables.';\n",
              "        element.innerHTML = '';\n",
              "        dataTable['output_type'] = 'display_data';\n",
              "        await google.colab.output.renderOutput(dataTable, element);\n",
              "        const docLink = document.createElement('div');\n",
              "        docLink.innerHTML = docLinkHtml;\n",
              "        element.appendChild(docLink);\n",
              "      }\n",
              "    </script>\n",
              "  </div>\n",
              "\n",
              "\n",
              "    <div id=\"df-6620f7bd-a29f-4031-800e-08c1dd035ab6\">\n",
              "      <button class=\"colab-df-quickchart\" onclick=\"quickchart('df-6620f7bd-a29f-4031-800e-08c1dd035ab6')\"\n",
              "                title=\"Suggest charts\"\n",
              "                style=\"display:none;\">\n",
              "\n",
              "<svg xmlns=\"http://www.w3.org/2000/svg\" height=\"24px\"viewBox=\"0 0 24 24\"\n",
              "     width=\"24px\">\n",
              "    <g>\n",
              "        <path d=\"M19 3H5c-1.1 0-2 .9-2 2v14c0 1.1.9 2 2 2h14c1.1 0 2-.9 2-2V5c0-1.1-.9-2-2-2zM9 17H7v-7h2v7zm4 0h-2V7h2v10zm4 0h-2v-4h2v4z\"/>\n",
              "    </g>\n",
              "</svg>\n",
              "      </button>\n",
              "\n",
              "<style>\n",
              "  .colab-df-quickchart {\n",
              "      --bg-color: #E8F0FE;\n",
              "      --fill-color: #1967D2;\n",
              "      --hover-bg-color: #E2EBFA;\n",
              "      --hover-fill-color: #174EA6;\n",
              "      --disabled-fill-color: #AAA;\n",
              "      --disabled-bg-color: #DDD;\n",
              "  }\n",
              "\n",
              "  [theme=dark] .colab-df-quickchart {\n",
              "      --bg-color: #3B4455;\n",
              "      --fill-color: #D2E3FC;\n",
              "      --hover-bg-color: #434B5C;\n",
              "      --hover-fill-color: #FFFFFF;\n",
              "      --disabled-bg-color: #3B4455;\n",
              "      --disabled-fill-color: #666;\n",
              "  }\n",
              "\n",
              "  .colab-df-quickchart {\n",
              "    background-color: var(--bg-color);\n",
              "    border: none;\n",
              "    border-radius: 50%;\n",
              "    cursor: pointer;\n",
              "    display: none;\n",
              "    fill: var(--fill-color);\n",
              "    height: 32px;\n",
              "    padding: 0;\n",
              "    width: 32px;\n",
              "  }\n",
              "\n",
              "  .colab-df-quickchart:hover {\n",
              "    background-color: var(--hover-bg-color);\n",
              "    box-shadow: 0 1px 2px rgba(60, 64, 67, 0.3), 0 1px 3px 1px rgba(60, 64, 67, 0.15);\n",
              "    fill: var(--button-hover-fill-color);\n",
              "  }\n",
              "\n",
              "  .colab-df-quickchart-complete:disabled,\n",
              "  .colab-df-quickchart-complete:disabled:hover {\n",
              "    background-color: var(--disabled-bg-color);\n",
              "    fill: var(--disabled-fill-color);\n",
              "    box-shadow: none;\n",
              "  }\n",
              "\n",
              "  .colab-df-spinner {\n",
              "    border: 2px solid var(--fill-color);\n",
              "    border-color: transparent;\n",
              "    border-bottom-color: var(--fill-color);\n",
              "    animation:\n",
              "      spin 1s steps(1) infinite;\n",
              "  }\n",
              "\n",
              "  @keyframes spin {\n",
              "    0% {\n",
              "      border-color: transparent;\n",
              "      border-bottom-color: var(--fill-color);\n",
              "      border-left-color: var(--fill-color);\n",
              "    }\n",
              "    20% {\n",
              "      border-color: transparent;\n",
              "      border-left-color: var(--fill-color);\n",
              "      border-top-color: var(--fill-color);\n",
              "    }\n",
              "    30% {\n",
              "      border-color: transparent;\n",
              "      border-left-color: var(--fill-color);\n",
              "      border-top-color: var(--fill-color);\n",
              "      border-right-color: var(--fill-color);\n",
              "    }\n",
              "    40% {\n",
              "      border-color: transparent;\n",
              "      border-right-color: var(--fill-color);\n",
              "      border-top-color: var(--fill-color);\n",
              "    }\n",
              "    60% {\n",
              "      border-color: transparent;\n",
              "      border-right-color: var(--fill-color);\n",
              "    }\n",
              "    80% {\n",
              "      border-color: transparent;\n",
              "      border-right-color: var(--fill-color);\n",
              "      border-bottom-color: var(--fill-color);\n",
              "    }\n",
              "    90% {\n",
              "      border-color: transparent;\n",
              "      border-bottom-color: var(--fill-color);\n",
              "    }\n",
              "  }\n",
              "</style>\n",
              "\n",
              "      <script>\n",
              "        async function quickchart(key) {\n",
              "          const quickchartButtonEl =\n",
              "            document.querySelector('#' + key + ' button');\n",
              "          quickchartButtonEl.disabled = true;  // To prevent multiple clicks.\n",
              "          quickchartButtonEl.classList.add('colab-df-spinner');\n",
              "          try {\n",
              "            const charts = await google.colab.kernel.invokeFunction(\n",
              "                'suggestCharts', [key], {});\n",
              "          } catch (error) {\n",
              "            console.error('Error during call to suggestCharts:', error);\n",
              "          }\n",
              "          quickchartButtonEl.classList.remove('colab-df-spinner');\n",
              "          quickchartButtonEl.classList.add('colab-df-quickchart-complete');\n",
              "        }\n",
              "        (() => {\n",
              "          let quickchartButtonEl =\n",
              "            document.querySelector('#df-6620f7bd-a29f-4031-800e-08c1dd035ab6 button');\n",
              "          quickchartButtonEl.style.display =\n",
              "            google.colab.kernel.accessAllowed ? 'block' : 'none';\n",
              "        })();\n",
              "      </script>\n",
              "    </div>\n",
              "\n",
              "    </div>\n",
              "  </div>\n"
            ],
            "application/vnd.google.colaboratory.intrinsic+json": {
              "type": "dataframe",
              "variable_name": "df",
              "repr_error": "Out of range float values are not JSON compliant: nan"
            }
          },
          "metadata": {},
          "execution_count": 10
        }
      ]
    },
    {
      "cell_type": "code",
      "source": [
        "df.shape"
      ],
      "metadata": {
        "id": "oVWUYn3C1Yj_",
        "outputId": "80d61853-1e66-4692-b22b-2c1a34bc49df",
        "colab": {
          "base_uri": "https://localhost:8080/"
        }
      },
      "execution_count": null,
      "outputs": [
        {
          "output_type": "execute_result",
          "data": {
            "text/plain": [
              "(132, 17)"
            ]
          },
          "metadata": {},
          "execution_count": 11
        }
      ]
    },
    {
      "cell_type": "code",
      "source": [
        "df.columns"
      ],
      "metadata": {
        "id": "vGVUEeDQ1Yf4",
        "outputId": "e7c48b3f-eb75-4a87-ad31-5e7e37a5558c",
        "colab": {
          "base_uri": "https://localhost:8080/"
        }
      },
      "execution_count": null,
      "outputs": [
        {
          "output_type": "execute_result",
          "data": {
            "text/plain": [
              "Index(['zpid', 'url', 'img', 'price', 'address', 'beds', 'baths', 'area',\n",
              "       'homeType', 'latitude', 'longitude', 'zestimate', 'rentZestimate',\n",
              "       'daysOnZillow', 'priceChange', 'datePriceChanged', 'availabilityDate'],\n",
              "      dtype='object')"
            ]
          },
          "metadata": {},
          "execution_count": 12
        }
      ]
    },
    {
      "cell_type": "code",
      "source": [],
      "metadata": {
        "id": "Y7eXklW20uQZ"
      },
      "execution_count": null,
      "outputs": []
    }
  ],
  "metadata": {
    "colab": {
      "provenance": []
    },
    "kernelspec": {
      "display_name": "Python 3",
      "name": "python3"
    }
  },
  "nbformat": 4,
  "nbformat_minor": 0
}