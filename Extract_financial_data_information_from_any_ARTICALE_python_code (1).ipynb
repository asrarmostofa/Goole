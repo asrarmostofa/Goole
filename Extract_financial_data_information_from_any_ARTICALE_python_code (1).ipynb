{
 "cells": [
  {
   "cell_type": "code",
   "execution_count": 2,
   "metadata": {
    "colab": {
     "base_uri": "https://localhost:8080/"
    },
    "id": "QKekSkLemKuB",
    "outputId": "554dd1c4-b1e0-423d-b0ba-e3104f77a88f"
   },
   "outputs": [
    {
     "name": "stdout",
     "output_type": "stream",
     "text": [
      "Company: Tesla\n",
      "Revenue: $2.2 billion\n"
     ]
    }
   ],
   "source": []
  },
  {
   "cell_type": "code",
   "execution_count": 1,
   "metadata": {
    "id": "qqLOP5WOmYRG"
   },
   "outputs": [],
   "source": [
    "import spacy\n"
   ]
  },
  {
   "cell_type": "code",
   "execution_count": 3,
   "metadata": {
    "id": "XDWi2AyUomgE"
   },
   "outputs": [],
   "source": [
    "import re"
   ]
  },
  {
   "cell_type": "code",
   "execution_count": 9,
   "metadata": {
    "colab": {
     "base_uri": "https://localhost:8080/"
    },
    "id": "edOQSzb9opIU",
    "outputId": "ddaed05d-a69f-4305-aff4-a875a57eccb3"
   },
   "outputs": [
    {
     "name": "stdout",
     "output_type": "stream",
     "text": [
      "Company Name: Tesla, Inc.\n",
      "Ticker Symbol: TSLA\n",
      "Industry/Sector: automotive and energy sector\n",
      "Revenue: 31.5 billion\n",
      "Net Income: 3.8 billion\n",
      "Current Assets: 18 billion\n",
      "Non-Current Assets: 45 billion\n",
      "Current Liabilities: 12 billion\n",
      "Non-Current Liabilities: 25 billion\n",
      "Shareholders' Equity: 26 billion\n",
      "Retained Earnings: 10 billion\n",
      "Operating Activities: 8 billion\n",
      "Investing Activities: 4 billion\n",
      "Financing Activities: 2 billion\n"
     ]
    }
   ],
   "source": [
    "import re\n",
    "import spacy\n",
    "\n",
    "# Load the spaCy model\n",
    "nlp = spacy.load(\"en_core_web_sm\")\n",
    "\n",
    "# Sample paragraph containing financial information\n",
    "paragraph = \"\"\"\n",
    "Tesla, Inc. (TSLA) operates in the automotive and energy sector. Tesla reported a revenue of $31.5 billion for the first quarter of 2023, a significant increase from the $18.8 billion reported in the same period last year. The company's net income also rose to $3.8 billion, up from $2.2 billion. Additionally, Tesla's stock price surged to $850 per share.\n",
    "Current assets are $18 billion, non-current assets are $45 billion. Current liabilities are $12 billion, and non-current liabilities are $25 billion. Shareholders' equity stands at $26 billion, with retained earnings of $10 billion.\n",
    "Operating activities generated $8 billion in cash, investing activities used $4 billion, and financing activities provided $2 billion.\n",
    "\"\"\"\n",
    "\n",
    "# Function to extract financial data\n",
    "def extract_financial_data(paragraph):\n",
    "    financial_data = {}\n",
    "\n",
    "    # Process the paragraph with spaCy\n",
    "    doc = nlp(paragraph)\n",
    "\n",
    "    # Extract entities\n",
    "    entities = [(ent.text, ent.label_) for ent in doc.ents]\n",
    "\n",
    "    # Extract company information\n",
    "    financial_data['Company Name'] = next((ent[0] for ent in entities if ent[1] == 'ORG'), 'N/A')\n",
    "    financial_data['Ticker Symbol'] = re.search(r'\\(([^)]+)\\)', paragraph).group(1) if re.search(r'\\(([^)]+)\\)', paragraph) else 'N/A'\n",
    "    financial_data['Industry/Sector'] = 'automotive and energy sector'  # Hardcoded for this example\n",
    "\n",
    "    # Extract income statement data\n",
    "    financial_data['Revenue'] = re.search(r'revenue of \\$(\\d+\\.?\\d*) billion', paragraph).group(1) + ' billion' if re.search(r'revenue of \\$(\\d+\\.?\\d*) billion', paragraph) else 'N/A'\n",
    "    financial_data['Net Income'] = re.search(r'net income also rose to \\$(\\d+\\.?\\d*) billion', paragraph).group(1) + ' billion' if re.search(r'net income also rose to \\$(\\d+\\.?\\d*) billion', paragraph) else 'N/A'\n",
    "\n",
    "    # Extract balance sheet data\n",
    "    financial_data['Current Assets'] = re.search(r'Current assets are \\$(\\d+\\.?\\d*) billion', paragraph).group(1) + ' billion' if re.search(r'Current assets are \\$(\\d+\\.?\\d*) billion', paragraph) else 'N/A'\n",
    "    financial_data['Non-Current Assets'] = re.search(r'non-current assets are \\$(\\d+\\.?\\d*) billion', paragraph).group(1) + ' billion' if re.search(r'non-current assets are \\$(\\d+\\.?\\d*) billion', paragraph) else 'N/A'\n",
    "    financial_data['Current Liabilities'] = re.search(r'Current liabilities are \\$(\\d+\\.?\\d*) billion', paragraph).group(1) + ' billion' if re.search(r'Current liabilities are \\$(\\d+\\.?\\d*) billion', paragraph) else 'N/A'\n",
    "    financial_data['Non-Current Liabilities'] = re.search(r'non-current liabilities are \\$(\\d+\\.?\\d*) billion', paragraph).group(1) + ' billion' if re.search(r'non-current liabilities are \\$(\\d+\\.?\\d*) billion', paragraph) else 'N/A'\n",
    "    financial_data['Shareholders\\' Equity'] = re.search(r'Shareholders\\' equity stands at \\$(\\d+\\.?\\d*) billion', paragraph).group(1) + ' billion' if re.search(r'Shareholders\\' equity stands at \\$(\\d+\\.?\\d*) billion', paragraph) else 'N/A'\n",
    "    financial_data['Retained Earnings'] = re.search(r'retained earnings of \\$(\\d+\\.?\\d*) billion', paragraph).group(1) + ' billion' if re.search(r'retained earnings of \\$(\\d+\\.?\\d*) billion', paragraph) else 'N/A'\n",
    "\n",
    "    # Extract cash flow statement data\n",
    "    financial_data['Operating Activities'] = re.search(r'Operating activities generated \\$(\\d+\\.?\\d*) billion', paragraph).group(1) + ' billion' if re.search(r'Operating activities generated \\$(\\d+\\.?\\d*) billion', paragraph) else 'N/A'\n",
    "    financial_data['Investing Activities'] = re.search(r'investing activities used \\$(\\d+\\.?\\d*) billion', paragraph).group(1) + ' billion' if re.search(r'investing activities used \\$(\\d+\\.?\\d*) billion', paragraph) else 'N/A'\n",
    "    financial_data['Financing Activities'] = re.search(r'financing activities provided \\$(\\d+\\.?\\d*) billion', paragraph).group(1) + ' billion' if re.search(r'financing activities provided \\$(\\d+\\.?\\d*) billion', paragraph) else 'N/A'\n",
    "     # Extract any specific financial metrics\n",
    "    stock_increase_match = re.search(r'(\\d+%)', paragraph)\n",
    "    if stock_increase_match:\n",
    "        financial_data['Stock Price Increase'] = stock_increase_match.group(1)\n",
    "\n",
    "\n",
    "    return financial_data\n",
    "\n",
    "# Extract financial data from the paragraph\n",
    "financial_data = extract_financial_data(paragraph)\n",
    "\n",
    "# Print the extracted financial data\n",
    "for key, value in financial_data.items():\n",
    "    print(f\"{key}: {value}\")\n"
   ]
  },
  {
   "cell_type": "code",
   "execution_count": 6,
   "metadata": {
    "colab": {
     "base_uri": "https://localhost:8080/"
    },
    "id": "3lQc5_ihtB1G",
    "outputId": "2dbe65e0-3e77-45b2-ca78-9f4df13c5b62"
   },
   "outputs": [
    {
     "name": "stdout",
     "output_type": "stream",
     "text": [
      "Company Name: Apple\n",
      "Ticker Symbol: N/A\n",
      "Industry/Sector: N/A\n",
      "Stock Price Increase: 11%\n",
      "Source: BoA\n"
     ]
    }
   ],
   "source": [
    "import re\n",
    "import spacy\n",
    "\n",
    "# Load the spaCy model\n",
    "nlp = spacy.load(\"en_core_web_sm\")\n",
    "\n",
    "# Sample paragraph containing financial information\n",
    "paragraph = \"Apple stock poised to rise 11% on iPhone AI updates, says BoA.\"\n",
    "\n",
    "# Function to extract financial data\n",
    "def extract_financial_data(paragraph):\n",
    "    financial_data = {}\n",
    "\n",
    "    # Process the paragraph with spaCy\n",
    "    doc = nlp(paragraph)\n",
    "\n",
    "    # Extract entities\n",
    "    entities = [(ent.text, ent.label_) for ent in doc.ents]\n",
    "\n",
    "    # Extract company information\n",
    "    financial_data['Company Name'] = next((ent[0] for ent in entities if ent[1] == 'ORG'), 'N/A')\n",
    "    financial_data['Ticker Symbol'] = 'N/A'  # Not provided in this example\n",
    "    financial_data['Industry/Sector'] = 'N/A'  # Not provided in this example\n",
    "\n",
    "    # Extract any specific financial metrics\n",
    "    stock_increase_match = re.search(r'(\\d+%)', paragraph)\n",
    "    if stock_increase_match:\n",
    "        financial_data['Stock Price Increase'] = stock_increase_match.group(1)\n",
    "\n",
    "    # BoA reference\n",
    "    financial_data['Source'] = 'BoA' if 'BoA' in paragraph else 'N/A'\n",
    "\n",
    "    return financial_data\n",
    "\n",
    "# Extract financial data from the paragraph\n",
    "financial_data = extract_financial_data(paragraph)\n",
    "\n",
    "# Print the extracted financial data\n",
    "for key, value in financial_data.items():\n",
    "    print(f\"{key}: {value}\")\n"
   ]
  }
 ],
 "metadata": {
  "colab": {
   "provenance": []
  },
  "kernelspec": {
   "display_name": "Python 3 (ipykernel)",
   "language": "python",
   "name": "python3"
  },
  "language_info": {
   "codemirror_mode": {
    "name": "ipython",
    "version": 3
   },
   "file_extension": ".py",
   "mimetype": "text/x-python",
   "name": "python",
   "nbconvert_exporter": "python",
   "pygments_lexer": "ipython3",
   "version": "3.8.12"
  }
 },
 "nbformat": 4,
 "nbformat_minor": 1
}
