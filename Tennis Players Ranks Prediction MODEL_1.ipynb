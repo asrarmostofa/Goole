{
 "cells": [
  {
   "cell_type": "code",
   "execution_count": 36,
   "id": "5cdf36ff",
   "metadata": {},
   "outputs": [],
   "source": [
    "import pandas as pd\n",
    "from sklearn.model_selection import train_test_split\n",
    "from sklearn.linear_model import LinearRegression\n",
    "from sklearn.metrics import mean_squared_error, r2_score\n",
    "from sklearn.ensemble import RandomForestRegressor"
   ]
  },
  {
   "cell_type": "code",
   "execution_count": 37,
   "id": "f0f9adb6",
   "metadata": {},
   "outputs": [],
   "source": [
    "import pandas as pd\n",
    "from sklearn.ensemble import GradientBoostingRegressor\n",
    "from sklearn.model_selection import train_test_split\n",
    "from sklearn.metrics import mean_squared_error"
   ]
  },
  {
   "cell_type": "code",
   "execution_count": 38,
   "id": "7877feed",
   "metadata": {},
   "outputs": [],
   "source": [
    "import pandas as pd\n",
    "from sklearn.ensemble import RandomForestRegressor\n",
    "from sklearn.model_selection import train_test_split, GridSearchCV, cross_val_score\n",
    "from sklearn.metrics import mean_squared_error\n",
    "\n"
   ]
  },
  {
   "cell_type": "code",
   "execution_count": 73,
   "id": "12cf54b5",
   "metadata": {},
   "outputs": [],
   "source": [
    "df = pd.read_csv('C:/Users/Asrar/Downloads/Formatted_players current elo rating by ATP.csv')"
   ]
  },
  {
   "cell_type": "code",
   "execution_count": 74,
   "id": "460e5c95",
   "metadata": {},
   "outputs": [
    {
     "data": {
      "text/html": [
       "<div>\n",
       "<style scoped>\n",
       "    .dataframe tbody tr th:only-of-type {\n",
       "        vertical-align: middle;\n",
       "    }\n",
       "\n",
       "    .dataframe tbody tr th {\n",
       "        vertical-align: top;\n",
       "    }\n",
       "\n",
       "    .dataframe thead th {\n",
       "        text-align: right;\n",
       "    }\n",
       "</style>\n",
       "<table border=\"1\" class=\"dataframe\">\n",
       "  <thead>\n",
       "    <tr style=\"text-align: right;\">\n",
       "      <th></th>\n",
       "      <th>Player</th>\n",
       "      <th>Age</th>\n",
       "      <th>Elo</th>\n",
       "      <th>HardRaw</th>\n",
       "      <th>ClayRaw</th>\n",
       "      <th>GrassRaw</th>\n",
       "      <th>hard court elo rating</th>\n",
       "      <th>clay-court elo rating</th>\n",
       "      <th>grass-court elo rating</th>\n",
       "      <th>Peak Match</th>\n",
       "      <th>Peak Age</th>\n",
       "      <th>Peak Elo</th>\n",
       "      <th>Gender</th>\n",
       "      <th>Rank</th>\n",
       "    </tr>\n",
       "  </thead>\n",
       "  <tbody>\n",
       "    <tr>\n",
       "      <th>0</th>\n",
       "      <td>Novak Djokovic</td>\n",
       "      <td>34.5</td>\n",
       "      <td>2185.2</td>\n",
       "      <td>2068</td>\n",
       "      <td>2016.3</td>\n",
       "      <td>1942.4</td>\n",
       "      <td>2126.6</td>\n",
       "      <td>2100.8</td>\n",
       "      <td>2063.8</td>\n",
       "      <td>2016 Miami F</td>\n",
       "      <td>28.8</td>\n",
       "      <td>2470.0</td>\n",
       "      <td>Male</td>\n",
       "      <td>1</td>\n",
       "    </tr>\n",
       "  </tbody>\n",
       "</table>\n",
       "</div>"
      ],
      "text/plain": [
       "           Player   Age     Elo HardRaw ClayRaw GrassRaw  \\\n",
       "0  Novak Djokovic  34.5  2185.2    2068  2016.3   1942.4   \n",
       "\n",
       "   hard court elo rating  clay-court elo rating  grass-court elo rating  \\\n",
       "0                 2126.6                 2100.8                  2063.8   \n",
       "\n",
       "     Peak Match  Peak Age  Peak Elo Gender  Rank  \n",
       "0  2016 Miami F      28.8    2470.0   Male     1  "
      ]
     },
     "execution_count": 74,
     "metadata": {},
     "output_type": "execute_result"
    }
   ],
   "source": [
    "df.head(1)"
   ]
  },
  {
   "cell_type": "code",
   "execution_count": 35,
   "id": "a5a00633",
   "metadata": {},
   "outputs": [
    {
     "data": {
      "text/plain": [
       "Index(['Player', 'Age', 'Elo', 'HardRaw', 'ClayRaw', 'GrassRaw',\n",
       "       'hard court elo rating', 'clay-court elo rating',\n",
       "       'grass-court elo rating', 'Peak Match', 'Peak Age', 'Peak Elo',\n",
       "       'Gender', 'Rank'],\n",
       "      dtype='object')"
      ]
     },
     "execution_count": 35,
     "metadata": {},
     "output_type": "execute_result"
    }
   ],
   "source": [
    "df.columns\n"
   ]
  },
  {
   "cell_type": "code",
   "execution_count": 75,
   "id": "2f66ef56",
   "metadata": {},
   "outputs": [],
   "source": [
    "# Assuming your DataFrame is named 'df'\n",
    "df = df[df['Gender'] == 'Male']\n"
   ]
  },
  {
   "cell_type": "code",
   "execution_count": 76,
   "id": "6f21272b",
   "metadata": {},
   "outputs": [],
   "source": [
    "# df['Gender'] == 'Male'           # 'Female'"
   ]
  },
  {
   "cell_type": "code",
   "execution_count": 77,
   "id": "ca03fa67",
   "metadata": {},
   "outputs": [
    {
     "data": {
      "text/html": [
       "<div>\n",
       "<style scoped>\n",
       "    .dataframe tbody tr th:only-of-type {\n",
       "        vertical-align: middle;\n",
       "    }\n",
       "\n",
       "    .dataframe tbody tr th {\n",
       "        vertical-align: top;\n",
       "    }\n",
       "\n",
       "    .dataframe thead th {\n",
       "        text-align: right;\n",
       "    }\n",
       "</style>\n",
       "<table border=\"1\" class=\"dataframe\">\n",
       "  <thead>\n",
       "    <tr style=\"text-align: right;\">\n",
       "      <th></th>\n",
       "      <th>Player</th>\n",
       "      <th>Age</th>\n",
       "      <th>Elo</th>\n",
       "      <th>HardRaw</th>\n",
       "      <th>ClayRaw</th>\n",
       "      <th>GrassRaw</th>\n",
       "      <th>hard court elo rating</th>\n",
       "      <th>clay-court elo rating</th>\n",
       "      <th>grass-court elo rating</th>\n",
       "      <th>Peak Match</th>\n",
       "      <th>Peak Age</th>\n",
       "      <th>Peak Elo</th>\n",
       "      <th>Gender</th>\n",
       "      <th>Rank</th>\n",
       "    </tr>\n",
       "  </thead>\n",
       "  <tbody>\n",
       "    <tr>\n",
       "      <th>0</th>\n",
       "      <td>Novak Djokovic</td>\n",
       "      <td>34.5</td>\n",
       "      <td>2185.2</td>\n",
       "      <td>2068</td>\n",
       "      <td>2016.3</td>\n",
       "      <td>1942.4</td>\n",
       "      <td>2126.6</td>\n",
       "      <td>2100.8</td>\n",
       "      <td>2063.8</td>\n",
       "      <td>2016 Miami F</td>\n",
       "      <td>28.8</td>\n",
       "      <td>2470.0</td>\n",
       "      <td>Male</td>\n",
       "      <td>1</td>\n",
       "    </tr>\n",
       "  </tbody>\n",
       "</table>\n",
       "</div>"
      ],
      "text/plain": [
       "           Player   Age     Elo HardRaw ClayRaw GrassRaw  \\\n",
       "0  Novak Djokovic  34.5  2185.2    2068  2016.3   1942.4   \n",
       "\n",
       "   hard court elo rating  clay-court elo rating  grass-court elo rating  \\\n",
       "0                 2126.6                 2100.8                  2063.8   \n",
       "\n",
       "     Peak Match  Peak Age  Peak Elo Gender  Rank  \n",
       "0  2016 Miami F      28.8    2470.0   Male     1  "
      ]
     },
     "execution_count": 77,
     "metadata": {},
     "output_type": "execute_result"
    }
   ],
   "source": [
    "df.head(1)"
   ]
  },
  {
   "cell_type": "code",
   "execution_count": 45,
   "id": "2638d0af",
   "metadata": {},
   "outputs": [
    {
     "data": {
      "text/plain": [
       "Index(['Player', 'Age', 'Elo', 'HardRaw', 'ClayRaw', 'GrassRaw',\n",
       "       'hard court elo rating', 'clay-court elo rating',\n",
       "       'grass-court elo rating', 'Peak Match', 'Peak Age', 'Peak Elo',\n",
       "       'Gender', 'Rank'],\n",
       "      dtype='object')"
      ]
     },
     "execution_count": 45,
     "metadata": {},
     "output_type": "execute_result"
    }
   ],
   "source": [
    "\n",
    "df.columns\n"
   ]
  },
  {
   "cell_type": "code",
   "execution_count": 46,
   "id": "7584d77e",
   "metadata": {},
   "outputs": [
    {
     "data": {
      "text/html": [
       "<div>\n",
       "<style scoped>\n",
       "    .dataframe tbody tr th:only-of-type {\n",
       "        vertical-align: middle;\n",
       "    }\n",
       "\n",
       "    .dataframe tbody tr th {\n",
       "        vertical-align: top;\n",
       "    }\n",
       "\n",
       "    .dataframe thead th {\n",
       "        text-align: right;\n",
       "    }\n",
       "</style>\n",
       "<table border=\"1\" class=\"dataframe\">\n",
       "  <thead>\n",
       "    <tr style=\"text-align: right;\">\n",
       "      <th></th>\n",
       "      <th>Player</th>\n",
       "      <th>Age</th>\n",
       "      <th>Elo</th>\n",
       "      <th>HardRaw</th>\n",
       "      <th>ClayRaw</th>\n",
       "      <th>GrassRaw</th>\n",
       "      <th>hard court elo rating</th>\n",
       "      <th>clay-court elo rating</th>\n",
       "      <th>grass-court elo rating</th>\n",
       "      <th>Peak Match</th>\n",
       "      <th>Peak Age</th>\n",
       "      <th>Peak Elo</th>\n",
       "      <th>Gender</th>\n",
       "      <th>Rank</th>\n",
       "    </tr>\n",
       "  </thead>\n",
       "  <tbody>\n",
       "    <tr>\n",
       "      <th>0</th>\n",
       "      <td>Novak Djokovic</td>\n",
       "      <td>34.5</td>\n",
       "      <td>2185.2</td>\n",
       "      <td>2068</td>\n",
       "      <td>2016.3</td>\n",
       "      <td>1942.4</td>\n",
       "      <td>2126.6</td>\n",
       "      <td>2100.8</td>\n",
       "      <td>2063.8</td>\n",
       "      <td>2016 Miami F</td>\n",
       "      <td>28.8</td>\n",
       "      <td>2470.0</td>\n",
       "      <td>Male</td>\n",
       "      <td>1</td>\n",
       "    </tr>\n",
       "  </tbody>\n",
       "</table>\n",
       "</div>"
      ],
      "text/plain": [
       "           Player   Age     Elo HardRaw ClayRaw GrassRaw  \\\n",
       "0  Novak Djokovic  34.5  2185.2    2068  2016.3   1942.4   \n",
       "\n",
       "   hard court elo rating  clay-court elo rating  grass-court elo rating  \\\n",
       "0                 2126.6                 2100.8                  2063.8   \n",
       "\n",
       "     Peak Match  Peak Age  Peak Elo Gender  Rank  \n",
       "0  2016 Miami F      28.8    2470.0   Male     1  "
      ]
     },
     "execution_count": 46,
     "metadata": {},
     "output_type": "execute_result"
    }
   ],
   "source": [
    "df.head(1)\n"
   ]
  },
  {
   "cell_type": "code",
   "execution_count": 78,
   "id": "7907b364",
   "metadata": {},
   "outputs": [
    {
     "name": "stdout",
     "output_type": "stream",
     "text": [
      "<class 'pandas.core.frame.DataFrame'>\n",
      "Int64Index: 387 entries, 0 to 386\n",
      "Data columns (total 14 columns):\n",
      " #   Column      Non-Null Count  Dtype  \n",
      "---  ------      --------------  -----  \n",
      " 0   Player      387 non-null    object \n",
      " 1   Age         387 non-null    float64\n",
      " 2   Elo         387 non-null    float64\n",
      " 3   HardRaw     387 non-null    float64\n",
      " 4   ClayRaw     387 non-null    float64\n",
      " 5   GrassRaw    387 non-null    float64\n",
      " 6   HardCourt   387 non-null    float64\n",
      " 7   ClayCourt   387 non-null    float64\n",
      " 8   GrassCourt  387 non-null    float64\n",
      " 9   Peak Match  387 non-null    object \n",
      " 10  Peak Age    387 non-null    float64\n",
      " 11  Peak Elo    387 non-null    float64\n",
      " 12  Gender      387 non-null    object \n",
      " 13  Rank        387 non-null    int64  \n",
      "dtypes: float64(10), int64(1), object(3)\n",
      "memory usage: 45.4+ KB\n"
     ]
    }
   ],
   "source": [
    "df = df.replace(to_replace =\"-\",\n",
    "                 value =\"0\")\n",
    "df = df.astype({'HardRaw':float,'ClayRaw':float,'GrassRaw':float})\n",
    "df.columns = ['Player', 'Age', 'Elo', 'HardRaw', 'ClayRaw', 'GrassRaw', 'HardCourt',\n",
    "       'ClayCourt', 'GrassCourt', 'Peak Match',\n",
    "       'Peak Age', 'Peak Elo', 'Gender', 'Rank']      \n",
    "df.info()\n",
    "\n"
   ]
  },
  {
   "cell_type": "code",
   "execution_count": 88,
   "id": "73f59e0d",
   "metadata": {
    "scrolled": true
   },
   "outputs": [
    {
     "data": {
      "text/html": [
       "<div>\n",
       "<style scoped>\n",
       "    .dataframe tbody tr th:only-of-type {\n",
       "        vertical-align: middle;\n",
       "    }\n",
       "\n",
       "    .dataframe tbody tr th {\n",
       "        vertical-align: top;\n",
       "    }\n",
       "\n",
       "    .dataframe thead th {\n",
       "        text-align: right;\n",
       "    }\n",
       "</style>\n",
       "<table border=\"1\" class=\"dataframe\">\n",
       "  <thead>\n",
       "    <tr style=\"text-align: right;\">\n",
       "      <th></th>\n",
       "      <th>Player</th>\n",
       "      <th>Age</th>\n",
       "      <th>Elo</th>\n",
       "      <th>HardRaw</th>\n",
       "      <th>ClayRaw</th>\n",
       "      <th>GrassRaw</th>\n",
       "      <th>HardCourt</th>\n",
       "      <th>ClayCourt</th>\n",
       "      <th>GrassCourt</th>\n",
       "      <th>Peak Match</th>\n",
       "      <th>Peak Age</th>\n",
       "      <th>Peak Elo</th>\n",
       "      <th>Gender</th>\n",
       "      <th>Rank</th>\n",
       "    </tr>\n",
       "  </thead>\n",
       "  <tbody>\n",
       "    <tr>\n",
       "      <th>0</th>\n",
       "      <td>Novak Djokovic</td>\n",
       "      <td>34.5</td>\n",
       "      <td>2185.2</td>\n",
       "      <td>2068.0</td>\n",
       "      <td>2016.3</td>\n",
       "      <td>1942.4</td>\n",
       "      <td>2126.6</td>\n",
       "      <td>2100.8</td>\n",
       "      <td>2063.8</td>\n",
       "      <td>2016 Miami F</td>\n",
       "      <td>28.8</td>\n",
       "      <td>2470.0</td>\n",
       "      <td>Male</td>\n",
       "      <td>1</td>\n",
       "    </tr>\n",
       "    <tr>\n",
       "      <th>1</th>\n",
       "      <td>Daniil Medvedev</td>\n",
       "      <td>25.9</td>\n",
       "      <td>2166.2</td>\n",
       "      <td>2095.3</td>\n",
       "      <td>1714.1</td>\n",
       "      <td>1723.4</td>\n",
       "      <td>2130.7</td>\n",
       "      <td>1940.1</td>\n",
       "      <td>1944.8</td>\n",
       "      <td>2022 Atp Cup RR</td>\n",
       "      <td>25.9</td>\n",
       "      <td>2175.1</td>\n",
       "      <td>Male</td>\n",
       "      <td>2</td>\n",
       "    </tr>\n",
       "    <tr>\n",
       "      <th>2</th>\n",
       "      <td>Alexander Zverev</td>\n",
       "      <td>24.7</td>\n",
       "      <td>2141.3</td>\n",
       "      <td>2056.7</td>\n",
       "      <td>1999.1</td>\n",
       "      <td>1671.4</td>\n",
       "      <td>2099.0</td>\n",
       "      <td>2070.2</td>\n",
       "      <td>1906.4</td>\n",
       "      <td>2022 Atp Cup RR</td>\n",
       "      <td>24.7</td>\n",
       "      <td>2157.9</td>\n",
       "      <td>Male</td>\n",
       "      <td>3</td>\n",
       "    </tr>\n",
       "    <tr>\n",
       "      <th>3</th>\n",
       "      <td>Roger Federer</td>\n",
       "      <td>39.9</td>\n",
       "      <td>2043.0</td>\n",
       "      <td>1936.7</td>\n",
       "      <td>1749.6</td>\n",
       "      <td>1813.4</td>\n",
       "      <td>1989.8</td>\n",
       "      <td>1896.3</td>\n",
       "      <td>1928.2</td>\n",
       "      <td>2007 Dubai F</td>\n",
       "      <td>25.6</td>\n",
       "      <td>2382.0</td>\n",
       "      <td>Male</td>\n",
       "      <td>4</td>\n",
       "    </tr>\n",
       "    <tr>\n",
       "      <th>4</th>\n",
       "      <td>Carlos Alcaraz</td>\n",
       "      <td>18.5</td>\n",
       "      <td>2029.5</td>\n",
       "      <td>1906.3</td>\n",
       "      <td>1834.4</td>\n",
       "      <td>1441.4</td>\n",
       "      <td>1967.9</td>\n",
       "      <td>1932.0</td>\n",
       "      <td>1735.5</td>\n",
       "      <td>2021 NextGen Finals F</td>\n",
       "      <td>18.5</td>\n",
       "      <td>2029.5</td>\n",
       "      <td>Male</td>\n",
       "      <td>5</td>\n",
       "    </tr>\n",
       "    <tr>\n",
       "      <th>5</th>\n",
       "      <td>Stefanos Tsitsipas</td>\n",
       "      <td>23.4</td>\n",
       "      <td>2023.0</td>\n",
       "      <td>1882.0</td>\n",
       "      <td>2005.5</td>\n",
       "      <td>1543.4</td>\n",
       "      <td>1952.5</td>\n",
       "      <td>2014.3</td>\n",
       "      <td>1783.2</td>\n",
       "      <td>2021 Roland Garros SF</td>\n",
       "      <td>22.8</td>\n",
       "      <td>2132.6</td>\n",
       "      <td>Male</td>\n",
       "      <td>6</td>\n",
       "    </tr>\n",
       "    <tr>\n",
       "      <th>6</th>\n",
       "      <td>Casper Ruud</td>\n",
       "      <td>23.0</td>\n",
       "      <td>2010.2</td>\n",
       "      <td>1846.0</td>\n",
       "      <td>1951.2</td>\n",
       "      <td>1465.9</td>\n",
       "      <td>1928.1</td>\n",
       "      <td>1980.7</td>\n",
       "      <td>1738.0</td>\n",
       "      <td>2021 Tour Finals RR</td>\n",
       "      <td>22.9</td>\n",
       "      <td>2032.0</td>\n",
       "      <td>Male</td>\n",
       "      <td>7</td>\n",
       "    </tr>\n",
       "    <tr>\n",
       "      <th>7</th>\n",
       "      <td>Rafael Nadal</td>\n",
       "      <td>35.6</td>\n",
       "      <td>2007.5</td>\n",
       "      <td>1820.0</td>\n",
       "      <td>1951.2</td>\n",
       "      <td>1500.0</td>\n",
       "      <td>1913.7</td>\n",
       "      <td>1979.3</td>\n",
       "      <td>1753.7</td>\n",
       "      <td>2009 Madrid SF</td>\n",
       "      <td>22.9</td>\n",
       "      <td>2370.0</td>\n",
       "      <td>Male</td>\n",
       "      <td>8</td>\n",
       "    </tr>\n",
       "    <tr>\n",
       "      <th>8</th>\n",
       "      <td>Jannik Sinner</td>\n",
       "      <td>20.4</td>\n",
       "      <td>2006.1</td>\n",
       "      <td>1931.2</td>\n",
       "      <td>1807.0</td>\n",
       "      <td>1312.8</td>\n",
       "      <td>1968.7</td>\n",
       "      <td>1906.6</td>\n",
       "      <td>1659.5</td>\n",
       "      <td>2021 Barcelona QF</td>\n",
       "      <td>19.7</td>\n",
       "      <td>2025.3</td>\n",
       "      <td>Male</td>\n",
       "      <td>9</td>\n",
       "    </tr>\n",
       "    <tr>\n",
       "      <th>9</th>\n",
       "      <td>Dominic Thiem</td>\n",
       "      <td>27.7</td>\n",
       "      <td>2002.1</td>\n",
       "      <td>1934.8</td>\n",
       "      <td>1936.2</td>\n",
       "      <td>1618.3</td>\n",
       "      <td>1968.4</td>\n",
       "      <td>1969.1</td>\n",
       "      <td>1810.2</td>\n",
       "      <td>2016 Halle R16</td>\n",
       "      <td>22.8</td>\n",
       "      <td>2123.2</td>\n",
       "      <td>Male</td>\n",
       "      <td>10</td>\n",
       "    </tr>\n",
       "  </tbody>\n",
       "</table>\n",
       "</div>"
      ],
      "text/plain": [
       "               Player   Age     Elo  HardRaw  ClayRaw  GrassRaw  HardCourt  \\\n",
       "0      Novak Djokovic  34.5  2185.2   2068.0   2016.3    1942.4     2126.6   \n",
       "1     Daniil Medvedev  25.9  2166.2   2095.3   1714.1    1723.4     2130.7   \n",
       "2    Alexander Zverev  24.7  2141.3   2056.7   1999.1    1671.4     2099.0   \n",
       "3       Roger Federer  39.9  2043.0   1936.7   1749.6    1813.4     1989.8   \n",
       "4      Carlos Alcaraz  18.5  2029.5   1906.3   1834.4    1441.4     1967.9   \n",
       "5  Stefanos Tsitsipas  23.4  2023.0   1882.0   2005.5    1543.4     1952.5   \n",
       "6         Casper Ruud  23.0  2010.2   1846.0   1951.2    1465.9     1928.1   \n",
       "7        Rafael Nadal  35.6  2007.5   1820.0   1951.2    1500.0     1913.7   \n",
       "8       Jannik Sinner  20.4  2006.1   1931.2   1807.0    1312.8     1968.7   \n",
       "9       Dominic Thiem  27.7  2002.1   1934.8   1936.2    1618.3     1968.4   \n",
       "\n",
       "   ClayCourt  GrassCourt             Peak Match  Peak Age  Peak Elo Gender  \\\n",
       "0     2100.8      2063.8           2016 Miami F      28.8    2470.0   Male   \n",
       "1     1940.1      1944.8        2022 Atp Cup RR      25.9    2175.1   Male   \n",
       "2     2070.2      1906.4        2022 Atp Cup RR      24.7    2157.9   Male   \n",
       "3     1896.3      1928.2           2007 Dubai F      25.6    2382.0   Male   \n",
       "4     1932.0      1735.5  2021 NextGen Finals F      18.5    2029.5   Male   \n",
       "5     2014.3      1783.2  2021 Roland Garros SF      22.8    2132.6   Male   \n",
       "6     1980.7      1738.0    2021 Tour Finals RR      22.9    2032.0   Male   \n",
       "7     1979.3      1753.7         2009 Madrid SF      22.9    2370.0   Male   \n",
       "8     1906.6      1659.5      2021 Barcelona QF      19.7    2025.3   Male   \n",
       "9     1969.1      1810.2         2016 Halle R16      22.8    2123.2   Male   \n",
       "\n",
       "   Rank  \n",
       "0     1  \n",
       "1     2  \n",
       "2     3  \n",
       "3     4  \n",
       "4     5  \n",
       "5     6  \n",
       "6     7  \n",
       "7     8  \n",
       "8     9  \n",
       "9    10  "
      ]
     },
     "execution_count": 88,
     "metadata": {},
     "output_type": "execute_result"
    }
   ],
   "source": [
    "df.head(10)"
   ]
  },
  {
   "cell_type": "code",
   "execution_count": 79,
   "id": "809ef0f6",
   "metadata": {},
   "outputs": [],
   "source": [
    "# Split the data into training and testing sets\n",
    "# X = df.drop('Rank','Player','Peak Match' axis=1)\n",
    "X = df.drop(['Rank', 'Player', 'Peak Match','Gender'], axis=1)\n",
    "y = df['Rank']\n"
   ]
  },
  {
   "cell_type": "code",
   "execution_count": 80,
   "id": "d7e3ef17",
   "metadata": {},
   "outputs": [],
   "source": [
    "import pandas as pd\n",
    "from sklearn.linear_model import LinearRegression\n",
    "from sklearn.model_selection import train_test_split\n",
    "from sklearn.metrics import mean_squared_error\n",
    "from sklearn.preprocessing import StandardScaler"
   ]
  },
  {
   "cell_type": "code",
   "execution_count": 81,
   "id": "7324e8e6",
   "metadata": {},
   "outputs": [],
   "source": [
    "# Apply Standardization to the features\n",
    "scaler = StandardScaler()\n",
    "X_scaled = scaler.fit_transform(X)"
   ]
  },
  {
   "cell_type": "code",
   "execution_count": 82,
   "id": "89f22417",
   "metadata": {},
   "outputs": [
    {
     "data": {
      "text/html": [
       "<div>\n",
       "<style scoped>\n",
       "    .dataframe tbody tr th:only-of-type {\n",
       "        vertical-align: middle;\n",
       "    }\n",
       "\n",
       "    .dataframe tbody tr th {\n",
       "        vertical-align: top;\n",
       "    }\n",
       "\n",
       "    .dataframe thead th {\n",
       "        text-align: right;\n",
       "    }\n",
       "</style>\n",
       "<table border=\"1\" class=\"dataframe\">\n",
       "  <thead>\n",
       "    <tr style=\"text-align: right;\">\n",
       "      <th></th>\n",
       "      <th>Age</th>\n",
       "      <th>Elo</th>\n",
       "      <th>HardRaw</th>\n",
       "      <th>ClayRaw</th>\n",
       "      <th>GrassRaw</th>\n",
       "      <th>HardCourt</th>\n",
       "      <th>ClayCourt</th>\n",
       "      <th>GrassCourt</th>\n",
       "      <th>Peak Age</th>\n",
       "      <th>Peak Elo</th>\n",
       "    </tr>\n",
       "  </thead>\n",
       "  <tbody>\n",
       "    <tr>\n",
       "      <th>0</th>\n",
       "      <td>34.5</td>\n",
       "      <td>2185.2</td>\n",
       "      <td>2068.0</td>\n",
       "      <td>2016.3</td>\n",
       "      <td>1942.4</td>\n",
       "      <td>2126.6</td>\n",
       "      <td>2100.8</td>\n",
       "      <td>2063.8</td>\n",
       "      <td>28.8</td>\n",
       "      <td>2470.0</td>\n",
       "    </tr>\n",
       "  </tbody>\n",
       "</table>\n",
       "</div>"
      ],
      "text/plain": [
       "    Age     Elo  HardRaw  ClayRaw  GrassRaw  HardCourt  ClayCourt  GrassCourt  \\\n",
       "0  34.5  2185.2   2068.0   2016.3    1942.4     2126.6     2100.8      2063.8   \n",
       "\n",
       "   Peak Age  Peak Elo  \n",
       "0      28.8    2470.0  "
      ]
     },
     "execution_count": 82,
     "metadata": {},
     "output_type": "execute_result"
    }
   ],
   "source": [
    "X.head(1)"
   ]
  },
  {
   "cell_type": "code",
   "execution_count": 83,
   "id": "d5910047",
   "metadata": {},
   "outputs": [
    {
     "data": {
      "text/plain": [
       "array([1.47797961, 3.24028792, 2.41906505, 2.47985046, 1.32904488,\n",
       "       3.26073888, 3.24417123, 4.06833526, 1.32757933, 3.89058552])"
      ]
     },
     "execution_count": 83,
     "metadata": {},
     "output_type": "execute_result"
    }
   ],
   "source": [
    "X_scaled[0]"
   ]
  },
  {
   "cell_type": "code",
   "execution_count": 25,
   "id": "82e36b73",
   "metadata": {},
   "outputs": [
    {
     "data": {
      "text/plain": [
       "1"
      ]
     },
     "execution_count": 25,
     "metadata": {},
     "output_type": "execute_result"
    }
   ],
   "source": [
    "y[0]"
   ]
  },
  {
   "cell_type": "code",
   "execution_count": 84,
   "id": "d58d53fb",
   "metadata": {},
   "outputs": [],
   "source": [
    "import pandas as pd\n",
    "from sklearn.model_selection import train_test_split, GridSearchCV\n",
    "from sklearn.ensemble import GradientBoostingRegressor\n",
    "from sklearn.preprocessing import StandardScaler\n",
    "from sklearn.metrics import mean_squared_error\n",
    "\n",
    "\n",
    "\n",
    "# Split the data into training and testing sets (adjust the test_size as needed)\n",
    "X_train, X_test, y_train, y_test = train_test_split(X_scaled, y, test_size=0.2, random_state=42)\n",
    "\n",
    "# Standardize the features (scaling)\n",
    "# scaler = StandardScaler()\n",
    "# X_train = scaler.fit_transform(X_train)\n",
    "# X_test = scaler.transform(X_test)\n",
    "\n",
    "# Create a Gradient Boosting Regressor model\n"
   ]
  },
  {
   "cell_type": "code",
   "execution_count": 85,
   "id": "6cf6c1cd",
   "metadata": {},
   "outputs": [
    {
     "name": "stdout",
     "output_type": "stream",
     "text": [
      "Best Hyperparameters: {'learning_rate': 0.05, 'max_depth': 4, 'n_estimators': 300}\n",
      "Mean Squared Error: 1.3867526988267591\n"
     ]
    }
   ],
   "source": [
    "gbr = GradientBoostingRegressor()\n",
    "\n",
    "# Define a parameter grid for hyperparameter tuning\n",
    "param_grid = {\n",
    "    'n_estimators': [100, 200, 300],\n",
    "    'learning_rate': [0.05, 0.1, 0.2],\n",
    "    'max_depth': [3, 4, 5],\n",
    "}\n",
    "\n",
    "# Perform GridSearchCV for hyperparameter tuning\n",
    "grid_search = GridSearchCV(gbr, param_grid, cv=5, scoring='neg_mean_squared_error')\n",
    "grid_search.fit(X_train, y_train)\n",
    "\n",
    "# Get the best hyperparameters\n",
    "best_params = grid_search.best_params_\n",
    "print(\"Best Hyperparameters:\", best_params)\n",
    "\n",
    "# Train the Gradient Boosting Regressor model with the best hyperparameters\n",
    "best_gbr = GradientBoostingRegressor(**best_params)\n",
    "best_gbr.fit(X_train, y_train)\n",
    "\n",
    "# Make predictions on the test data\n",
    "y_pred = best_gbr.predict(X_test)\n",
    "\n",
    "# Calculate the Mean Squared Error to evaluate the model\n",
    "mse = mean_squared_error(y_test, y_pred)\n",
    "print(f\"Mean Squared Error: {mse}\")\n"
   ]
  },
  {
   "cell_type": "code",
   "execution_count": 70,
   "id": "de53f801",
   "metadata": {},
   "outputs": [
    {
     "data": {
      "text/plain": [
       "array([4.96933138])"
      ]
     },
     "execution_count": 70,
     "metadata": {},
     "output_type": "execute_result"
    }
   ],
   "source": [
    "y_pred = best_gbr.predict(scaled_data)  ## ACTUAL 5 PREDICT : 4.96933138\n",
    "y_pred"
   ]
  },
  {
   "cell_type": "code",
   "execution_count": null,
   "id": "21044d00",
   "metadata": {},
   "outputs": [],
   "source": [
    "y_pred = best_gbr.predict(scaled_data)  ## ACTUAL  2 PREDICT :2.2729545\n",
    "y_pred\n"
   ]
  },
  {
   "cell_type": "code",
   "execution_count": 63,
   "id": "3d618faf",
   "metadata": {},
   "outputs": [
    {
     "name": "stdout",
     "output_type": "stream",
     "text": [
      "Best Hyperparameters: {'learning_rate': 0.05, 'max_depth': 4, 'n_estimators': 300}\n",
      "Mean Squared Error: 1.4207860547985856\n"
     ]
    }
   ],
   "source": [
    "gbr = GradientBoostingRegressor()\n",
    "\n",
    "# Define a parameter grid for hyperparameter tuning\n",
    "param_grid = {\n",
    "    'n_estimators': [100, 200, 300],\n",
    "    'learning_rate': [0.05, 0.1, 0.2],\n",
    "    'max_depth': [3, 4, 5],\n",
    "}\n",
    "\n",
    "# Perform GridSearchCV for hyperparameter tuning\n",
    "grid_search = GridSearchCV(gbr, param_grid, cv=5, scoring='neg_mean_squared_error')\n",
    "grid_search.fit(X_train, y_train)\n",
    "\n",
    "# Get the best hyperparameters\n",
    "best_params = grid_search.best_params_\n",
    "print(\"Best Hyperparameters:\", best_params)\n",
    "\n",
    "# Train the Gradient Boosting Regressor model with the best hyperparameters\n",
    "best_gbr = GradientBoostingRegressor(**best_params)\n",
    "best_gbr.fit(X_train, y_train)\n",
    "\n",
    "# Make predictions on the test data\n",
    "y_pred = best_gbr.predict(X_test)\n",
    "\n",
    "# Calculate the Mean Squared Error to evaluate the model\n",
    "mse = mean_squared_error(y_test, y_pred)\n",
    "print(f\"Mean Squared Error: {mse}\")\n"
   ]
  },
  {
   "cell_type": "code",
   "execution_count": 71,
   "id": "502cfecd",
   "metadata": {},
   "outputs": [
    {
     "data": {
      "text/plain": [
       "array([4.96933138])"
      ]
     },
     "execution_count": 71,
     "metadata": {},
     "output_type": "execute_result"
    }
   ],
   "source": [
    "y_pred = best_gbr.predict(scaled_data)\n",
    "y_pred"
   ]
  },
  {
   "cell_type": "code",
   "execution_count": 62,
   "id": "903d45e3",
   "metadata": {},
   "outputs": [
    {
     "name": "stdout",
     "output_type": "stream",
     "text": [
      "Best Hyperparameters: {'C': 1, 'epsilon': 0.1, 'kernel': 'linear'}\n",
      "Mean Squared Error: 1396.0438294808932\n"
     ]
    }
   ],
   "source": [
    "import pandas as pd\n",
    "from sklearn.model_selection import train_test_split, GridSearchCV\n",
    "from sklearn.svm import SVR\n",
    "from sklearn.preprocessing import StandardScaler\n",
    "from sklearn.metrics import mean_squared_error\n",
    "\n",
    "# Load your data into a DataFrame (replace 'data.csv' with your data file)\n",
    "#df = pd.read_csv('data.csv')\n",
    "\n",
    "\n",
    "\n",
    "# Split the data into training and testing sets (adjust the test_size as needed)\n",
    "X_train, X_test, y_train, y_test = train_test_split(X_scaled, y, test_size=0.2, random_state=42)\n",
    "\n",
    "\n",
    "\n",
    "# Create an SVR model\n",
    "svr = SVR()\n",
    "\n",
    "# Define a parameter grid for hyperparameter tuning\n",
    "param_grid = {\n",
    "    'C': [0.1, 1, 10],\n",
    "    'kernel': ['linear', 'rbf', 'poly'],\n",
    "    'epsilon': [0.1, 0.2, 0.3],\n",
    "}\n",
    "\n",
    "# Perform GridSearchCV for hyperparameter tuning\n",
    "grid_search = GridSearchCV(svr, param_grid, cv=5, scoring='neg_mean_squared_error')\n",
    "grid_search.fit(X_train, y_train)\n",
    "\n",
    "# Get the best hyperparameters\n",
    "best_params = grid_search.best_params_\n",
    "print(\"Best Hyperparameters:\", best_params)\n",
    "\n",
    "# Train the SVR model with the best hyperparameters\n",
    "best_svr = SVR(**best_params)\n",
    "best_svr.fit(X_train, y_train)\n",
    "\n",
    "# Make predictions on the test data\n",
    "y_pred = best_svr.predict(X_test)\n",
    "\n",
    "# Calculate the Mean Squared Error to evaluate the model\n",
    "mse = mean_squared_error(y_test, y_pred)\n",
    "print(f\"Mean Squared Error: {mse}\")\n"
   ]
  },
  {
   "cell_type": "code",
   "execution_count": 72,
   "id": "d88b8c92",
   "metadata": {},
   "outputs": [
    {
     "data": {
      "text/plain": [
       "array([-95.48764961])"
      ]
     },
     "execution_count": 72,
     "metadata": {},
     "output_type": "execute_result"
    }
   ],
   "source": [
    "y_pred = best_svr.predict(scaled_data)\n",
    "y_pred"
   ]
  },
  {
   "cell_type": "code",
   "execution_count": 87,
   "id": "c719485c",
   "metadata": {
    "scrolled": true
   },
   "outputs": [
    {
     "data": {
      "text/plain": [
       "array([[ 1.47797961,  3.24028792,  2.41906505,  2.47985046,  1.32904488,\n",
       "         3.26073888,  3.24417123,  4.06833526,  1.32757933,  3.89058552],\n",
       "       [-0.32293265,  3.13871725,  2.52780229,  1.12055125,  0.95578462,\n",
       "         3.28306314,  2.33599195,  3.19678921,  0.45119425,  2.358786  ],\n",
       "       [-0.57422273,  3.00560622,  2.3740566 ,  2.40248465,  0.86715661,\n",
       "         3.1104585 ,  3.07123852,  2.91555082,  0.08855214,  2.26944402],\n",
       "       [ 2.60878499,  2.48011168,  1.89609075,  1.28023067,  1.10917925,\n",
       "         2.51587093,  2.08846083,  3.07521219,  0.36053372,  3.43348698],\n",
       "       [-1.87255482,  2.40794305,  1.77500607,  1.66166208,  0.47514812,\n",
       "         2.39662672,  2.29021565,  1.6638935 , -1.78509873,  1.6024957 ],\n",
       "       [-0.84645365,  2.37319519,  1.67821798,  2.43127193,  0.64899536,\n",
       "         2.31277463,  2.75532551,  2.01324432, -0.48563119,  2.13802819]])"
      ]
     },
     "execution_count": 87,
     "metadata": {},
     "output_type": "execute_result"
    }
   ],
   "source": [
    "X_scaled[:6]"
   ]
  },
  {
   "cell_type": "code",
   "execution_count": 45,
   "id": "85999fad",
   "metadata": {},
   "outputs": [
    {
     "data": {
      "text/plain": [
       "33    34\n",
       "Name: Rank, dtype: int64"
      ]
     },
     "execution_count": 45,
     "metadata": {},
     "output_type": "execute_result"
    }
   ],
   "source": [
    "y[33:34]"
   ]
  },
  {
   "cell_type": "code",
   "execution_count": 69,
   "id": "6054a5a8",
   "metadata": {},
   "outputs": [],
   "source": [
    "import pandas as pd\n",
    "\n",
    "# Create a DataFrame from the scaled data\n",
    "scaled_data = pd.DataFrame([[-0.84645365,  2.37319519,  1.67821798,  2.43127193,  0.64899536,\n",
    "         2.31277463,  2.75532551,  2.01324432, -0.48563119,  2.13802819 ]])"
   ]
  },
  {
   "cell_type": "code",
   "execution_count": null,
   "id": "1e31cac6",
   "metadata": {},
   "outputs": [],
   "source": []
  },
  {
   "cell_type": "code",
   "execution_count": 65,
   "id": "00622a0a",
   "metadata": {},
   "outputs": [
    {
     "name": "stdout",
     "output_type": "stream",
     "text": [
      "Mean Squared Error: 919.0010302365298\n"
     ]
    }
   ],
   "source": [
    "X_train, X_test, y_train, y_test = train_test_split(X_scaled, y, test_size=0.2, random_state=42)\n",
    "\n",
    "# Create a linear regression model\n",
    "model = LinearRegression()\n",
    "\n",
    "# Fit the model to the training data\n",
    "model.fit(X_train, y_train)\n",
    "\n",
    "# Make predictions for the test data\n",
    "y_pred = model.predict(X_test)\n",
    "\n",
    "# Calculate the Mean Squared Error to evaluate the model\n",
    "mse = mean_squared_error(y_test, y_pred)\n",
    "print(f\"Mean Squared Error: {mse}\")\n",
    "\n",
    "# Now, you can use the trained linear regression model to predict the 'Rank' for new data.\n",
    "# For example, to predict the 'Rank' for a new player, you can use model.predict(new_data).\n",
    "# Replace new_data with the data for the new player.\n"
   ]
  },
  {
   "cell_type": "code",
   "execution_count": 30,
   "id": "a1c175f9",
   "metadata": {},
   "outputs": [],
   "source": [
    "y_pred = model.predict(X_test)\n",
    "# y_pred"
   ]
  },
  {
   "cell_type": "code",
   "execution_count": null,
   "id": "b9ea2a3d",
   "metadata": {},
   "outputs": [],
   "source": []
  },
  {
   "cell_type": "code",
   "execution_count": 66,
   "id": "8dca711b",
   "metadata": {},
   "outputs": [
    {
     "name": "stdout",
     "output_type": "stream",
     "text": [
      "Mean Squared Error: 2.6586192307692325\n"
     ]
    }
   ],
   "source": [
    "X_train, X_test, y_train, y_test = train_test_split(X_scaled, y, test_size=0.2, random_state=42)\n",
    "\n",
    "# Create a random forest regressor model\n",
    "model = RandomForestRegressor(n_estimators=100, random_state=42)\n",
    "\n",
    "# Fit the model to the training data\n",
    "model.fit(X_train, y_train)\n",
    "\n",
    "# Make predictions for the test data\n",
    "y_pred = model.predict(X_test)\n",
    "\n",
    "# Calculate the Mean Squared Error to evaluate the model\n",
    "mse = mean_squared_error(y_test, y_pred)\n",
    "print(f\"Mean Squared Error: {mse}\")\n",
    "\n",
    "# Now, you can use the trained model to predict the 'Rank' for new data.\n",
    "# For example, to predict the 'Rank' for a new player, you can use model.predict(new_data).\n",
    "# Replace new_data with the data for the new player.\n",
    "\n"
   ]
  },
  {
   "cell_type": "code",
   "execution_count": 67,
   "id": "7492e1cc",
   "metadata": {},
   "outputs": [
    {
     "data": {
      "text/plain": [
       "array([3.57])"
      ]
     },
     "execution_count": 67,
     "metadata": {},
     "output_type": "execute_result"
    }
   ],
   "source": [
    "y_pred = model.predict(scaled_data)\n",
    "y_pred"
   ]
  },
  {
   "cell_type": "code",
   "execution_count": 18,
   "id": "ae87a547",
   "metadata": {},
   "outputs": [],
   "source": [
    "# y_pred"
   ]
  },
  {
   "cell_type": "code",
   "execution_count": 127,
   "id": "526065a9",
   "metadata": {},
   "outputs": [],
   "source": [
    "import pandas as pd\n",
    "from sklearn.ensemble import RandomForestRegressor\n",
    "from sklearn.model_selection import train_test_split, GridSearchCV, cross_val_score\n",
    "from sklearn.metrics import mean_squared_error\n",
    "\n"
   ]
  },
  {
   "cell_type": "code",
   "execution_count": 133,
   "id": "47b71906",
   "metadata": {},
   "outputs": [],
   "source": [
    "X_train, X_test, y_train, y_test = train_test_split(X_scaled, y, test_size=0.2, random_state=42)\n"
   ]
  },
  {
   "cell_type": "code",
   "execution_count": 18,
   "id": "92585ecc",
   "metadata": {},
   "outputs": [],
   "source": [
    "model = RandomForestRegressor(random_state=42)\n"
   ]
  },
  {
   "cell_type": "code",
   "execution_count": 29,
   "id": "45668549",
   "metadata": {},
   "outputs": [],
   "source": [
    "#param_grid = {\n",
    "#    'n_estimators': [100, 200, 300],\n",
    "#    'max_depth': [None, 10, 20, 30]\n",
    "#}\n",
    "\n",
    "# Define the hyperparameters to search over\n",
    "param_grid = {\n",
    "    'n_estimators': [100, 200, 300],    # Number of trees in the forest\n",
    "    'max_depth': [None, 10, 20],        # Maximum depth of each tree\n",
    "    'min_samples_split': [2, 5, 10],   # Minimum number of samples required to split a node\n",
    "    'min_samples_leaf': [1, 2, 4]      # Minimum number of samples required at each leaf node\n",
    "}"
   ]
  },
  {
   "cell_type": "code",
   "execution_count": 30,
   "id": "752cfcfa",
   "metadata": {},
   "outputs": [
    {
     "data": {
      "text/html": [
       "<style>#sk-container-id-1 {color: black;background-color: white;}#sk-container-id-1 pre{padding: 0;}#sk-container-id-1 div.sk-toggleable {background-color: white;}#sk-container-id-1 label.sk-toggleable__label {cursor: pointer;display: block;width: 100%;margin-bottom: 0;padding: 0.3em;box-sizing: border-box;text-align: center;}#sk-container-id-1 label.sk-toggleable__label-arrow:before {content: \"▸\";float: left;margin-right: 0.25em;color: #696969;}#sk-container-id-1 label.sk-toggleable__label-arrow:hover:before {color: black;}#sk-container-id-1 div.sk-estimator:hover label.sk-toggleable__label-arrow:before {color: black;}#sk-container-id-1 div.sk-toggleable__content {max-height: 0;max-width: 0;overflow: hidden;text-align: left;background-color: #f0f8ff;}#sk-container-id-1 div.sk-toggleable__content pre {margin: 0.2em;color: black;border-radius: 0.25em;background-color: #f0f8ff;}#sk-container-id-1 input.sk-toggleable__control:checked~div.sk-toggleable__content {max-height: 200px;max-width: 100%;overflow: auto;}#sk-container-id-1 input.sk-toggleable__control:checked~label.sk-toggleable__label-arrow:before {content: \"▾\";}#sk-container-id-1 div.sk-estimator input.sk-toggleable__control:checked~label.sk-toggleable__label {background-color: #d4ebff;}#sk-container-id-1 div.sk-label input.sk-toggleable__control:checked~label.sk-toggleable__label {background-color: #d4ebff;}#sk-container-id-1 input.sk-hidden--visually {border: 0;clip: rect(1px 1px 1px 1px);clip: rect(1px, 1px, 1px, 1px);height: 1px;margin: -1px;overflow: hidden;padding: 0;position: absolute;width: 1px;}#sk-container-id-1 div.sk-estimator {font-family: monospace;background-color: #f0f8ff;border: 1px dotted black;border-radius: 0.25em;box-sizing: border-box;margin-bottom: 0.5em;}#sk-container-id-1 div.sk-estimator:hover {background-color: #d4ebff;}#sk-container-id-1 div.sk-parallel-item::after {content: \"\";width: 100%;border-bottom: 1px solid gray;flex-grow: 1;}#sk-container-id-1 div.sk-label:hover label.sk-toggleable__label {background-color: #d4ebff;}#sk-container-id-1 div.sk-serial::before {content: \"\";position: absolute;border-left: 1px solid gray;box-sizing: border-box;top: 0;bottom: 0;left: 50%;z-index: 0;}#sk-container-id-1 div.sk-serial {display: flex;flex-direction: column;align-items: center;background-color: white;padding-right: 0.2em;padding-left: 0.2em;position: relative;}#sk-container-id-1 div.sk-item {position: relative;z-index: 1;}#sk-container-id-1 div.sk-parallel {display: flex;align-items: stretch;justify-content: center;background-color: white;position: relative;}#sk-container-id-1 div.sk-item::before, #sk-container-id-1 div.sk-parallel-item::before {content: \"\";position: absolute;border-left: 1px solid gray;box-sizing: border-box;top: 0;bottom: 0;left: 50%;z-index: -1;}#sk-container-id-1 div.sk-parallel-item {display: flex;flex-direction: column;z-index: 1;position: relative;background-color: white;}#sk-container-id-1 div.sk-parallel-item:first-child::after {align-self: flex-end;width: 50%;}#sk-container-id-1 div.sk-parallel-item:last-child::after {align-self: flex-start;width: 50%;}#sk-container-id-1 div.sk-parallel-item:only-child::after {width: 0;}#sk-container-id-1 div.sk-dashed-wrapped {border: 1px dashed gray;margin: 0 0.4em 0.5em 0.4em;box-sizing: border-box;padding-bottom: 0.4em;background-color: white;}#sk-container-id-1 div.sk-label label {font-family: monospace;font-weight: bold;display: inline-block;line-height: 1.2em;}#sk-container-id-1 div.sk-label-container {text-align: center;}#sk-container-id-1 div.sk-container {/* jupyter's `normalize.less` sets `[hidden] { display: none; }` but bootstrap.min.css set `[hidden] { display: none !important; }` so we also need the `!important` here to be able to override the default hidden behavior on the sphinx rendered scikit-learn.org. See: https://github.com/scikit-learn/scikit-learn/issues/21755 */display: inline-block !important;position: relative;}#sk-container-id-1 div.sk-text-repr-fallback {display: none;}</style><div id=\"sk-container-id-1\" class=\"sk-top-container\"><div class=\"sk-text-repr-fallback\"><pre>GridSearchCV(cv=5, estimator=RandomForestRegressor(random_state=42),\n",
       "             param_grid={&#x27;max_depth&#x27;: [None, 10, 20],\n",
       "                         &#x27;min_samples_leaf&#x27;: [1, 2, 4],\n",
       "                         &#x27;min_samples_split&#x27;: [2, 5, 10],\n",
       "                         &#x27;n_estimators&#x27;: [100, 200, 300]},\n",
       "             scoring=&#x27;neg_mean_squared_error&#x27;)</pre><b>In a Jupyter environment, please rerun this cell to show the HTML representation or trust the notebook. <br />On GitHub, the HTML representation is unable to render, please try loading this page with nbviewer.org.</b></div><div class=\"sk-container\" hidden><div class=\"sk-item sk-dashed-wrapped\"><div class=\"sk-label-container\"><div class=\"sk-label sk-toggleable\"><input class=\"sk-toggleable__control sk-hidden--visually\" id=\"sk-estimator-id-1\" type=\"checkbox\" ><label for=\"sk-estimator-id-1\" class=\"sk-toggleable__label sk-toggleable__label-arrow\">GridSearchCV</label><div class=\"sk-toggleable__content\"><pre>GridSearchCV(cv=5, estimator=RandomForestRegressor(random_state=42),\n",
       "             param_grid={&#x27;max_depth&#x27;: [None, 10, 20],\n",
       "                         &#x27;min_samples_leaf&#x27;: [1, 2, 4],\n",
       "                         &#x27;min_samples_split&#x27;: [2, 5, 10],\n",
       "                         &#x27;n_estimators&#x27;: [100, 200, 300]},\n",
       "             scoring=&#x27;neg_mean_squared_error&#x27;)</pre></div></div></div><div class=\"sk-parallel\"><div class=\"sk-parallel-item\"><div class=\"sk-item\"><div class=\"sk-label-container\"><div class=\"sk-label sk-toggleable\"><input class=\"sk-toggleable__control sk-hidden--visually\" id=\"sk-estimator-id-2\" type=\"checkbox\" ><label for=\"sk-estimator-id-2\" class=\"sk-toggleable__label sk-toggleable__label-arrow\">estimator: RandomForestRegressor</label><div class=\"sk-toggleable__content\"><pre>RandomForestRegressor(random_state=42)</pre></div></div></div><div class=\"sk-serial\"><div class=\"sk-item\"><div class=\"sk-estimator sk-toggleable\"><input class=\"sk-toggleable__control sk-hidden--visually\" id=\"sk-estimator-id-3\" type=\"checkbox\" ><label for=\"sk-estimator-id-3\" class=\"sk-toggleable__label sk-toggleable__label-arrow\">RandomForestRegressor</label><div class=\"sk-toggleable__content\"><pre>RandomForestRegressor(random_state=42)</pre></div></div></div></div></div></div></div></div></div></div>"
      ],
      "text/plain": [
       "GridSearchCV(cv=5, estimator=RandomForestRegressor(random_state=42),\n",
       "             param_grid={'max_depth': [None, 10, 20],\n",
       "                         'min_samples_leaf': [1, 2, 4],\n",
       "                         'min_samples_split': [2, 5, 10],\n",
       "                         'n_estimators': [100, 200, 300]},\n",
       "             scoring='neg_mean_squared_error')"
      ]
     },
     "execution_count": 30,
     "metadata": {},
     "output_type": "execute_result"
    }
   ],
   "source": [
    "grid_search = GridSearchCV(estimator=model, param_grid=param_grid, cv=5, scoring='neg_mean_squared_error')\n",
    "grid_search.fit(X_train, y_train)\n"
   ]
  },
  {
   "cell_type": "code",
   "execution_count": 31,
   "id": "8d0600d5",
   "metadata": {},
   "outputs": [],
   "source": [
    "# Get feature importances\n",
    "# feature_importances =grid_search.feature_importances_"
   ]
  },
  {
   "cell_type": "code",
   "execution_count": 31,
   "id": "87d0a86d",
   "metadata": {},
   "outputs": [],
   "source": [
    "best_params = grid_search.best_params_\n",
    "best_estimator = grid_search.best_estimator_\n"
   ]
  },
  {
   "cell_type": "code",
   "execution_count": 32,
   "id": "70481250",
   "metadata": {},
   "outputs": [
    {
     "name": "stdout",
     "output_type": "stream",
     "text": [
      "Best Mean Squared Error: 67.58401026185417\n"
     ]
    }
   ],
   "source": [
    "y_pred = best_estimator.predict(X_test)\n",
    "mse = mean_squared_error(y_test, y_pred)\n",
    "print(f\"Best Mean Squared Error: {mse}\")\n"
   ]
  },
  {
   "cell_type": "code",
   "execution_count": 34,
   "id": "ddb3d4e6",
   "metadata": {},
   "outputs": [
    {
     "name": "stderr",
     "output_type": "stream",
     "text": [
      "C:\\Users\\Asrar\\anaconda3\\lib\\site-packages\\sklearn\\base.py:443: UserWarning: X has feature names, but RandomForestRegressor was fitted without feature names\n",
      "  warnings.warn(\n"
     ]
    },
    {
     "data": {
      "text/plain": [
       "array([4.61042857])"
      ]
     },
     "execution_count": 34,
     "metadata": {},
     "output_type": "execute_result"
    }
   ],
   "source": [
    "y_pred = best_estimator.predict(test_data)\n",
    "y_pred"
   ]
  },
  {
   "cell_type": "code",
   "execution_count": 35,
   "id": "550d068e",
   "metadata": {},
   "outputs": [
    {
     "name": "stdout",
     "output_type": "stream",
     "text": [
      "Cross-Validated Mean Squared Error: 1116.5014960327221\n"
     ]
    }
   ],
   "source": [
    "cv_scores = cross_val_score(best_estimator,X_scaled, y, cv=5, scoring='neg_mean_squared_error')\n",
    "average_mse = -cv_scores.mean()\n",
    "print(f\"Cross-Validated Mean Squared Error: {average_mse}\")\n"
   ]
  },
  {
   "cell_type": "code",
   "execution_count": 36,
   "id": "ca55203f",
   "metadata": {},
   "outputs": [
    {
     "name": "stderr",
     "output_type": "stream",
     "text": [
      "C:\\Users\\Asrar\\anaconda3\\lib\\site-packages\\sklearn\\base.py:443: UserWarning: X has feature names, but RandomForestRegressor was fitted without feature names\n",
      "  warnings.warn(\n"
     ]
    },
    {
     "data": {
      "text/plain": [
       "array([4.61042857])"
      ]
     },
     "execution_count": 36,
     "metadata": {},
     "output_type": "execute_result"
    }
   ],
   "source": [
    "y_pred = best_estimator.predict(test_data)\n",
    "y_pred"
   ]
  },
  {
   "cell_type": "code",
   "execution_count": 65,
   "id": "ec597ea7",
   "metadata": {},
   "outputs": [],
   "source": [
    "from sklearn.metrics import mean_absolute_error\n",
    "\n",
    "\n"
   ]
  },
  {
   "cell_type": "code",
   "execution_count": 66,
   "id": "a3d73d80",
   "metadata": {},
   "outputs": [
    {
     "name": "stdout",
     "output_type": "stream",
     "text": [
      "Root Mean Squared Error: 1.5251138012243328\n"
     ]
    }
   ],
   "source": [
    "import numpy as np\n",
    "\n",
    "rmse = np.sqrt(mse)\n",
    "print(f\"Root Mean Squared Error: {rmse}\")\n",
    "\n"
   ]
  },
  {
   "cell_type": "code",
   "execution_count": null,
   "id": "4712debe",
   "metadata": {},
   "outputs": [],
   "source": [
    "\n",
    "\n",
    "\n",
    "\n"
   ]
  },
  {
   "cell_type": "code",
   "execution_count": null,
   "id": "8309dba8",
   "metadata": {},
   "outputs": [],
   "source": []
  },
  {
   "cell_type": "code",
   "execution_count": 110,
   "id": "3086e6a7",
   "metadata": {},
   "outputs": [],
   "source": [
    "#predicted_rank = model.predict(X_test)"
   ]
  },
  {
   "cell_type": "code",
   "execution_count": null,
   "id": "1c0a7dce",
   "metadata": {},
   "outputs": [],
   "source": []
  },
  {
   "cell_type": "code",
   "execution_count": 21,
   "id": "658cd3ed",
   "metadata": {},
   "outputs": [],
   "source": [
    "test_data = pd.DataFrame({'Age': [30.5], 'Elo': [2185.2], 'HardRaw': [2068.0],\n",
    "                                'ClayRaw': [2016.3], 'GrassRaw': [1942.4],\n",
    "                                'HardCourt': [2126.6],\n",
    "                                'ClayCourt': [2100.8],\n",
    "                                'GrassCourt': [2063.8],\n",
    "                                'Peak Age': [28.8], 'Peak Elo': [2470.0]})\n",
    "\n",
    "  ## 'Peak Age': [28.8], 'Peak Elo': [2470.0]\n"
   ]
  },
  {
   "cell_type": "code",
   "execution_count": 115,
   "id": "48879de0",
   "metadata": {},
   "outputs": [
    {
     "data": {
      "text/html": [
       "<div>\n",
       "<style scoped>\n",
       "    .dataframe tbody tr th:only-of-type {\n",
       "        vertical-align: middle;\n",
       "    }\n",
       "\n",
       "    .dataframe tbody tr th {\n",
       "        vertical-align: top;\n",
       "    }\n",
       "\n",
       "    .dataframe thead th {\n",
       "        text-align: right;\n",
       "    }\n",
       "</style>\n",
       "<table border=\"1\" class=\"dataframe\">\n",
       "  <thead>\n",
       "    <tr style=\"text-align: right;\">\n",
       "      <th></th>\n",
       "      <th>Player</th>\n",
       "      <th>Age</th>\n",
       "      <th>Elo</th>\n",
       "      <th>HardRaw</th>\n",
       "      <th>ClayRaw</th>\n",
       "      <th>GrassRaw</th>\n",
       "      <th>HardCourt</th>\n",
       "      <th>ClayCourt</th>\n",
       "      <th>GrassCourt</th>\n",
       "      <th>Peak Match</th>\n",
       "      <th>Peak Age</th>\n",
       "      <th>Peak Elo</th>\n",
       "      <th>Gender</th>\n",
       "      <th>Rank</th>\n",
       "    </tr>\n",
       "  </thead>\n",
       "  <tbody>\n",
       "    <tr>\n",
       "      <th>0</th>\n",
       "      <td>Novak Djokovic</td>\n",
       "      <td>34.5</td>\n",
       "      <td>2185.2</td>\n",
       "      <td>2068.0</td>\n",
       "      <td>2016.3</td>\n",
       "      <td>1942.4</td>\n",
       "      <td>2126.6</td>\n",
       "      <td>2100.8</td>\n",
       "      <td>2063.8</td>\n",
       "      <td>2016 Miami F</td>\n",
       "      <td>28.8</td>\n",
       "      <td>2470.0</td>\n",
       "      <td>Male</td>\n",
       "      <td>1</td>\n",
       "    </tr>\n",
       "    <tr>\n",
       "      <th>1</th>\n",
       "      <td>Daniil Medvedev</td>\n",
       "      <td>25.9</td>\n",
       "      <td>2166.2</td>\n",
       "      <td>2095.3</td>\n",
       "      <td>1714.1</td>\n",
       "      <td>1723.4</td>\n",
       "      <td>2130.7</td>\n",
       "      <td>1940.1</td>\n",
       "      <td>1944.8</td>\n",
       "      <td>2022 Atp Cup RR</td>\n",
       "      <td>25.9</td>\n",
       "      <td>2175.1</td>\n",
       "      <td>Male</td>\n",
       "      <td>2</td>\n",
       "    </tr>\n",
       "  </tbody>\n",
       "</table>\n",
       "</div>"
      ],
      "text/plain": [
       "            Player   Age     Elo  HardRaw  ClayRaw  GrassRaw  HardCourt  \\\n",
       "0   Novak Djokovic  34.5  2185.2   2068.0   2016.3    1942.4     2126.6   \n",
       "1  Daniil Medvedev  25.9  2166.2   2095.3   1714.1    1723.4     2130.7   \n",
       "\n",
       "   ClayCourt  GrassCourt       Peak Match  Peak Age  Peak Elo Gender  Rank  \n",
       "0     2100.8      2063.8     2016 Miami F      28.8    2470.0   Male     1  \n",
       "1     1940.1      1944.8  2022 Atp Cup RR      25.9    2175.1   Male     2  "
      ]
     },
     "execution_count": 115,
     "metadata": {},
     "output_type": "execute_result"
    }
   ],
   "source": [
    "df.head(2)"
   ]
  },
  {
   "cell_type": "code",
   "execution_count": 84,
   "id": "9f786cc1",
   "metadata": {
    "scrolled": true
   },
   "outputs": [
    {
     "name": "stdout",
     "output_type": "stream",
     "text": [
      "                 Age       Elo   HardRaw   ClayRaw  GrassRaw  HardCourt  \\\n",
      "Age         1.000000  0.087236  0.175811  0.152076  0.417287   0.132399   \n",
      "Elo         0.087236  1.000000  0.745223  0.720425  0.484839   0.974719   \n",
      "HardRaw     0.175811  0.745223  1.000000  0.445581  0.534371   0.813358   \n",
      "ClayRaw     0.152076  0.720425  0.445581  1.000000  0.379136   0.649627   \n",
      "GrassRaw    0.417287  0.484839  0.534371  0.379136  1.000000   0.527114   \n",
      "HardCourt   0.132399  0.974719  0.813358  0.649627  0.527114   1.000000   \n",
      "ClayCourt   0.110247  0.959713  0.664605  0.832931  0.460841   0.904944   \n",
      "GrassCourt  0.122136  0.932728  0.713979  0.648688  0.485638   0.927029   \n",
      "Peak Age    0.715910  0.180307  0.168094  0.196879  0.286420   0.190792   \n",
      "Peak Elo    0.395080  0.853814  0.702317  0.676403  0.609875   0.865075   \n",
      "Rank       -0.106063 -0.973760 -0.723175 -0.712674 -0.494372  -0.943475   \n",
      "\n",
      "            ClayCourt  GrassCourt  Peak Age  Peak Elo      Rank  \n",
      "Age          0.110247    0.122136  0.715910  0.395080 -0.106063  \n",
      "Elo          0.959713    0.932728  0.180307  0.853814 -0.973760  \n",
      "HardRaw      0.664605    0.713979  0.168094  0.702317 -0.723175  \n",
      "ClayRaw      0.832931    0.648688  0.196879  0.676403 -0.712674  \n",
      "GrassRaw     0.460841    0.485638  0.286420  0.609875 -0.494372  \n",
      "HardCourt    0.904944    0.927029  0.190792  0.865075 -0.943475  \n",
      "ClayCourt    1.000000    0.878085  0.197653  0.842841 -0.937467  \n",
      "GrassCourt   0.878085    1.000000  0.160288  0.836331 -0.899142  \n",
      "Peak Age     0.197653    0.160288  1.000000  0.273803 -0.201832  \n",
      "Peak Elo     0.842841    0.836331  0.273803  1.000000 -0.823834  \n",
      "Rank        -0.937467   -0.899142 -0.201832 -0.823834  1.000000  \n"
     ]
    },
    {
     "name": "stderr",
     "output_type": "stream",
     "text": [
      "C:\\Users\\Asrar\\AppData\\Local\\Temp/ipykernel_7672/2448198415.py:2: FutureWarning: The default value of numeric_only in DataFrame.corr is deprecated. In a future version, it will default to False. Select only valid columns or specify the value of numeric_only to silence this warning.\n",
      "  correlation_matrix = df.corr()\n"
     ]
    }
   ],
   "source": [
    "# Calculate the correlation matrix\n",
    "correlation_matrix = df.corr()\n",
    "\n",
    "# Display the correlation matrix\n",
    "print(correlation_matrix)"
   ]
  },
  {
   "cell_type": "code",
   "execution_count": 31,
   "id": "b66dff08",
   "metadata": {},
   "outputs": [],
   "source": [
    "import pandas as pd\n",
    "import seaborn as sns\n",
    "import matplotlib.pyplot as plt"
   ]
  },
  {
   "cell_type": "code",
   "execution_count": 32,
   "id": "ec1a4195",
   "metadata": {},
   "outputs": [
    {
     "data": {
      "image/png": "[encoded data removed]",
      "text/plain": [
       "<Figure size 720x576 with 2 Axes>"
      ]
     },
     "metadata": {
      "needs_background": "light"
     },
     "output_type": "display_data"
    }
   ],
   "source": [
    "# Create a heatmap\n",
    "plt.figure(figsize=(10, 8))\n",
    "sns.heatmap(correlation_matrix, annot=True, cmap='coolwarm', linewidths=0.5)\n",
    "plt.title('Correlation Heatmap')\n",
    "plt.show()"
   ]
  },
  {
   "cell_type": "code",
   "execution_count": null,
   "id": "134617b3",
   "metadata": {},
   "outputs": [],
   "source": []
  },
  {
   "cell_type": "code",
   "execution_count": null,
   "id": "6909b531",
   "metadata": {},
   "outputs": [],
   "source": []
  },
  {
   "cell_type": "code",
   "execution_count": null,
   "id": "018b0c4f",
   "metadata": {},
   "outputs": [],
   "source": []
  },
  {
   "cell_type": "code",
   "execution_count": null,
   "id": "b3fadd02",
   "metadata": {},
   "outputs": [],
   "source": []
  },
  {
   "cell_type": "code",
   "execution_count": null,
   "id": "6e9b3980",
   "metadata": {},
   "outputs": [],
   "source": []
  },
  {
   "cell_type": "code",
   "execution_count": null,
   "id": "71d86756",
   "metadata": {},
   "outputs": [],
   "source": [
    "# A lower MSE value indicates better model performance, \n",
    "# as it means that the predicted values are closer to the actual values on average. \n",
    "# Conversely, a higher MSE indicates that \n",
    "# the model's predictions are farther from the actual values on average."
   ]
  },
  {
   "cell_type": "code",
   "execution_count": null,
   "id": "87b6592f",
   "metadata": {},
   "outputs": [],
   "source": []
  },
  {
   "cell_type": "code",
   "execution_count": 20,
   "id": "b8df321c",
   "metadata": {},
   "outputs": [
    {
     "data": {
      "text/html": [
       "<div>\n",
       "<style scoped>\n",
       "    .dataframe tbody tr th:only-of-type {\n",
       "        vertical-align: middle;\n",
       "    }\n",
       "\n",
       "    .dataframe tbody tr th {\n",
       "        vertical-align: top;\n",
       "    }\n",
       "\n",
       "    .dataframe thead th {\n",
       "        text-align: right;\n",
       "    }\n",
       "</style>\n",
       "<table border=\"1\" class=\"dataframe\">\n",
       "  <thead>\n",
       "    <tr style=\"text-align: right;\">\n",
       "      <th></th>\n",
       "      <th>Rank</th>\n",
       "      <th>Player</th>\n",
       "      <th>Age</th>\n",
       "      <th>Elo</th>\n",
       "      <th>HardRaw</th>\n",
       "      <th>ClayRaw</th>\n",
       "      <th>GrassRaw</th>\n",
       "      <th>HardCourt</th>\n",
       "      <th>ClayCourt</th>\n",
       "      <th>GrassCourt</th>\n",
       "      <th>Peak Elo</th>\n",
       "      <th>Gender</th>\n",
       "    </tr>\n",
       "  </thead>\n",
       "  <tbody>\n",
       "    <tr>\n",
       "      <th>0</th>\n",
       "      <td>1</td>\n",
       "      <td>Novak Djokovic</td>\n",
       "      <td>34.5</td>\n",
       "      <td>2185.2</td>\n",
       "      <td>2068.0</td>\n",
       "      <td>2016.3</td>\n",
       "      <td>1942.4</td>\n",
       "      <td>2126.6</td>\n",
       "      <td>2100.8</td>\n",
       "      <td>2063.8</td>\n",
       "      <td>2470.0</td>\n",
       "      <td>Male</td>\n",
       "    </tr>\n",
       "    <tr>\n",
       "      <th>1</th>\n",
       "      <td>2</td>\n",
       "      <td>Daniil Medvedev</td>\n",
       "      <td>25.9</td>\n",
       "      <td>2166.2</td>\n",
       "      <td>2095.3</td>\n",
       "      <td>1714.1</td>\n",
       "      <td>1723.4</td>\n",
       "      <td>2130.7</td>\n",
       "      <td>1940.1</td>\n",
       "      <td>1944.8</td>\n",
       "      <td>2175.1</td>\n",
       "      <td>Male</td>\n",
       "    </tr>\n",
       "  </tbody>\n",
       "</table>\n",
       "</div>"
      ],
      "text/plain": [
       "   Rank           Player   Age     Elo  HardRaw  ClayRaw  GrassRaw  HardCourt  \\\n",
       "0     1   Novak Djokovic  34.5  2185.2   2068.0   2016.3    1942.4     2126.6   \n",
       "1     2  Daniil Medvedev  25.9  2166.2   2095.3   1714.1    1723.4     2130.7   \n",
       "\n",
       "   ClayCourt  GrassCourt  Peak Elo Gender  \n",
       "0     2100.8      2063.8    2470.0   Male  \n",
       "1     1940.1      1944.8    2175.1   Male  "
      ]
     },
     "execution_count": 20,
     "metadata": {},
     "output_type": "execute_result"
    }
   ],
   "source": [
    "df2 = df[['Rank','Player','Age','Elo', 'HardRaw', 'ClayRaw', 'GrassRaw', 'HardCourt',\n",
    "       'ClayCourt', 'GrassCourt', 'Peak Elo',\n",
    "       'Gender']]\n",
    "df2.head(2)"
   ]
  },
  {
   "cell_type": "code",
   "execution_count": 23,
   "id": "83b3766f",
   "metadata": {},
   "outputs": [
    {
     "name": "stderr",
     "output_type": "stream",
     "text": [
      "C:\\Users\\Asrar\\AppData\\Local\\Temp/ipykernel_16736/2687590292.py:3: FutureWarning: The frame.append method is deprecated and will be removed from pandas in a future version. Use pandas.concat instead.\n",
      "  df2 = df2.append(pd.DataFrame(a, columns=['Rank','Player','Age', 'Elo', 'HardRaw', 'ClayRaw', 'GrassRaw', 'HardCourt',\n"
     ]
    },
    {
     "data": {
      "text/html": [
       "<div>\n",
       "<style scoped>\n",
       "    .dataframe tbody tr th:only-of-type {\n",
       "        vertical-align: middle;\n",
       "    }\n",
       "\n",
       "    .dataframe tbody tr th {\n",
       "        vertical-align: top;\n",
       "    }\n",
       "\n",
       "    .dataframe thead th {\n",
       "        text-align: right;\n",
       "    }\n",
       "</style>\n",
       "<table border=\"1\" class=\"dataframe\">\n",
       "  <thead>\n",
       "    <tr style=\"text-align: right;\">\n",
       "      <th></th>\n",
       "      <th>Rank</th>\n",
       "      <th>Player</th>\n",
       "      <th>Age</th>\n",
       "      <th>Elo</th>\n",
       "      <th>HardRaw</th>\n",
       "      <th>ClayRaw</th>\n",
       "      <th>GrassRaw</th>\n",
       "      <th>HardCourt</th>\n",
       "      <th>ClayCourt</th>\n",
       "      <th>GrassCourt</th>\n",
       "      <th>Peak Elo</th>\n",
       "      <th>Gender</th>\n",
       "    </tr>\n",
       "  </thead>\n",
       "  <tbody>\n",
       "    <tr>\n",
       "      <th>0</th>\n",
       "      <td>1</td>\n",
       "      <td>Novak Djokovic</td>\n",
       "      <td>34.5</td>\n",
       "      <td>2185.2</td>\n",
       "      <td>2068.0</td>\n",
       "      <td>2016.3</td>\n",
       "      <td>1942.4</td>\n",
       "      <td>2126.6</td>\n",
       "      <td>2100.8</td>\n",
       "      <td>2063.8</td>\n",
       "      <td>2470.0</td>\n",
       "      <td>Male</td>\n",
       "    </tr>\n",
       "    <tr>\n",
       "      <th>1</th>\n",
       "      <td>2</td>\n",
       "      <td>Daniil Medvedev</td>\n",
       "      <td>25.9</td>\n",
       "      <td>2166.2</td>\n",
       "      <td>2095.3</td>\n",
       "      <td>1714.1</td>\n",
       "      <td>1723.4</td>\n",
       "      <td>2130.7</td>\n",
       "      <td>1940.1</td>\n",
       "      <td>1944.8</td>\n",
       "      <td>2175.1</td>\n",
       "      <td>Male</td>\n",
       "    </tr>\n",
       "  </tbody>\n",
       "</table>\n",
       "</div>"
      ],
      "text/plain": [
       "   Rank           Player   Age     Elo  HardRaw  ClayRaw  GrassRaw  HardCourt  \\\n",
       "0     1   Novak Djokovic  34.5  2185.2   2068.0   2016.3    1942.4     2126.6   \n",
       "1     2  Daniil Medvedev  25.9  2166.2   2095.3   1714.1    1723.4     2130.7   \n",
       "\n",
       "   ClayCourt  GrassCourt  Peak Elo Gender  \n",
       "0     2100.8      2063.8    2470.0   Male  \n",
       "1     1940.1      1944.8    2175.1   Male  "
      ]
     },
     "execution_count": 23,
     "metadata": {},
     "output_type": "execute_result"
    }
   ],
   "source": [
    "Player = 'PlayerTwo'\n",
    "a = [[0, 'PlayerTwo',34,2456.0, 2134.0, 2403.0, 2104.0, 2081.0, 2000.0, 2301.0, 2459.0, 'Female']]\n",
    "df2 = df2.append(pd.DataFrame(a, columns=['Rank','Player','Age', 'Elo', 'HardRaw', 'ClayRaw', 'GrassRaw', 'HardCourt',\n",
    "       'ClayCourt', 'GrassCourt', 'Peak Elo',\n",
    "       'Gender']),ignore_index=True)\n",
    "df2.head(2)"
   ]
  },
  {
   "cell_type": "code",
   "execution_count": null,
   "id": "f8df8319",
   "metadata": {},
   "outputs": [],
   "source": [
    "Player = 'PlayerTwo'\n",
    "a = [[0, 'PlayerTwo', 2456.0, 2134.0, 2403.0, 2104.0, 2081.0, 2000.0, 2301.0, 2459.0, 'Female']]\n",
    "df2 = df2.append(pd.DataFrame(a, columns=['Rank','Player', 'Elo', 'HardRaw', 'ClayRaw', 'GrassRaw', 'HardCourt',\n",
    "       'ClayCourt', 'GrassCourt', 'Peak Elo',\n",
    "       'Gender']),ignore_index=True)"
   ]
  },
  {
   "cell_type": "code",
   "execution_count": null,
   "id": "08da21a8",
   "metadata": {},
   "outputs": [],
   "source": [
    "Player = 'PlayerThree'\n",
    "a = [[0, 'PlayerThree', 2068.0, 2134.0, 2403.0, 2104.0, 2081.0, 2000.0, 2301.0, 2459.0, 'Female']]\n",
    "df2 = df2.append(pd.DataFrame(a, columns=['Rank','Player', 'Elo', 'HardRaw', 'ClayRaw', 'GrassRaw', 'HardCourt',\n",
    "       'ClayCourt', 'GrassCourt', 'Peak Elo',\n",
    "       'Gender']),ignore_index=True)"
   ]
  },
  {
   "cell_type": "code",
   "execution_count": null,
   "id": "c918d1ba",
   "metadata": {},
   "outputs": [],
   "source": []
  },
  {
   "cell_type": "code",
   "execution_count": 24,
   "id": "f035b2d3",
   "metadata": {},
   "outputs": [
    {
     "data": {
      "text/html": [
       "<div>\n",
       "<style scoped>\n",
       "    .dataframe tbody tr th:only-of-type {\n",
       "        vertical-align: middle;\n",
       "    }\n",
       "\n",
       "    .dataframe tbody tr th {\n",
       "        vertical-align: top;\n",
       "    }\n",
       "\n",
       "    .dataframe thead th {\n",
       "        text-align: right;\n",
       "    }\n",
       "</style>\n",
       "<table border=\"1\" class=\"dataframe\">\n",
       "  <thead>\n",
       "    <tr style=\"text-align: right;\">\n",
       "      <th></th>\n",
       "      <th>Rank</th>\n",
       "      <th>Player</th>\n",
       "      <th>Age</th>\n",
       "      <th>Elo</th>\n",
       "      <th>HardRaw</th>\n",
       "      <th>ClayRaw</th>\n",
       "      <th>GrassRaw</th>\n",
       "      <th>HardCourt</th>\n",
       "      <th>ClayCourt</th>\n",
       "      <th>GrassCourt</th>\n",
       "      <th>Peak Elo</th>\n",
       "      <th>Gender</th>\n",
       "    </tr>\n",
       "    <tr>\n",
       "      <th>new_index</th>\n",
       "      <th></th>\n",
       "      <th></th>\n",
       "      <th></th>\n",
       "      <th></th>\n",
       "      <th></th>\n",
       "      <th></th>\n",
       "      <th></th>\n",
       "      <th></th>\n",
       "      <th></th>\n",
       "      <th></th>\n",
       "      <th></th>\n",
       "      <th></th>\n",
       "    </tr>\n",
       "  </thead>\n",
       "  <tbody>\n",
       "    <tr>\n",
       "      <th>0</th>\n",
       "      <td>0</td>\n",
       "      <td>PlayerTwo</td>\n",
       "      <td>34.0</td>\n",
       "      <td>2456.0</td>\n",
       "      <td>2134.0</td>\n",
       "      <td>2403.0</td>\n",
       "      <td>2104.0</td>\n",
       "      <td>2081.0</td>\n",
       "      <td>2000.0</td>\n",
       "      <td>2301.0</td>\n",
       "      <td>2459.0</td>\n",
       "      <td>Female</td>\n",
       "    </tr>\n",
       "    <tr>\n",
       "      <th>1</th>\n",
       "      <td>0</td>\n",
       "      <td>PlayerTwo</td>\n",
       "      <td>NaN</td>\n",
       "      <td>2456.0</td>\n",
       "      <td>2134.0</td>\n",
       "      <td>2403.0</td>\n",
       "      <td>2104.0</td>\n",
       "      <td>2081.0</td>\n",
       "      <td>2000.0</td>\n",
       "      <td>2301.0</td>\n",
       "      <td>2459.0</td>\n",
       "      <td>Female</td>\n",
       "    </tr>\n",
       "  </tbody>\n",
       "</table>\n",
       "</div>"
      ],
      "text/plain": [
       "           Rank     Player   Age     Elo  HardRaw  ClayRaw  GrassRaw  \\\n",
       "new_index                                                              \n",
       "0             0  PlayerTwo  34.0  2456.0   2134.0   2403.0    2104.0   \n",
       "1             0  PlayerTwo   NaN  2456.0   2134.0   2403.0    2104.0   \n",
       "\n",
       "           HardCourt  ClayCourt  GrassCourt  Peak Elo  Gender  \n",
       "new_index                                                      \n",
       "0             2081.0     2000.0      2301.0    2459.0  Female  \n",
       "1             2081.0     2000.0      2301.0    2459.0  Female  "
      ]
     },
     "execution_count": 24,
     "metadata": {},
     "output_type": "execute_result"
    }
   ],
   "source": [
    "df2 = df2.sort_values(by=['Elo'],ascending=False).reset_index(drop=True)\n",
    "#df2.sort_values(by=['Peak Elo'],inplace=True,ascending=False)\n",
    "\n",
    "df2.index.rename('new_index', inplace=True)\n",
    "df2.head(2)"
   ]
  },
  {
   "cell_type": "code",
   "execution_count": 25,
   "id": "738800e6",
   "metadata": {},
   "outputs": [
    {
     "data": {
      "text/html": [
       "<div>\n",
       "<style scoped>\n",
       "    .dataframe tbody tr th:only-of-type {\n",
       "        vertical-align: middle;\n",
       "    }\n",
       "\n",
       "    .dataframe tbody tr th {\n",
       "        vertical-align: top;\n",
       "    }\n",
       "\n",
       "    .dataframe thead th {\n",
       "        text-align: right;\n",
       "    }\n",
       "</style>\n",
       "<table border=\"1\" class=\"dataframe\">\n",
       "  <thead>\n",
       "    <tr style=\"text-align: right;\">\n",
       "      <th></th>\n",
       "      <th>Player</th>\n",
       "      <th>Rank</th>\n",
       "    </tr>\n",
       "    <tr>\n",
       "      <th>new_index</th>\n",
       "      <th></th>\n",
       "      <th></th>\n",
       "    </tr>\n",
       "  </thead>\n",
       "  <tbody>\n",
       "    <tr>\n",
       "      <th>0</th>\n",
       "      <td>PlayerTwo</td>\n",
       "      <td>1</td>\n",
       "    </tr>\n",
       "    <tr>\n",
       "      <th>1</th>\n",
       "      <td>PlayerTwo</td>\n",
       "      <td>1</td>\n",
       "    </tr>\n",
       "  </tbody>\n",
       "</table>\n",
       "</div>"
      ],
      "text/plain": [
       "              Player  Rank\n",
       "new_index                 \n",
       "0          PlayerTwo     1\n",
       "1          PlayerTwo     1"
      ]
     },
     "execution_count": 25,
     "metadata": {},
     "output_type": "execute_result"
    }
   ],
   "source": [
    "df2['Rank'] =df2['Rank'] + 1\n",
    "df2[df2.apply(lambda x: x.Player==Player, axis=1)][['Player', 'Rank']]"
   ]
  },
  {
   "cell_type": "code",
   "execution_count": null,
   "id": "62dc4f99",
   "metadata": {},
   "outputs": [],
   "source": []
  },
  {
   "cell_type": "code",
   "execution_count": 19,
   "id": "8a0a90a5",
   "metadata": {},
   "outputs": [
    {
     "data": {
      "text/html": [
       "<div>\n",
       "<style scoped>\n",
       "    .dataframe tbody tr th:only-of-type {\n",
       "        vertical-align: middle;\n",
       "    }\n",
       "\n",
       "    .dataframe tbody tr th {\n",
       "        vertical-align: top;\n",
       "    }\n",
       "\n",
       "    .dataframe thead th {\n",
       "        text-align: right;\n",
       "    }\n",
       "</style>\n",
       "<table border=\"1\" class=\"dataframe\">\n",
       "  <thead>\n",
       "    <tr style=\"text-align: right;\">\n",
       "      <th></th>\n",
       "      <th>Rank</th>\n",
       "      <th>Player</th>\n",
       "      <th>Elo</th>\n",
       "      <th>HardRaw</th>\n",
       "      <th>ClayRaw</th>\n",
       "      <th>GrassRaw</th>\n",
       "      <th>HardCourt</th>\n",
       "      <th>ClayCourt</th>\n",
       "      <th>GrassCourt</th>\n",
       "      <th>Peak Elo</th>\n",
       "      <th>Gender</th>\n",
       "    </tr>\n",
       "    <tr>\n",
       "      <th>new_index</th>\n",
       "      <th></th>\n",
       "      <th></th>\n",
       "      <th></th>\n",
       "      <th></th>\n",
       "      <th></th>\n",
       "      <th></th>\n",
       "      <th></th>\n",
       "      <th></th>\n",
       "      <th></th>\n",
       "      <th></th>\n",
       "      <th></th>\n",
       "    </tr>\n",
       "  </thead>\n",
       "  <tbody>\n",
       "    <tr>\n",
       "      <th>0</th>\n",
       "      <td>1</td>\n",
       "      <td>PlayerTwo</td>\n",
       "      <td>2456.0</td>\n",
       "      <td>2134.0</td>\n",
       "      <td>2403.0</td>\n",
       "      <td>2104.0</td>\n",
       "      <td>2081.0</td>\n",
       "      <td>2000.0</td>\n",
       "      <td>2301.0</td>\n",
       "      <td>2459.0</td>\n",
       "      <td>Female</td>\n",
       "    </tr>\n",
       "    <tr>\n",
       "      <th>1</th>\n",
       "      <td>1</td>\n",
       "      <td>PlayerTwo</td>\n",
       "      <td>2456.0</td>\n",
       "      <td>2134.0</td>\n",
       "      <td>2403.0</td>\n",
       "      <td>2104.0</td>\n",
       "      <td>2081.0</td>\n",
       "      <td>2000.0</td>\n",
       "      <td>2301.0</td>\n",
       "      <td>2459.0</td>\n",
       "      <td>Female</td>\n",
       "    </tr>\n",
       "    <tr>\n",
       "      <th>2</th>\n",
       "      <td>2</td>\n",
       "      <td>Novak Djokovic</td>\n",
       "      <td>2185.2</td>\n",
       "      <td>2068.0</td>\n",
       "      <td>2016.3</td>\n",
       "      <td>1942.4</td>\n",
       "      <td>2126.6</td>\n",
       "      <td>2100.8</td>\n",
       "      <td>2063.8</td>\n",
       "      <td>2470.0</td>\n",
       "      <td>Male</td>\n",
       "    </tr>\n",
       "    <tr>\n",
       "      <th>3</th>\n",
       "      <td>2</td>\n",
       "      <td>Ashleigh Barty</td>\n",
       "      <td>2132.0</td>\n",
       "      <td>1994.1</td>\n",
       "      <td>1929.0</td>\n",
       "      <td>1817.9</td>\n",
       "      <td>2063.0</td>\n",
       "      <td>2030.5</td>\n",
       "      <td>1975.0</td>\n",
       "      <td>2148.9</td>\n",
       "      <td>Female</td>\n",
       "    </tr>\n",
       "    <tr>\n",
       "      <th>4</th>\n",
       "      <td>3</td>\n",
       "      <td>Daniil Medvedev</td>\n",
       "      <td>2166.2</td>\n",
       "      <td>2095.3</td>\n",
       "      <td>1714.1</td>\n",
       "      <td>1723.4</td>\n",
       "      <td>2130.7</td>\n",
       "      <td>1940.1</td>\n",
       "      <td>1944.8</td>\n",
       "      <td>2175.1</td>\n",
       "      <td>Male</td>\n",
       "    </tr>\n",
       "    <tr>\n",
       "      <th>5</th>\n",
       "      <td>3</td>\n",
       "      <td>Naomi Osaka</td>\n",
       "      <td>2038.9</td>\n",
       "      <td>1986.8</td>\n",
       "      <td>1661.1</td>\n",
       "      <td>1546.2</td>\n",
       "      <td>2012.9</td>\n",
       "      <td>1850.0</td>\n",
       "      <td>1792.5</td>\n",
       "      <td>2114.3</td>\n",
       "      <td>Female</td>\n",
       "    </tr>\n",
       "  </tbody>\n",
       "</table>\n",
       "</div>"
      ],
      "text/plain": [
       "           Rank           Player     Elo  HardRaw  ClayRaw  GrassRaw  \\\n",
       "new_index                                                              \n",
       "0             1        PlayerTwo  2456.0   2134.0   2403.0    2104.0   \n",
       "1             1        PlayerTwo  2456.0   2134.0   2403.0    2104.0   \n",
       "2             2   Novak Djokovic  2185.2   2068.0   2016.3    1942.4   \n",
       "3             2   Ashleigh Barty  2132.0   1994.1   1929.0    1817.9   \n",
       "4             3  Daniil Medvedev  2166.2   2095.3   1714.1    1723.4   \n",
       "5             3      Naomi Osaka  2038.9   1986.8   1661.1    1546.2   \n",
       "\n",
       "           HardCourt  ClayCourt  GrassCourt  Peak Elo  Gender  \n",
       "new_index                                                      \n",
       "0             2081.0     2000.0      2301.0    2459.0  Female  \n",
       "1             2081.0     2000.0      2301.0    2459.0  Female  \n",
       "2             2126.6     2100.8      2063.8    2470.0    Male  \n",
       "3             2063.0     2030.5      1975.0    2148.9  Female  \n",
       "4             2130.7     1940.1      1944.8    2175.1    Male  \n",
       "5             2012.9     1850.0      1792.5    2114.3  Female  "
      ]
     },
     "execution_count": 19,
     "metadata": {},
     "output_type": "execute_result"
    }
   ],
   "source": [
    "df2 = df2.sort_values(by=['Rank'],ascending=True).reset_index(drop=True)\n",
    "#df2.sort_values(by=['Peak Elo'],inplace=True,ascending=False)\n",
    "\n",
    "df2.index.rename('new_index', inplace=True)\n",
    "df2.head(6)"
   ]
  },
  {
   "cell_type": "code",
   "execution_count": null,
   "id": "0f6249a9",
   "metadata": {},
   "outputs": [],
   "source": []
  },
  {
   "cell_type": "code",
   "execution_count": 132,
   "id": "51b791d7",
   "metadata": {},
   "outputs": [],
   "source": [
    "X = df[[\"Age\",\"Elo\",\"HardRaw\",\"ClayRaw\",\"GrassRaw\",\"HardCourt\",\n",
    "        \"ClayCourt\",\"GrassCourt\",\"Peak Age\",\"Peak Elo\"]]\n",
    "y = df[[\"Rank\"]]\n",
    "\n"
   ]
  },
  {
   "cell_type": "code",
   "execution_count": 99,
   "id": "b5e83d5a",
   "metadata": {},
   "outputs": [],
   "source": [
    "#X = data[['Age', 'Elo', 'HardRaw', 'ClayRaw', 'GrassRaw', 'hard court elo rating',\n",
    "         # 'clay-court elo rating', 'grass-court elo rating', 'Peak Age', 'Peak Elo']]\n"
   ]
  },
  {
   "cell_type": "code",
   "execution_count": 110,
   "id": "7a441c4c",
   "metadata": {},
   "outputs": [],
   "source": [
    "from sklearn.model_selection import train_test_split\n",
    "X_train, X_test, y_train, y_test = train_test_split(X, y, test_size=0.2, random_state=42)\n"
   ]
  },
  {
   "cell_type": "code",
   "execution_count": 134,
   "id": "da6d5843",
   "metadata": {},
   "outputs": [],
   "source": [
    "X_train, X_test, y_train, y_test = train_test_split(X_scaled, y, test_size=0.2, random_state=42)\n"
   ]
  },
  {
   "cell_type": "code",
   "execution_count": 135,
   "id": "9eecd0ec",
   "metadata": {},
   "outputs": [
    {
     "data": {
      "text/html": [
       "<style>#sk-container-id-9 {color: black;background-color: white;}#sk-container-id-9 pre{padding: 0;}#sk-container-id-9 div.sk-toggleable {background-color: white;}#sk-container-id-9 label.sk-toggleable__label {cursor: pointer;display: block;width: 100%;margin-bottom: 0;padding: 0.3em;box-sizing: border-box;text-align: center;}#sk-container-id-9 label.sk-toggleable__label-arrow:before {content: \"▸\";float: left;margin-right: 0.25em;color: #696969;}#sk-container-id-9 label.sk-toggleable__label-arrow:hover:before {color: black;}#sk-container-id-9 div.sk-estimator:hover label.sk-toggleable__label-arrow:before {color: black;}#sk-container-id-9 div.sk-toggleable__content {max-height: 0;max-width: 0;overflow: hidden;text-align: left;background-color: #f0f8ff;}#sk-container-id-9 div.sk-toggleable__content pre {margin: 0.2em;color: black;border-radius: 0.25em;background-color: #f0f8ff;}#sk-container-id-9 input.sk-toggleable__control:checked~div.sk-toggleable__content {max-height: 200px;max-width: 100%;overflow: auto;}#sk-container-id-9 input.sk-toggleable__control:checked~label.sk-toggleable__label-arrow:before {content: \"▾\";}#sk-container-id-9 div.sk-estimator input.sk-toggleable__control:checked~label.sk-toggleable__label {background-color: #d4ebff;}#sk-container-id-9 div.sk-label input.sk-toggleable__control:checked~label.sk-toggleable__label {background-color: #d4ebff;}#sk-container-id-9 input.sk-hidden--visually {border: 0;clip: rect(1px 1px 1px 1px);clip: rect(1px, 1px, 1px, 1px);height: 1px;margin: -1px;overflow: hidden;padding: 0;position: absolute;width: 1px;}#sk-container-id-9 div.sk-estimator {font-family: monospace;background-color: #f0f8ff;border: 1px dotted black;border-radius: 0.25em;box-sizing: border-box;margin-bottom: 0.5em;}#sk-container-id-9 div.sk-estimator:hover {background-color: #d4ebff;}#sk-container-id-9 div.sk-parallel-item::after {content: \"\";width: 100%;border-bottom: 1px solid gray;flex-grow: 1;}#sk-container-id-9 div.sk-label:hover label.sk-toggleable__label {background-color: #d4ebff;}#sk-container-id-9 div.sk-serial::before {content: \"\";position: absolute;border-left: 1px solid gray;box-sizing: border-box;top: 0;bottom: 0;left: 50%;z-index: 0;}#sk-container-id-9 div.sk-serial {display: flex;flex-direction: column;align-items: center;background-color: white;padding-right: 0.2em;padding-left: 0.2em;position: relative;}#sk-container-id-9 div.sk-item {position: relative;z-index: 1;}#sk-container-id-9 div.sk-parallel {display: flex;align-items: stretch;justify-content: center;background-color: white;position: relative;}#sk-container-id-9 div.sk-item::before, #sk-container-id-9 div.sk-parallel-item::before {content: \"\";position: absolute;border-left: 1px solid gray;box-sizing: border-box;top: 0;bottom: 0;left: 50%;z-index: -1;}#sk-container-id-9 div.sk-parallel-item {display: flex;flex-direction: column;z-index: 1;position: relative;background-color: white;}#sk-container-id-9 div.sk-parallel-item:first-child::after {align-self: flex-end;width: 50%;}#sk-container-id-9 div.sk-parallel-item:last-child::after {align-self: flex-start;width: 50%;}#sk-container-id-9 div.sk-parallel-item:only-child::after {width: 0;}#sk-container-id-9 div.sk-dashed-wrapped {border: 1px dashed gray;margin: 0 0.4em 0.5em 0.4em;box-sizing: border-box;padding-bottom: 0.4em;background-color: white;}#sk-container-id-9 div.sk-label label {font-family: monospace;font-weight: bold;display: inline-block;line-height: 1.2em;}#sk-container-id-9 div.sk-label-container {text-align: center;}#sk-container-id-9 div.sk-container {/* jupyter's `normalize.less` sets `[hidden] { display: none; }` but bootstrap.min.css set `[hidden] { display: none !important; }` so we also need the `!important` here to be able to override the default hidden behavior on the sphinx rendered scikit-learn.org. See: https://github.com/scikit-learn/scikit-learn/issues/21755 */display: inline-block !important;position: relative;}#sk-container-id-9 div.sk-text-repr-fallback {display: none;}</style><div id=\"sk-container-id-9\" class=\"sk-top-container\"><div class=\"sk-text-repr-fallback\"><pre>GradientBoostingRegressor(random_state=42)</pre><b>In a Jupyter environment, please rerun this cell to show the HTML representation or trust the notebook. <br />On GitHub, the HTML representation is unable to render, please try loading this page with nbviewer.org.</b></div><div class=\"sk-container\" hidden><div class=\"sk-item\"><div class=\"sk-estimator sk-toggleable\"><input class=\"sk-toggleable__control sk-hidden--visually\" id=\"sk-estimator-id-11\" type=\"checkbox\" checked><label for=\"sk-estimator-id-11\" class=\"sk-toggleable__label sk-toggleable__label-arrow\">GradientBoostingRegressor</label><div class=\"sk-toggleable__content\"><pre>GradientBoostingRegressor(random_state=42)</pre></div></div></div></div></div>"
      ],
      "text/plain": [
       "GradientBoostingRegressor(random_state=42)"
      ]
     },
     "execution_count": 135,
     "metadata": {},
     "output_type": "execute_result"
    }
   ],
   "source": [
    "# Create and train the Gradient Boosting model\n",
    "gb_model = GradientBoostingRegressor(n_estimators=100, learning_rate=0.1, random_state=42)\n",
    "gb_model.fit(X_train, y_train)"
   ]
  },
  {
   "cell_type": "code",
   "execution_count": 137,
   "id": "a43a7533",
   "metadata": {},
   "outputs": [
    {
     "data": {
      "text/plain": [
       "array([237.15910566, 375.93040306, 193.28021746,  82.65736766,\n",
       "       223.95297872, 166.96991298, 111.36733163, 210.80907549,\n",
       "       163.73274098, 234.94472957, 362.10228465, 247.71363611,\n",
       "       368.77980763,  76.15834197, 325.59918989, 317.07674621,\n",
       "        17.18040355,  66.51763227, 173.19338249,   8.12698571,\n",
       "        19.92726232, 131.84365674, 342.68016091, 336.31201273,\n",
       "       104.9527668 , 350.81386965, 283.00757185, 373.963855  ,\n",
       "       287.76189315,  61.28665141,  80.43006986, 275.39778173,\n",
       "       131.78700258, 243.62417258, 150.82071222, 111.15637038,\n",
       "        18.05506841, 318.61915465,  24.69716771, 259.30023975,\n",
       "       339.74452399, 141.76282334, 240.01694987, 235.39097212,\n",
       "       370.4235227 , 178.14800889, 375.1579616 , 382.75190358,\n",
       "       141.34588203, 231.51179005, 170.06203027, 120.89518868,\n",
       "       261.66080397, 194.85010411, 363.94176793, 146.42209353,\n",
       "       297.55411369,  37.15242105, 281.76627267, 148.33048498,\n",
       "       381.85199362, 303.34863865,  59.77475033, 111.91923226,\n",
       "       158.16740978, 166.31909855,   7.13589387, 278.10067639,\n",
       "       265.71315182,  11.13972874, 182.25902981, 103.96673037,\n",
       "        82.16838004, 196.25829723, 368.29861769, 199.71678677,\n",
       "       204.71509492, 175.53081514, 158.58510637,  90.42359516,\n",
       "       182.07911092, 148.12902576, 219.00176013,  93.60605677,\n",
       "        70.31734747, 123.89516055,  96.79678209, 143.86177475,\n",
       "       365.92781525,  97.5458508 , 221.46420243,  70.12549919,\n",
       "        24.42123478,  37.7435233 , 145.27301276, 122.90587949,\n",
       "        67.49643936, 176.68341779, 219.73244316, 210.80043536,\n",
       "       357.72392093, 306.73194665, 125.70049528, 146.83148649,\n",
       "       226.649324  ,  87.42143276, 325.98569083, 195.43318812,\n",
       "       326.15215579, 364.81062098, 249.22491052, 293.6123414 ,\n",
       "       184.30736041, 193.83248432, 340.11543198, 318.01255249,\n",
       "       272.59063754, 130.00023139,  38.28597861,  12.00885853,\n",
       "       289.69781307, 184.95046653, 322.77239475, 112.63828684,\n",
       "       179.88582988, 322.9669289 , 251.18709844, 117.84758535,\n",
       "       356.54057509, 283.55958895, 371.88282085, 277.65732657,\n",
       "       350.35199007, 165.39582325, 335.98530298, 137.31885661,\n",
       "       155.33940047, 199.92040489, 199.6101501 , 379.9701763 ,\n",
       "         3.21493556, 205.03289693, 116.0051497 , 274.96932475,\n",
       "       228.24816965,  26.93794294, 121.208919  , 297.32287127,\n",
       "       224.32947114, 232.28488715, 304.61411317, 333.61822068,\n",
       "       128.07572198,  74.9130501 , 311.79539635,  30.01712503,\n",
       "        84.23035239, 347.93146921, 107.31273645, 239.1508313 ,\n",
       "       247.40661536, 134.41052467, 184.93607684, 280.99537954,\n",
       "        45.13619988, 354.52146106,  66.13445598, 287.30584613,\n",
       "        85.92060819, 243.24547091, 187.69121453,  70.97631175,\n",
       "       158.73659517,  13.04573707,  35.83728101,  29.43494284,\n",
       "       170.40404208, 143.10737847, 307.67550785, 264.31977245,\n",
       "       221.97999539,  96.28876089,  53.00639699, 241.4057835 ,\n",
       "       290.09179663, 295.58088052, 179.55157149,  41.95585656,\n",
       "       300.61808641, 207.49017823, 256.05596219, 321.6573796 ,\n",
       "         5.17203228, 257.03531501, 345.08529408, 100.43782518,\n",
       "       227.19115277, 376.99543684, 213.95170416, 172.73969713,\n",
       "        99.2479488 , 215.93386703,  61.75111335,  48.23770912,\n",
       "        33.19730667, 268.46593163, 201.03458164, 366.62606355,\n",
       "        27.55492066, 301.53993071, 230.9318174 , 260.6981381 ,\n",
       "       289.32535649, 162.94528906, 342.45137598, 138.1116692 ,\n",
       "        62.36395452, 135.18033515, 129.01881238,   9.01102504,\n",
       "        65.49320699,  14.86211441, 157.10166405,  41.68855566,\n",
       "       354.22842245, 312.93604107, 216.98383472, 280.36821251,\n",
       "       333.86565665, 237.07315802, 207.61103259, 213.51244163,\n",
       "       295.45676233, 351.51511916, 251.8453077 , 378.02495306,\n",
       "       353.34687901, 303.81140128, 270.03192922, 201.06209312,\n",
       "       162.66647053,  44.43041367, 217.99692247, 190.06016137,\n",
       "       310.12797734, 259.76608307, 105.8815584 ,  53.68338966,\n",
       "         2.49733815,  49.03151418,  80.9683314 , 205.07923385,\n",
       "        35.40179444, 263.95654859,  90.86977055,  53.74368066,\n",
       "       264.76260765, 241.90146589,  14.0085382 , 315.9357893 ,\n",
       "        88.42868936, 274.46938548, 166.68774806, 329.40929117,\n",
       "       380.89480834, 134.83644205, 307.0794222 , 370.32239585,\n",
       "       319.67319714, 242.94377902,  54.6177984 ,  50.02960365,\n",
       "       174.8345853 , 189.61726173, 384.69045244, 187.87763875,\n",
       "       170.13835391,  59.28299413,  48.8853819 , 344.72174574,\n",
       "       235.5963005 , 252.78713365,  21.86712782, 314.48657009,\n",
       "       161.84017498, 277.50456082, 193.21181121, 294.32646841,\n",
       "       343.86170986, 258.05733922, 308.69687387, 150.65178374,\n",
       "       130.88205876, 151.14995183, 359.96089446,  99.93693402,\n",
       "       372.71671448,  88.1707243 , 330.22785054, 215.18590898,\n",
       "       122.20106739, 386.71478351,  21.35465768, 189.29791888,\n",
       "        72.07838775, 106.74143791, 270.8968563 , 348.80324764,\n",
       "       103.70114123])"
      ]
     },
     "execution_count": 137,
     "metadata": {},
     "output_type": "execute_result"
    }
   ],
   "source": [
    "y_pred = gb_model.predict(test_data)\n",
    "y_pred"
   ]
  },
  {
   "cell_type": "code",
   "execution_count": 130,
   "id": "7b0df8bf",
   "metadata": {},
   "outputs": [
    {
     "data": {
      "text/html": [
       "<style>#sk-container-id-8 {color: black;background-color: white;}#sk-container-id-8 pre{padding: 0;}#sk-container-id-8 div.sk-toggleable {background-color: white;}#sk-container-id-8 label.sk-toggleable__label {cursor: pointer;display: block;width: 100%;margin-bottom: 0;padding: 0.3em;box-sizing: border-box;text-align: center;}#sk-container-id-8 label.sk-toggleable__label-arrow:before {content: \"▸\";float: left;margin-right: 0.25em;color: #696969;}#sk-container-id-8 label.sk-toggleable__label-arrow:hover:before {color: black;}#sk-container-id-8 div.sk-estimator:hover label.sk-toggleable__label-arrow:before {color: black;}#sk-container-id-8 div.sk-toggleable__content {max-height: 0;max-width: 0;overflow: hidden;text-align: left;background-color: #f0f8ff;}#sk-container-id-8 div.sk-toggleable__content pre {margin: 0.2em;color: black;border-radius: 0.25em;background-color: #f0f8ff;}#sk-container-id-8 input.sk-toggleable__control:checked~div.sk-toggleable__content {max-height: 200px;max-width: 100%;overflow: auto;}#sk-container-id-8 input.sk-toggleable__control:checked~label.sk-toggleable__label-arrow:before {content: \"▾\";}#sk-container-id-8 div.sk-estimator input.sk-toggleable__control:checked~label.sk-toggleable__label {background-color: #d4ebff;}#sk-container-id-8 div.sk-label input.sk-toggleable__control:checked~label.sk-toggleable__label {background-color: #d4ebff;}#sk-container-id-8 input.sk-hidden--visually {border: 0;clip: rect(1px 1px 1px 1px);clip: rect(1px, 1px, 1px, 1px);height: 1px;margin: -1px;overflow: hidden;padding: 0;position: absolute;width: 1px;}#sk-container-id-8 div.sk-estimator {font-family: monospace;background-color: #f0f8ff;border: 1px dotted black;border-radius: 0.25em;box-sizing: border-box;margin-bottom: 0.5em;}#sk-container-id-8 div.sk-estimator:hover {background-color: #d4ebff;}#sk-container-id-8 div.sk-parallel-item::after {content: \"\";width: 100%;border-bottom: 1px solid gray;flex-grow: 1;}#sk-container-id-8 div.sk-label:hover label.sk-toggleable__label {background-color: #d4ebff;}#sk-container-id-8 div.sk-serial::before {content: \"\";position: absolute;border-left: 1px solid gray;box-sizing: border-box;top: 0;bottom: 0;left: 50%;z-index: 0;}#sk-container-id-8 div.sk-serial {display: flex;flex-direction: column;align-items: center;background-color: white;padding-right: 0.2em;padding-left: 0.2em;position: relative;}#sk-container-id-8 div.sk-item {position: relative;z-index: 1;}#sk-container-id-8 div.sk-parallel {display: flex;align-items: stretch;justify-content: center;background-color: white;position: relative;}#sk-container-id-8 div.sk-item::before, #sk-container-id-8 div.sk-parallel-item::before {content: \"\";position: absolute;border-left: 1px solid gray;box-sizing: border-box;top: 0;bottom: 0;left: 50%;z-index: -1;}#sk-container-id-8 div.sk-parallel-item {display: flex;flex-direction: column;z-index: 1;position: relative;background-color: white;}#sk-container-id-8 div.sk-parallel-item:first-child::after {align-self: flex-end;width: 50%;}#sk-container-id-8 div.sk-parallel-item:last-child::after {align-self: flex-start;width: 50%;}#sk-container-id-8 div.sk-parallel-item:only-child::after {width: 0;}#sk-container-id-8 div.sk-dashed-wrapped {border: 1px dashed gray;margin: 0 0.4em 0.5em 0.4em;box-sizing: border-box;padding-bottom: 0.4em;background-color: white;}#sk-container-id-8 div.sk-label label {font-family: monospace;font-weight: bold;display: inline-block;line-height: 1.2em;}#sk-container-id-8 div.sk-label-container {text-align: center;}#sk-container-id-8 div.sk-container {/* jupyter's `normalize.less` sets `[hidden] { display: none; }` but bootstrap.min.css set `[hidden] { display: none !important; }` so we also need the `!important` here to be able to override the default hidden behavior on the sphinx rendered scikit-learn.org. See: https://github.com/scikit-learn/scikit-learn/issues/21755 */display: inline-block !important;position: relative;}#sk-container-id-8 div.sk-text-repr-fallback {display: none;}</style><div id=\"sk-container-id-8\" class=\"sk-top-container\"><div class=\"sk-text-repr-fallback\"><pre>GradientBoostingRegressor(n_estimators=200, random_state=46)</pre><b>In a Jupyter environment, please rerun this cell to show the HTML representation or trust the notebook. <br />On GitHub, the HTML representation is unable to render, please try loading this page with nbviewer.org.</b></div><div class=\"sk-container\" hidden><div class=\"sk-item\"><div class=\"sk-estimator sk-toggleable\"><input class=\"sk-toggleable__control sk-hidden--visually\" id=\"sk-estimator-id-10\" type=\"checkbox\" checked><label for=\"sk-estimator-id-10\" class=\"sk-toggleable__label sk-toggleable__label-arrow\">GradientBoostingRegressor</label><div class=\"sk-toggleable__content\"><pre>GradientBoostingRegressor(n_estimators=200, random_state=46)</pre></div></div></div></div></div>"
      ],
      "text/plain": [
       "GradientBoostingRegressor(n_estimators=200, random_state=46)"
      ]
     },
     "execution_count": 130,
     "metadata": {},
     "output_type": "execute_result"
    }
   ],
   "source": [
    "# Create and train the Gradient Boosting model\n",
    "gb_model = GradientBoostingRegressor(learning_rate= 0.1, n_estimators= 200, random_state=46)\n",
    "gb_model.fit(X_train, y_train)"
   ]
  },
  {
   "cell_type": "code",
   "execution_count": 139,
   "id": "185f2c1b",
   "metadata": {},
   "outputs": [
    {
     "name": "stderr",
     "output_type": "stream",
     "text": [
      "C:\\Users\\Asrar\\anaconda3\\lib\\site-packages\\sklearn\\base.py:443: UserWarning: X has feature names, but GradientBoostingRegressor was fitted without feature names\n",
      "  warnings.warn(\n"
     ]
    },
    {
     "data": {
      "text/plain": [
       "array([2.87270133])"
      ]
     },
     "execution_count": 139,
     "metadata": {},
     "output_type": "execute_result"
    }
   ],
   "source": [
    "# Make predictions on the test set\n",
    "y_pred = gb_model.predict(new_player_data)\n",
    "y_pred"
   ]
  },
  {
   "cell_type": "code",
   "execution_count": 72,
   "id": "8e501f46",
   "metadata": {},
   "outputs": [],
   "source": [
    "import pandas as pd\n",
    "from sklearn.model_selection import GridSearchCV\n",
    "from sklearn.ensemble import GradientBoostingRegressor"
   ]
  },
  {
   "cell_type": "code",
   "execution_count": 92,
   "id": "b87a04b6",
   "metadata": {},
   "outputs": [],
   "source": [
    "\n",
    "# Create a Gradient Boosting Regressor model\n",
    "gb_model = GradientBoostingRegressor(random_state=42)\n",
    "\n",
    "# Define the parameter grid to search through\n",
    "param_grid = {\n",
    "    'n_estimators': [50, 100, 200],        # Number of boosting stages to be used\n",
    "    'learning_rate': [0.01, 0.1, 0.2],   # Step size shrinkage to prevent overfitting\n",
    "    'max_depth': [3, 4, 5]               # Maximum depth of the individual trees\n",
    "}\n",
    "\n",
    "\n"
   ]
  },
  {
   "cell_type": "code",
   "execution_count": 93,
   "id": "baf7d457",
   "metadata": {},
   "outputs": [
    {
     "name": "stdout",
     "output_type": "stream",
     "text": [
      "Best Parameters: {'learning_rate': 0.1, 'max_depth': 4, 'n_estimators': 100}\n",
      "Best Cross-Validated Mean Squared Error: 2.3527816154833245\n"
     ]
    }
   ],
   "source": [
    "# Create a GridSearchCV object\n",
    "grid_search = GridSearchCV(estimator=gb_model, param_grid=param_grid, cv=5, scoring='neg_mean_squared_error')\n",
    "\n",
    "# Fit the model to the data using grid search\n",
    "grid_search.fit(X_train, y_train)\n",
    "\n",
    "# Get the best parameters and best score\n",
    "best_params = grid_search.best_params_\n",
    "best_score = -grid_search.best_score_  # Convert negative MSE to positive\n",
    "\n",
    "print(f\"Best Parameters: {best_params}\")\n",
    "print(f\"Best Cross-Validated Mean Squared Error: {best_score}\")"
   ]
  },
  {
   "cell_type": "code",
   "execution_count": 99,
   "id": "c67d7477",
   "metadata": {},
   "outputs": [],
   "source": [
    "# Make predictions on the test set\n",
    "# Assuming you have a new dataset X_new that you want to make predictions on\n",
    "#y_new_pred = gb_model.predict(X_test)\n",
    "#y_new_pred\n",
    "\n",
    "# The variable y_new_pred now contains the predicted values for the new data.\n"
   ]
  },
  {
   "cell_type": "code",
   "execution_count": 100,
   "id": "833880b8",
   "metadata": {},
   "outputs": [
    {
     "ename": "SyntaxError",
     "evalue": "invalid syntax (Temp/ipykernel_17468/3301928030.py, line 4)",
     "output_type": "error",
     "traceback": [
      "\u001b[1;36m  File \u001b[1;32m\"C:\\Users\\Asrar\\AppData\\Local\\Temp/ipykernel_17468/3301928030.py\"\u001b[1;36m, line \u001b[1;32m4\u001b[0m\n\u001b[1;33m    gb_model = GradientBoostingRegressor(n_estimators=100, learning_rate=0.1,max_depth: 4, random_state=42)\u001b[0m\n\u001b[1;37m                                                                                      ^\u001b[0m\n\u001b[1;31mSyntaxError\u001b[0m\u001b[1;31m:\u001b[0m invalid syntax\n"
     ]
    }
   ],
   "source": [
    "from sklearn.ensemble import GradientBoostingRegressor\n",
    "\n",
    "# Create the Gradient Boosting model with the best parameters\n",
    "gb_model = GradientBoostingRegressor(n_estimators=100, learning_rate=0.1,max_depth: 4, random_state=42)\n",
    "\n",
    "# Fit the model to the training data\n",
    "gb_model.fit(X_train, y_train)\n",
    "\n",
    "# Now that the model is trained, you can make predictions on new data\n",
    "y_new_pred = gb_model.predict(X_test)\n"
   ]
  },
  {
   "cell_type": "code",
   "execution_count": 98,
   "id": "db05e994",
   "metadata": {},
   "outputs": [
    {
     "data": {
      "text/plain": [
       "array([3.1620455])"
      ]
     },
     "execution_count": 98,
     "metadata": {},
     "output_type": "execute_result"
    }
   ],
   "source": [
    "y_new_pred = gb_model.predict(test_data)\n",
    "y_new_pred"
   ]
  },
  {
   "cell_type": "code",
   "execution_count": null,
   "id": "441b89d2",
   "metadata": {},
   "outputs": [],
   "source": []
  },
  {
   "cell_type": "code",
   "execution_count": null,
   "id": "57aabfe5",
   "metadata": {},
   "outputs": [],
   "source": []
  },
  {
   "cell_type": "code",
   "execution_count": null,
   "id": "a13b2e22",
   "metadata": {},
   "outputs": [],
   "source": []
  },
  {
   "cell_type": "code",
   "execution_count": 136,
   "id": "1438c1d8",
   "metadata": {},
   "outputs": [
    {
     "name": "stdout",
     "output_type": "stream",
     "text": [
      "Root Mean Squared Error (RMSE): 1.4231265879669737\n"
     ]
    }
   ],
   "source": [
    "# Calculate the Root Mean Squared Error (RMSE) to evaluate the model\n",
    "rmse = mean_squared_error(y_test, y_pred, squared=False)\n",
    "print(f\"Root Mean Squared Error (RMSE): {rmse}\")"
   ]
  },
  {
   "cell_type": "code",
   "execution_count": 83,
   "id": "c3ce1ffe",
   "metadata": {},
   "outputs": [],
   "source": [
    "import pandas as pd\n",
    "\n",
    "# Create a DataFrame for the test data\n",
    "test_data = pd.DataFrame({'Age': [30.5], 'Elo': [2185.2], 'HardRaw': [2068.0],\n",
    "                                'ClayRaw': [2016.3], 'GrassRaw': [1942.4],\n",
    "                                'HardCourt': [2126.6],\n",
    "                                'ClayCourt': [2100.8],\n",
    "                                'GrassCourt': [2063.8],\n",
    "                                'Peak Age': [28.8], 'Peak Elo': [2470.0]})"
   ]
  },
  {
   "cell_type": "code",
   "execution_count": 138,
   "id": "4297f9d0",
   "metadata": {},
   "outputs": [
    {
     "name": "stdout",
     "output_type": "stream",
     "text": [
      "Predicted Rank: 3.1620455034006065\n"
     ]
    }
   ],
   "source": [
    "# Use the trained model to predict the rank for the new data\n",
    "predicted_rank = gb_model.predict(test_data)\n",
    "print(f\"Predicted Rank: {predicted_rank[0]}\")\n"
   ]
  },
  {
   "cell_type": "code",
   "execution_count": null,
   "id": "88517391",
   "metadata": {},
   "outputs": [],
   "source": []
  },
  {
   "cell_type": "code",
   "execution_count": null,
   "id": "3db1cf64",
   "metadata": {},
   "outputs": [],
   "source": []
  },
  {
   "cell_type": "code",
   "execution_count": null,
   "id": "7c3cba54",
   "metadata": {},
   "outputs": [],
   "source": []
  },
  {
   "cell_type": "code",
   "execution_count": null,
   "id": "baa186e2",
   "metadata": {},
   "outputs": [],
   "source": []
  },
  {
   "cell_type": "code",
   "execution_count": null,
   "id": "8bd3f1e4",
   "metadata": {},
   "outputs": [],
   "source": []
  },
  {
   "cell_type": "code",
   "execution_count": 111,
   "id": "4f707dfb",
   "metadata": {},
   "outputs": [
    {
     "name": "stderr",
     "output_type": "stream",
     "text": [
      "C:\\Users\\Asrar\\AppData\\Local\\Temp/ipykernel_16668/1003983043.py:3: DataConversionWarning: A column-vector y was passed when a 1d array was expected. Please change the shape of y to (n_samples,), for example using ravel().\n",
      "  rf_model.fit(X_train, y_train)\n"
     ]
    },
    {
     "data": {
      "text/html": [
       "<style>#sk-container-id-2 {color: black;background-color: white;}#sk-container-id-2 pre{padding: 0;}#sk-container-id-2 div.sk-toggleable {background-color: white;}#sk-container-id-2 label.sk-toggleable__label {cursor: pointer;display: block;width: 100%;margin-bottom: 0;padding: 0.3em;box-sizing: border-box;text-align: center;}#sk-container-id-2 label.sk-toggleable__label-arrow:before {content: \"▸\";float: left;margin-right: 0.25em;color: #696969;}#sk-container-id-2 label.sk-toggleable__label-arrow:hover:before {color: black;}#sk-container-id-2 div.sk-estimator:hover label.sk-toggleable__label-arrow:before {color: black;}#sk-container-id-2 div.sk-toggleable__content {max-height: 0;max-width: 0;overflow: hidden;text-align: left;background-color: #f0f8ff;}#sk-container-id-2 div.sk-toggleable__content pre {margin: 0.2em;color: black;border-radius: 0.25em;background-color: #f0f8ff;}#sk-container-id-2 input.sk-toggleable__control:checked~div.sk-toggleable__content {max-height: 200px;max-width: 100%;overflow: auto;}#sk-container-id-2 input.sk-toggleable__control:checked~label.sk-toggleable__label-arrow:before {content: \"▾\";}#sk-container-id-2 div.sk-estimator input.sk-toggleable__control:checked~label.sk-toggleable__label {background-color: #d4ebff;}#sk-container-id-2 div.sk-label input.sk-toggleable__control:checked~label.sk-toggleable__label {background-color: #d4ebff;}#sk-container-id-2 input.sk-hidden--visually {border: 0;clip: rect(1px 1px 1px 1px);clip: rect(1px, 1px, 1px, 1px);height: 1px;margin: -1px;overflow: hidden;padding: 0;position: absolute;width: 1px;}#sk-container-id-2 div.sk-estimator {font-family: monospace;background-color: #f0f8ff;border: 1px dotted black;border-radius: 0.25em;box-sizing: border-box;margin-bottom: 0.5em;}#sk-container-id-2 div.sk-estimator:hover {background-color: #d4ebff;}#sk-container-id-2 div.sk-parallel-item::after {content: \"\";width: 100%;border-bottom: 1px solid gray;flex-grow: 1;}#sk-container-id-2 div.sk-label:hover label.sk-toggleable__label {background-color: #d4ebff;}#sk-container-id-2 div.sk-serial::before {content: \"\";position: absolute;border-left: 1px solid gray;box-sizing: border-box;top: 0;bottom: 0;left: 50%;z-index: 0;}#sk-container-id-2 div.sk-serial {display: flex;flex-direction: column;align-items: center;background-color: white;padding-right: 0.2em;padding-left: 0.2em;position: relative;}#sk-container-id-2 div.sk-item {position: relative;z-index: 1;}#sk-container-id-2 div.sk-parallel {display: flex;align-items: stretch;justify-content: center;background-color: white;position: relative;}#sk-container-id-2 div.sk-item::before, #sk-container-id-2 div.sk-parallel-item::before {content: \"\";position: absolute;border-left: 1px solid gray;box-sizing: border-box;top: 0;bottom: 0;left: 50%;z-index: -1;}#sk-container-id-2 div.sk-parallel-item {display: flex;flex-direction: column;z-index: 1;position: relative;background-color: white;}#sk-container-id-2 div.sk-parallel-item:first-child::after {align-self: flex-end;width: 50%;}#sk-container-id-2 div.sk-parallel-item:last-child::after {align-self: flex-start;width: 50%;}#sk-container-id-2 div.sk-parallel-item:only-child::after {width: 0;}#sk-container-id-2 div.sk-dashed-wrapped {border: 1px dashed gray;margin: 0 0.4em 0.5em 0.4em;box-sizing: border-box;padding-bottom: 0.4em;background-color: white;}#sk-container-id-2 div.sk-label label {font-family: monospace;font-weight: bold;display: inline-block;line-height: 1.2em;}#sk-container-id-2 div.sk-label-container {text-align: center;}#sk-container-id-2 div.sk-container {/* jupyter's `normalize.less` sets `[hidden] { display: none; }` but bootstrap.min.css set `[hidden] { display: none !important; }` so we also need the `!important` here to be able to override the default hidden behavior on the sphinx rendered scikit-learn.org. See: https://github.com/scikit-learn/scikit-learn/issues/21755 */display: inline-block !important;position: relative;}#sk-container-id-2 div.sk-text-repr-fallback {display: none;}</style><div id=\"sk-container-id-2\" class=\"sk-top-container\"><div class=\"sk-text-repr-fallback\"><pre>RandomForestRegressor(random_state=42)</pre><b>In a Jupyter environment, please rerun this cell to show the HTML representation or trust the notebook. <br />On GitHub, the HTML representation is unable to render, please try loading this page with nbviewer.org.</b></div><div class=\"sk-container\" hidden><div class=\"sk-item\"><div class=\"sk-estimator sk-toggleable\"><input class=\"sk-toggleable__control sk-hidden--visually\" id=\"sk-estimator-id-2\" type=\"checkbox\" checked><label for=\"sk-estimator-id-2\" class=\"sk-toggleable__label sk-toggleable__label-arrow\">RandomForestRegressor</label><div class=\"sk-toggleable__content\"><pre>RandomForestRegressor(random_state=42)</pre></div></div></div></div></div>"
      ],
      "text/plain": [
       "RandomForestRegressor(random_state=42)"
      ]
     },
     "execution_count": 111,
     "metadata": {},
     "output_type": "execute_result"
    }
   ],
   "source": [
    "# Create and train the Random Forest model\n",
    "rf_model = RandomForestRegressor(n_estimators=100, random_state=42)\n",
    "rf_model.fit(X_train, y_train)"
   ]
  },
  {
   "cell_type": "code",
   "execution_count": 112,
   "id": "0a3b1d59",
   "metadata": {},
   "outputs": [],
   "source": [
    "# Use the trained model to make predictions on the test set\n",
    "y_pred = rf_model.predict(X_test)\n"
   ]
  },
  {
   "cell_type": "code",
   "execution_count": 114,
   "id": "88be427d",
   "metadata": {},
   "outputs": [
    {
     "data": {
      "text/plain": [
       "array([315.36, 150.75,  91.54, 265.33, 210.21, 297.21,  80.71,  99.62,\n",
       "       282.8 ,  31.51,  74.95,  84.38, 226.34,  41.76, 359.74, 256.44,\n",
       "       329.92,  72.92, 248.96, 338.7 ,  54.69, 173.28, 232.83,   8.09,\n",
       "       210.84,  15.5 , 322.76, 158.07, 283.48,   3.69, 379.07,  77.37,\n",
       "        25.42, 122.88, 126.17, 341.1 ,  56.97, 120.16, 329.41, 330.89,\n",
       "        42.92,  48.41, 383.26, 302.18, 119.55, 111.78, 360.08,  53.47,\n",
       "        22.83,  30.85, 222.21, 153.41,  92.97, 250.84,  30.25, 333.63,\n",
       "       201.44, 292.71, 253.38, 268.2 , 311.63, 382.63, 143.06, 182.88,\n",
       "         6.52,  46.52, 110.41, 358.34,  96.54, 356.5 ,  81.2 , 111.16,\n",
       "         6.58,  18.26, 137.19, 273.86, 349.05,  64.68])"
      ]
     },
     "execution_count": 114,
     "metadata": {},
     "output_type": "execute_result"
    }
   ],
   "source": [
    "y_pred"
   ]
  },
  {
   "cell_type": "code",
   "execution_count": 115,
   "id": "222e7f7d",
   "metadata": {},
   "outputs": [
    {
     "name": "stdout",
     "output_type": "stream",
     "text": [
      "Mean Absolute Error: 1.3787179487179504\n",
      "Mean Squared Error: 2.648484615384621\n",
      "R-squared: 0.9998191912231592\n"
     ]
    }
   ],
   "source": [
    "from sklearn.metrics import mean_absolute_error, mean_squared_error, r2_score\n",
    "\n",
    "# Evaluate the model\n",
    "mae = mean_absolute_error(y_test, y_pred)\n",
    "mse = mean_squared_error(y_test, y_pred)\n",
    "r2 = r2_score(y_test, y_pred)\n",
    "\n",
    "print(f\"Mean Absolute Error: {mae}\")\n",
    "print(f\"Mean Squared Error: {mse}\")\n",
    "print(f\"R-squared: {r2}\")\n"
   ]
  },
  {
   "cell_type": "code",
   "execution_count": null,
   "id": "a9c5d181",
   "metadata": {},
   "outputs": [],
   "source": []
  },
  {
   "cell_type": "code",
   "execution_count": 100,
   "id": "20676b66",
   "metadata": {},
   "outputs": [
    {
     "name": "stdout",
     "output_type": "stream",
     "text": [
      "Mean Squared Error: 919.0010302365291\n",
      "R-squared: 0.9372609335816715\n"
     ]
    }
   ],
   "source": [
    "# Split the dataset into training and testing sets (adjust the test_size as needed)\n",
    "X_train, X_test, y_train, y_test = train_test_split(X, y, test_size=0.2, random_state=42)\n",
    "\n",
    "# Create a linear regression model\n",
    "model = LinearRegression()\n",
    "\n",
    "# Fit the model to the training data\n",
    "model.fit(X_train, y_train)\n",
    "\n",
    "# Make predictions on the test data\n",
    "y_pred = model.predict(X_test)\n",
    "\n",
    "# Evaluate the model using metrics (MSE and R-squared)\n",
    "mse = mean_squared_error(y_test, y_pred)\n",
    "r_squared = r2_score(y_test, y_pred)\n",
    "\n",
    "# Print the evaluation results\n",
    "print(f\"Mean Squared Error: {mse}\")\n",
    "print(f\"R-squared: {r_squared}\")\n"
   ]
  },
  {
   "cell_type": "code",
   "execution_count": 120,
   "id": "7c86a2e0",
   "metadata": {},
   "outputs": [],
   "source": [
    "# Now, you can make rank predictions for new player data\n",
    "import pandas as pd\n",
    "\n",
    "# Create a DataFrame for the test data\n",
    "test_data = pd.DataFrame({'Age': [30.5], 'Elo': [2185.2], 'HardRaw': [2068.0],\n",
    "                                'ClayRaw': [2016.3], 'GrassRaw': [1942.4],\n",
    "                                'HardCourt': [2126.6],\n",
    "                                'ClayCourt': [2100.8],\n",
    "                                'GrassCourt': [2063.8],\n",
    "                                'Peak Age': [28.8], 'Peak Elo': [2470.0]})\n"
   ]
  },
  {
   "cell_type": "code",
   "execution_count": 121,
   "id": "239f3701",
   "metadata": {},
   "outputs": [
    {
     "name": "stdout",
     "output_type": "stream",
     "text": [
      "Predicted Rank: 3.69\n"
     ]
    }
   ],
   "source": [
    "# Use the trained model to predict the rank for the test data\n",
    "predicted_rank = rf_model.predict(test_data)\n",
    "\n",
    "print(f\"Predicted Rank: {predicted_rank[0]}\")\n"
   ]
  },
  {
   "cell_type": "code",
   "execution_count": null,
   "id": "419fccd8",
   "metadata": {},
   "outputs": [],
   "source": []
  },
  {
   "cell_type": "code",
   "execution_count": null,
   "id": "8cb0b3d0",
   "metadata": {},
   "outputs": [],
   "source": []
  },
  {
   "cell_type": "code",
   "execution_count": 102,
   "id": "5d034efe",
   "metadata": {},
   "outputs": [
    {
     "name": "stdout",
     "output_type": "stream",
     "text": [
      "Predicted Rank: [-154.81800492]\n"
     ]
    }
   ],
   "source": [
    "predicted_rank = model.predict(new_player_data)\n",
    "print(f\"Predicted Rank: {predicted_rank[0]}\")"
   ]
  },
  {
   "cell_type": "code",
   "execution_count": null,
   "id": "4c352f03",
   "metadata": {},
   "outputs": [],
   "source": []
  },
  {
   "cell_type": "code",
   "execution_count": null,
   "id": "740a64e6",
   "metadata": {},
   "outputs": [],
   "source": []
  },
  {
   "cell_type": "code",
   "execution_count": null,
   "id": "9da9f953",
   "metadata": {},
   "outputs": [],
   "source": []
  },
  {
   "cell_type": "code",
   "execution_count": 63,
   "id": "e9b99544",
   "metadata": {},
   "outputs": [],
   "source": [
    "model = LinearRegression()"
   ]
  },
  {
   "cell_type": "code",
   "execution_count": 64,
   "id": "aa32fbeb",
   "metadata": {},
   "outputs": [
    {
     "data": {
      "text/html": [
       "<style>#sk-container-id-1 {color: black;background-color: white;}#sk-container-id-1 pre{padding: 0;}#sk-container-id-1 div.sk-toggleable {background-color: white;}#sk-container-id-1 label.sk-toggleable__label {cursor: pointer;display: block;width: 100%;margin-bottom: 0;padding: 0.3em;box-sizing: border-box;text-align: center;}#sk-container-id-1 label.sk-toggleable__label-arrow:before {content: \"▸\";float: left;margin-right: 0.25em;color: #696969;}#sk-container-id-1 label.sk-toggleable__label-arrow:hover:before {color: black;}#sk-container-id-1 div.sk-estimator:hover label.sk-toggleable__label-arrow:before {color: black;}#sk-container-id-1 div.sk-toggleable__content {max-height: 0;max-width: 0;overflow: hidden;text-align: left;background-color: #f0f8ff;}#sk-container-id-1 div.sk-toggleable__content pre {margin: 0.2em;color: black;border-radius: 0.25em;background-color: #f0f8ff;}#sk-container-id-1 input.sk-toggleable__control:checked~div.sk-toggleable__content {max-height: 200px;max-width: 100%;overflow: auto;}#sk-container-id-1 input.sk-toggleable__control:checked~label.sk-toggleable__label-arrow:before {content: \"▾\";}#sk-container-id-1 div.sk-estimator input.sk-toggleable__control:checked~label.sk-toggleable__label {background-color: #d4ebff;}#sk-container-id-1 div.sk-label input.sk-toggleable__control:checked~label.sk-toggleable__label {background-color: #d4ebff;}#sk-container-id-1 input.sk-hidden--visually {border: 0;clip: rect(1px 1px 1px 1px);clip: rect(1px, 1px, 1px, 1px);height: 1px;margin: -1px;overflow: hidden;padding: 0;position: absolute;width: 1px;}#sk-container-id-1 div.sk-estimator {font-family: monospace;background-color: #f0f8ff;border: 1px dotted black;border-radius: 0.25em;box-sizing: border-box;margin-bottom: 0.5em;}#sk-container-id-1 div.sk-estimator:hover {background-color: #d4ebff;}#sk-container-id-1 div.sk-parallel-item::after {content: \"\";width: 100%;border-bottom: 1px solid gray;flex-grow: 1;}#sk-container-id-1 div.sk-label:hover label.sk-toggleable__label {background-color: #d4ebff;}#sk-container-id-1 div.sk-serial::before {content: \"\";position: absolute;border-left: 1px solid gray;box-sizing: border-box;top: 0;bottom: 0;left: 50%;z-index: 0;}#sk-container-id-1 div.sk-serial {display: flex;flex-direction: column;align-items: center;background-color: white;padding-right: 0.2em;padding-left: 0.2em;position: relative;}#sk-container-id-1 div.sk-item {position: relative;z-index: 1;}#sk-container-id-1 div.sk-parallel {display: flex;align-items: stretch;justify-content: center;background-color: white;position: relative;}#sk-container-id-1 div.sk-item::before, #sk-container-id-1 div.sk-parallel-item::before {content: \"\";position: absolute;border-left: 1px solid gray;box-sizing: border-box;top: 0;bottom: 0;left: 50%;z-index: -1;}#sk-container-id-1 div.sk-parallel-item {display: flex;flex-direction: column;z-index: 1;position: relative;background-color: white;}#sk-container-id-1 div.sk-parallel-item:first-child::after {align-self: flex-end;width: 50%;}#sk-container-id-1 div.sk-parallel-item:last-child::after {align-self: flex-start;width: 50%;}#sk-container-id-1 div.sk-parallel-item:only-child::after {width: 0;}#sk-container-id-1 div.sk-dashed-wrapped {border: 1px dashed gray;margin: 0 0.4em 0.5em 0.4em;box-sizing: border-box;padding-bottom: 0.4em;background-color: white;}#sk-container-id-1 div.sk-label label {font-family: monospace;font-weight: bold;display: inline-block;line-height: 1.2em;}#sk-container-id-1 div.sk-label-container {text-align: center;}#sk-container-id-1 div.sk-container {/* jupyter's `normalize.less` sets `[hidden] { display: none; }` but bootstrap.min.css set `[hidden] { display: none !important; }` so we also need the `!important` here to be able to override the default hidden behavior on the sphinx rendered scikit-learn.org. See: https://github.com/scikit-learn/scikit-learn/issues/21755 */display: inline-block !important;position: relative;}#sk-container-id-1 div.sk-text-repr-fallback {display: none;}</style><div id=\"sk-container-id-1\" class=\"sk-top-container\"><div class=\"sk-text-repr-fallback\"><pre>LinearRegression()</pre><b>In a Jupyter environment, please rerun this cell to show the HTML representation or trust the notebook. <br />On GitHub, the HTML representation is unable to render, please try loading this page with nbviewer.org.</b></div><div class=\"sk-container\" hidden><div class=\"sk-item\"><div class=\"sk-estimator sk-toggleable\"><input class=\"sk-toggleable__control sk-hidden--visually\" id=\"sk-estimator-id-1\" type=\"checkbox\" checked><label for=\"sk-estimator-id-1\" class=\"sk-toggleable__label sk-toggleable__label-arrow\">LinearRegression</label><div class=\"sk-toggleable__content\"><pre>LinearRegression()</pre></div></div></div></div></div>"
      ],
      "text/plain": [
       "LinearRegression()"
      ]
     },
     "execution_count": 64,
     "metadata": {},
     "output_type": "execute_result"
    }
   ],
   "source": [
    "# Fit the model to the training data\n",
    "model.fit(X, y)"
   ]
  },
  {
   "cell_type": "code",
   "execution_count": null,
   "id": "f09c9f7f",
   "metadata": {},
   "outputs": [],
   "source": [
    "X = df[[\"Age\",\"Elo\",\"HardRaw\",\"ClayRaw\",\"GrassRaw\",\"HardCourt\",\n",
    "        \"ClayCourt\",\"GrassCourt\",\"Peak Age\",\"Peak Elo\"]]"
   ]
  },
  {
   "cell_type": "code",
   "execution_count": 138,
   "id": "9e6c2c28",
   "metadata": {},
   "outputs": [],
   "source": [
    "# Now, you can make rank predictions for new player data\n",
    "new_player_data = pd.DataFrame({'Age': [30.5], 'Elo': [2185.2], 'HardRaw': [2068.0],\n",
    "                                'ClayRaw': [2016.3], 'GrassRaw': [1942.4],\n",
    "                                'HardCourt': [2126.6],\n",
    "                                'ClayCourt': [2100.8],\n",
    "                                'GrassCourt': [2063.8],\n",
    "                                'Peak Age': [28.8], 'Peak Elo': [2470.0]})\n"
   ]
  },
  {
   "cell_type": "code",
   "execution_count": 78,
   "id": "071ebcc1",
   "metadata": {},
   "outputs": [],
   "source": [
    "# Predict the rank for the new player data\n",
    "predicted_rank = model.predict(new_player_data)"
   ]
  },
  {
   "cell_type": "code",
   "execution_count": null,
   "id": "ee283290",
   "metadata": {},
   "outputs": [],
   "source": []
  },
  {
   "cell_type": "code",
   "execution_count": 79,
   "id": "59065996",
   "metadata": {},
   "outputs": [
    {
     "data": {
      "text/html": [
       "<div>\n",
       "<style scoped>\n",
       "    .dataframe tbody tr th:only-of-type {\n",
       "        vertical-align: middle;\n",
       "    }\n",
       "\n",
       "    .dataframe tbody tr th {\n",
       "        vertical-align: top;\n",
       "    }\n",
       "\n",
       "    .dataframe thead th {\n",
       "        text-align: right;\n",
       "    }\n",
       "</style>\n",
       "<table border=\"1\" class=\"dataframe\">\n",
       "  <thead>\n",
       "    <tr style=\"text-align: right;\">\n",
       "      <th></th>\n",
       "      <th>Player</th>\n",
       "      <th>Age</th>\n",
       "      <th>Elo</th>\n",
       "      <th>HardRaw</th>\n",
       "      <th>ClayRaw</th>\n",
       "      <th>GrassRaw</th>\n",
       "      <th>HardCourt</th>\n",
       "      <th>ClayCourt</th>\n",
       "      <th>GrassCourt</th>\n",
       "      <th>Peak Match</th>\n",
       "      <th>Peak Age</th>\n",
       "      <th>Peak Elo</th>\n",
       "      <th>Gender</th>\n",
       "      <th>Rank</th>\n",
       "    </tr>\n",
       "  </thead>\n",
       "  <tbody>\n",
       "    <tr>\n",
       "      <th>0</th>\n",
       "      <td>Novak Djokovic</td>\n",
       "      <td>34.5</td>\n",
       "      <td>2185.2</td>\n",
       "      <td>2068.0</td>\n",
       "      <td>2016.3</td>\n",
       "      <td>1942.4</td>\n",
       "      <td>2126.6</td>\n",
       "      <td>2100.8</td>\n",
       "      <td>2063.8</td>\n",
       "      <td>2016 Miami F</td>\n",
       "      <td>28.8</td>\n",
       "      <td>2470.0</td>\n",
       "      <td>Male</td>\n",
       "      <td>1</td>\n",
       "    </tr>\n",
       "  </tbody>\n",
       "</table>\n",
       "</div>"
      ],
      "text/plain": [
       "           Player   Age     Elo  HardRaw  ClayRaw  GrassRaw  HardCourt  \\\n",
       "0  Novak Djokovic  34.5  2185.2   2068.0   2016.3    1942.4     2126.6   \n",
       "\n",
       "   ClayCourt  GrassCourt    Peak Match  Peak Age  Peak Elo Gender  Rank  \n",
       "0     2100.8      2063.8  2016 Miami F      28.8    2470.0   Male     1  "
      ]
     },
     "execution_count": 79,
     "metadata": {},
     "output_type": "execute_result"
    }
   ],
   "source": [
    "df.head(1)"
   ]
  },
  {
   "cell_type": "code",
   "execution_count": 80,
   "id": "04b4537a",
   "metadata": {},
   "outputs": [
    {
     "name": "stdout",
     "output_type": "stream",
     "text": [
      "Predicted Rank: [-134.0194197]\n"
     ]
    }
   ],
   "source": [
    "# Print the predicted rank\n",
    "print(f\"Predicted Rank: {predicted_rank[0]}\")"
   ]
  },
  {
   "cell_type": "code",
   "execution_count": null,
   "id": "4435e1c2",
   "metadata": {},
   "outputs": [],
   "source": []
  },
  {
   "cell_type": "code",
   "execution_count": null,
   "id": "623444cf",
   "metadata": {},
   "outputs": [],
   "source": []
  },
  {
   "cell_type": "code",
   "execution_count": null,
   "id": "93f97282",
   "metadata": {},
   "outputs": [],
   "source": []
  },
  {
   "cell_type": "code",
   "execution_count": null,
   "id": "056db198",
   "metadata": {},
   "outputs": [],
   "source": []
  },
  {
   "cell_type": "code",
   "execution_count": null,
   "id": "4d39c52d",
   "metadata": {},
   "outputs": [],
   "source": [
    "x_train = df.drop(['HOUSING_VALUE'],axis=1)\n",
    "y_train = df['HOUSING_VALUE']"
   ]
  },
  {
   "cell_type": "code",
   "execution_count": null,
   "id": "4c53a96d",
   "metadata": {},
   "outputs": [],
   "source": []
  },
  {
   "cell_type": "code",
   "execution_count": null,
   "id": "aeb51bae",
   "metadata": {},
   "outputs": [],
   "source": []
  },
  {
   "cell_type": "code",
   "execution_count": 7,
   "id": "e1cfc200",
   "metadata": {},
   "outputs": [],
   "source": [
    "X = data.drop(['Rank'],axis=1)\n",
    "\n",
    "# Define the target variable (dependent variable), which is 'Rank'\n",
    "y = data['Rank']"
   ]
  },
  {
   "cell_type": "code",
   "execution_count": 8,
   "id": "f9c343bc",
   "metadata": {},
   "outputs": [],
   "source": [
    "X_train, X_test, y_train, y_test = train_test_split(X, y, test_size=0.2, random_state=42)"
   ]
  },
  {
   "cell_type": "code",
   "execution_count": null,
   "id": "b5ff4845",
   "metadata": {},
   "outputs": [],
   "source": []
  },
  {
   "cell_type": "code",
   "execution_count": 10,
   "id": "e39b5540",
   "metadata": {},
   "outputs": [
    {
     "ename": "KeyError",
     "evalue": "\"['clay-court elo rating', 'grass-court elo rating', 'Peak Age', 'Peak Elo'] not in index\"",
     "output_type": "error",
     "traceback": [
      "\u001b[1;31m---------------------------------------------------------------------------\u001b[0m",
      "\u001b[1;31mKeyError\u001b[0m                                  Traceback (most recent call last)",
      "\u001b[1;32m~\\AppData\\Local\\Temp/ipykernel_5948/86778717.py\u001b[0m in \u001b[0;36m<module>\u001b[1;34m\u001b[0m\n\u001b[1;32m----> 1\u001b[1;33m X = data[['Age', 'Elo', 'HardRaw', 'ClayRaw', 'GrassRaw', 'hard court elo rating',\n\u001b[0m\u001b[0;32m      2\u001b[0m           'clay-court elo rating', 'grass-court elo rating', 'Peak Age', 'Peak Elo']]\n",
      "\u001b[1;32m~\\anaconda3\\lib\\site-packages\\pandas\\core\\frame.py\u001b[0m in \u001b[0;36m__getitem__\u001b[1;34m(self, key)\u001b[0m\n\u001b[0;32m   3811\u001b[0m             \u001b[1;32mif\u001b[0m \u001b[0mis_iterator\u001b[0m\u001b[1;33m(\u001b[0m\u001b[0mkey\u001b[0m\u001b[1;33m)\u001b[0m\u001b[1;33m:\u001b[0m\u001b[1;33m\u001b[0m\u001b[1;33m\u001b[0m\u001b[0m\n\u001b[0;32m   3812\u001b[0m                 \u001b[0mkey\u001b[0m \u001b[1;33m=\u001b[0m \u001b[0mlist\u001b[0m\u001b[1;33m(\u001b[0m\u001b[0mkey\u001b[0m\u001b[1;33m)\u001b[0m\u001b[1;33m\u001b[0m\u001b[1;33m\u001b[0m\u001b[0m\n\u001b[1;32m-> 3813\u001b[1;33m             \u001b[0mindexer\u001b[0m \u001b[1;33m=\u001b[0m \u001b[0mself\u001b[0m\u001b[1;33m.\u001b[0m\u001b[0mcolumns\u001b[0m\u001b[1;33m.\u001b[0m\u001b[0m_get_indexer_strict\u001b[0m\u001b[1;33m(\u001b[0m\u001b[0mkey\u001b[0m\u001b[1;33m,\u001b[0m \u001b[1;34m\"columns\"\u001b[0m\u001b[1;33m)\u001b[0m\u001b[1;33m[\u001b[0m\u001b[1;36m1\u001b[0m\u001b[1;33m]\u001b[0m\u001b[1;33m\u001b[0m\u001b[1;33m\u001b[0m\u001b[0m\n\u001b[0m\u001b[0;32m   3814\u001b[0m \u001b[1;33m\u001b[0m\u001b[0m\n\u001b[0;32m   3815\u001b[0m         \u001b[1;31m# take() does not accept boolean indexers\u001b[0m\u001b[1;33m\u001b[0m\u001b[1;33m\u001b[0m\u001b[1;33m\u001b[0m\u001b[0m\n",
      "\u001b[1;32m~\\anaconda3\\lib\\site-packages\\pandas\\core\\indexes\\base.py\u001b[0m in \u001b[0;36m_get_indexer_strict\u001b[1;34m(self, key, axis_name)\u001b[0m\n\u001b[0;32m   6068\u001b[0m             \u001b[0mkeyarr\u001b[0m\u001b[1;33m,\u001b[0m \u001b[0mindexer\u001b[0m\u001b[1;33m,\u001b[0m \u001b[0mnew_indexer\u001b[0m \u001b[1;33m=\u001b[0m \u001b[0mself\u001b[0m\u001b[1;33m.\u001b[0m\u001b[0m_reindex_non_unique\u001b[0m\u001b[1;33m(\u001b[0m\u001b[0mkeyarr\u001b[0m\u001b[1;33m)\u001b[0m\u001b[1;33m\u001b[0m\u001b[1;33m\u001b[0m\u001b[0m\n\u001b[0;32m   6069\u001b[0m \u001b[1;33m\u001b[0m\u001b[0m\n\u001b[1;32m-> 6070\u001b[1;33m         \u001b[0mself\u001b[0m\u001b[1;33m.\u001b[0m\u001b[0m_raise_if_missing\u001b[0m\u001b[1;33m(\u001b[0m\u001b[0mkeyarr\u001b[0m\u001b[1;33m,\u001b[0m \u001b[0mindexer\u001b[0m\u001b[1;33m,\u001b[0m \u001b[0maxis_name\u001b[0m\u001b[1;33m)\u001b[0m\u001b[1;33m\u001b[0m\u001b[1;33m\u001b[0m\u001b[0m\n\u001b[0m\u001b[0;32m   6071\u001b[0m \u001b[1;33m\u001b[0m\u001b[0m\n\u001b[0;32m   6072\u001b[0m         \u001b[0mkeyarr\u001b[0m \u001b[1;33m=\u001b[0m \u001b[0mself\u001b[0m\u001b[1;33m.\u001b[0m\u001b[0mtake\u001b[0m\u001b[1;33m(\u001b[0m\u001b[0mindexer\u001b[0m\u001b[1;33m)\u001b[0m\u001b[1;33m\u001b[0m\u001b[1;33m\u001b[0m\u001b[0m\n",
      "\u001b[1;32m~\\anaconda3\\lib\\site-packages\\pandas\\core\\indexes\\base.py\u001b[0m in \u001b[0;36m_raise_if_missing\u001b[1;34m(self, key, indexer, axis_name)\u001b[0m\n\u001b[0;32m   6131\u001b[0m \u001b[1;33m\u001b[0m\u001b[0m\n\u001b[0;32m   6132\u001b[0m             \u001b[0mnot_found\u001b[0m \u001b[1;33m=\u001b[0m \u001b[0mlist\u001b[0m\u001b[1;33m(\u001b[0m\u001b[0mensure_index\u001b[0m\u001b[1;33m(\u001b[0m\u001b[0mkey\u001b[0m\u001b[1;33m)\u001b[0m\u001b[1;33m[\u001b[0m\u001b[0mmissing_mask\u001b[0m\u001b[1;33m.\u001b[0m\u001b[0mnonzero\u001b[0m\u001b[1;33m(\u001b[0m\u001b[1;33m)\u001b[0m\u001b[1;33m[\u001b[0m\u001b[1;36m0\u001b[0m\u001b[1;33m]\u001b[0m\u001b[1;33m]\u001b[0m\u001b[1;33m.\u001b[0m\u001b[0munique\u001b[0m\u001b[1;33m(\u001b[0m\u001b[1;33m)\u001b[0m\u001b[1;33m)\u001b[0m\u001b[1;33m\u001b[0m\u001b[1;33m\u001b[0m\u001b[0m\n\u001b[1;32m-> 6133\u001b[1;33m             \u001b[1;32mraise\u001b[0m \u001b[0mKeyError\u001b[0m\u001b[1;33m(\u001b[0m\u001b[1;34mf\"{not_found} not in index\"\u001b[0m\u001b[1;33m)\u001b[0m\u001b[1;33m\u001b[0m\u001b[1;33m\u001b[0m\u001b[0m\n\u001b[0m\u001b[0;32m   6134\u001b[0m \u001b[1;33m\u001b[0m\u001b[0m\n\u001b[0;32m   6135\u001b[0m     \u001b[1;33m@\u001b[0m\u001b[0moverload\u001b[0m\u001b[1;33m\u001b[0m\u001b[1;33m\u001b[0m\u001b[0m\n",
      "\u001b[1;31mKeyError\u001b[0m: \"['clay-court elo rating', 'grass-court elo rating', 'Peak Age', 'Peak Elo'] not in index\""
     ]
    }
   ],
   "source": [
    "X = data[['Age', 'Elo', 'HardRaw', 'ClayRaw', 'GrassRaw', 'hard court elo rating',\n",
    "          'clay-court elo rating', 'grass-court elo rating', 'Peak Age', 'Peak Elo']]\n"
   ]
  },
  {
   "cell_type": "code",
   "execution_count": null,
   "id": "0eb57f0a",
   "metadata": {},
   "outputs": [],
   "source": []
  },
  {
   "cell_type": "code",
   "execution_count": null,
   "id": "9a20d316",
   "metadata": {},
   "outputs": [],
   "source": []
  },
  {
   "cell_type": "code",
   "execution_count": null,
   "id": "44173b32",
   "metadata": {},
   "outputs": [],
   "source": []
  },
  {
   "cell_type": "code",
   "execution_count": null,
   "id": "e21becd2",
   "metadata": {},
   "outputs": [],
   "source": []
  },
  {
   "cell_type": "code",
   "execution_count": null,
   "id": "e7935ef0",
   "metadata": {},
   "outputs": [],
   "source": []
  },
  {
   "cell_type": "code",
   "execution_count": null,
   "id": "ff31ec75",
   "metadata": {},
   "outputs": [],
   "source": [
    "import pandas as pd\n",
    "from sklearn.model_selection import train_test_split\n",
    "from sklearn.linear_model import LinearRegression\n",
    "from sklearn.metrics import mean_squared_error, r2_score\n",
    "\n",
    "# Load the dataset (replace 'data.csv' with the actual path to your dataset)\n",
    "data = pd.read_csv('data.csv')\n",
    "\n",
    "# Select relevant features (independent variables) for the prediction\n",
    "# Here, we are using 'Age', 'Elo', 'HardRaw', 'ClayRaw', 'GrassRaw', 'hard court elo rating',\n",
    "# 'clay-court elo rating', 'grass-court elo rating', 'Peak Age', and 'Peak Elo' as features.\n",
    "X = data[['Age', 'Elo', 'HardRaw', 'ClayRaw', 'GrassRaw', 'hard court elo rating',\n",
    "          'clay-court elo rating', 'grass-court elo rating', 'Peak Age', 'Peak Elo']]\n",
    "\n",
    "# Define the target variable (dependent variable), which is 'Rank'\n",
    "y = data['Rank']\n",
    "\n",
    "# Split the dataset into training and testing sets (adjust the test_size as needed)\n",
    "X_train, X_test, y_train, y_test = train_test_split(X, y, test_size=0.2, random_state=42)\n",
    "\n",
    "# Create a linear regression model\n",
    "model = LinearRegression()\n",
    "\n",
    "# Fit the model to the training data\n",
    "model.fit(X_train, y_train)\n",
    "\n",
    "# Make predictions on the test data\n",
    "y_pred = model.predict(X_test)\n",
    "\n",
    "# Evaluate the model using metrics (MSE and R-squared)\n",
    "mse = mean_squared_error(y_test, y_pred)\n",
    "r_squared = r2_score(y_test, y_pred)\n",
    "\n",
    "# Print the evaluation results\n",
    "print(f\"Mean Squared Error: {mse}\")\n",
    "print(f\"R-squared: {r_squared}\")\n",
    "\n",
    "# Now, you can use the trained model to make rank predictions for new data\n",
    "# For example, you can predict the rank for a new player's data as follows:\n",
    "new_player_data = pd.DataFrame({'Age': [30.0], 'Elo': [2100.0], 'HardRaw': [2000.0],\n",
    "                                'ClayRaw': [1900.0], 'GrassRaw': [1800.0],\n",
    "                                'hard court elo rating': [2080.0],\n",
    "                                'clay-court elo rating': [1950.0],\n",
    "                                'grass-court elo rating': [1850.0],\n",
    "                                'Peak Age': [28.0], 'Peak Elo': [2200.0]})\n",
    "predicted_rank = model.predict(new_player_data)\n",
    "print(f\"Predicted Rank: {predicted_rank[0]}\")\n"
   ]
  },
  {
   "cell_type": "code",
   "execution_count": 97,
   "id": "1e8e7789",
   "metadata": {},
   "outputs": [],
   "source": [
    "new_player_data = pd.DataFrame({'Age': [30.0], 'Elo': [2100.0], 'HardRaw': [2000.0],\n",
    "                                'ClayRaw': [1900.0], 'GrassRaw': [1800.0],\n",
    "                                'hard court elo rating': [2080.0],\n",
    "                                'clay-court elo rating': [1950.0],\n",
    "                                'grass-court elo rating': [1850.0],\n",
    "                                'Peak Age': [28.0], 'Peak Elo': [2200.0],'Gender':[1],'Rank':[1] })"
   ]
  },
  {
   "cell_type": "code",
   "execution_count": 159,
   "id": "325b95e6",
   "metadata": {},
   "outputs": [
    {
     "name": "stdout",
     "output_type": "stream",
     "text": [
      "Mean Squared Error: 919.0010302365291\n",
      "Mean Absolute Error: 21.37129285093333\n",
      "R-squared: 0.9372609335816715\n"
     ]
    }
   ],
   "source": [
    "import pandas as pd\n",
    "from sklearn.model_selection import train_test_split\n",
    "from sklearn.linear_model import LinearRegression\n",
    "from sklearn.metrics import mean_squared_error, mean_absolute_error, r2_score\n",
    "\n",
    "# Load your data and preprocess it (if needed)\n",
    "# Replace this with your data loading and preprocessing code\n",
    "\n",
    "# Split the data into training and testing sets\n",
    "X_train, X_test, y_train, y_test = train_test_split(X, y, test_size=0.2, random_state=42)\n",
    "\n",
    "# Create and fit a linear regression model with the best parameters\n",
    "model = LinearRegression()\n",
    "model.fit(X_train, y_train)\n",
    "\n",
    "# Make predictions on the test data\n",
    "y_pred = model.predict(X_test)\n",
    "\n",
    "# Evaluate the model using appropriate metrics\n",
    "mse = mean_squared_error(y_test, y_pred)\n",
    "mae = mean_absolute_error(y_test, y_pred)\n",
    "r2 = r2_score(y_test, y_pred)\n",
    "\n",
    "print(f\"Mean Squared Error: {mse}\")\n",
    "print(f\"Mean Absolute Error: {mae}\")\n",
    "print(f\"R-squared: {r2}\")\n",
    "\n",
    "# Now you can use the model to predict the rank for new data\n",
    "# For example, to predict rank for a new player, use model.predict(new_data).\n"
   ]
  },
  {
   "cell_type": "code",
   "execution_count": 160,
   "id": "ef9b6c3a",
   "metadata": {},
   "outputs": [
    {
     "data": {
      "text/plain": [
       "array([-154.81800492])"
      ]
     },
     "execution_count": 160,
     "metadata": {},
     "output_type": "execute_result"
    }
   ],
   "source": [
    "y_pred = model.predict(test_data)\n",
    "y_pred"
   ]
  },
  {
   "cell_type": "code",
   "execution_count": null,
   "id": "65738452",
   "metadata": {},
   "outputs": [],
   "source": []
  },
  {
   "cell_type": "code",
   "execution_count": null,
   "id": "a76bd724",
   "metadata": {},
   "outputs": [],
   "source": []
  },
  {
   "cell_type": "code",
   "execution_count": null,
   "id": "d21cd6ec",
   "metadata": {},
   "outputs": [],
   "source": []
  },
  {
   "cell_type": "code",
   "execution_count": null,
   "id": "1543d117",
   "metadata": {},
   "outputs": [],
   "source": []
  },
  {
   "cell_type": "code",
   "execution_count": null,
   "id": "3261fce5",
   "metadata": {},
   "outputs": [],
   "source": []
  },
  {
   "cell_type": "code",
   "execution_count": null,
   "id": "15742b5b",
   "metadata": {},
   "outputs": [],
   "source": []
  }
 ],
 "metadata": {
  "kernelspec": {
   "display_name": "Python 3 (ipykernel)",
   "language": "python",
   "name": "python3"
  },
  "language_info": {
   "codemirror_mode": {
    "name": "ipython",
    "version": 3
   },
   "file_extension": ".py",
   "mimetype": "text/x-python",
   "name": "python",
   "nbconvert_exporter": "python",
   "pygments_lexer": "ipython3",
   "version": "3.8.12"
  }
 },
 "nbformat": 4,
 "nbformat_minor": 5
}
